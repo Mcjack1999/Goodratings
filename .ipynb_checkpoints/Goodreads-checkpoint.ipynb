{
 "cells": [
  {
   "cell_type": "markdown",
   "id": "89f223c3-125a-4da4-accb-d22d980ffe1f",
   "metadata": {},
   "source": [
    "# Goodreads Book Reviews Analysis - Numerical Data Exploration\n",
    "\n",
    "## Project Overview\n",
    "This project aims to analyze **Goodreads book reviews**, focusing on **1-star ratings** to understand patterns in harsh reviews. The analysis is divided into two parts:\n",
    "1. **Numerical Data Analysis** (Current Stage) - Examining numerical factors such as star ratings, review counts, and genre distributions.\n",
    "2. **Natural Language Processing (NLP) Analysis** (Next Stage) - Exploring book descriptions and text reviews to identify sentiment patterns."
   ]
  },
  {
   "cell_type": "markdown",
   "id": "9a057dee-934a-49ef-813a-0f63b2e77875",
   "metadata": {},
   "source": [
    "## Adding dataset with text reviews"
   ]
  },
  {
   "cell_type": "code",
   "execution_count": null,
   "id": "6eefa3ac-fb9e-4c05-9fff-cf7cd8d38fbe",
   "metadata": {},
   "outputs": [],
   "source": [
    "import pandas as pd\n",
    "import json\n",
    "import gzip\n",
    "\n",
    "chunk_size= 10000\n",
    "chunks= []\n",
    "\n",
    "with gzip.open (\"./Data/goodreads_reviews_dedup.json.gz\", \"rt\", encoding=\"utf-8\") as f:\n",
    "    for i, line in enumerate(f): #read line by line\n",
    "        chunks.append(json.loads(line)) #convert json to stionf dict\n",
    "\n",
    "    #every chuck line, process data to write csv\n",
    "        if (i + 1) % chunk_size == 0:\n",
    "            df_chunk = pd.DataFrame(chunks)\n",
    "            df_chunk.to_csv(\"goodreads_reviews\", mode=\"a\", index= False, header = (i < chunk_size))\n",
    "            chunks = []\n",
    "        \n",
    "if chunks:\n",
    "    df_chunk = pd.DataFrame(chunks)\n",
    "    df_chunk.to_csv(\"goodreads_reviews\", mode =\"a\", index=False, header=False) \n"
   ]
  },
  {
   "cell_type": "code",
   "execution_count": null,
   "id": "81556b3f-fcb7-4c51-804a-6a5d7125a603",
   "metadata": {},
   "outputs": [],
   "source": [
    "df_reviews = pd.read_csv(\"goodreads_reviews\")"
   ]
  },
  {
   "cell_type": "code",
   "execution_count": null,
   "id": "2dbc136d",
   "metadata": {},
   "outputs": [],
   "source": [
    "df_reviews.head()"
   ]
  },
  {
   "cell_type": "code",
   "execution_count": null,
   "id": "5ea58185",
   "metadata": {},
   "outputs": [],
   "source": [
    "df_reviews.info()"
   ]
  },
  {
   "cell_type": "code",
   "execution_count": null,
   "id": "c7684f2c",
   "metadata": {},
   "outputs": [],
   "source": [
    "df_reviews['book_id'].duplicated().any()"
   ]
  },
  {
   "cell_type": "code",
   "execution_count": null,
   "id": "86cdc1f7",
   "metadata": {},
   "outputs": [],
   "source": [
    "import pandas as pd\n",
    "import json\n",
    "import gzip\n",
    "\n",
    "chunk_size= 10000\n",
    "chunks= []\n",
    "\n",
    "with gzip.open (\"./Data/goodreads_books.json.gz\", \"rt\", encoding=\"utf-8\") as f:\n",
    "    for i, line in enumerate(f): #read line by line\n",
    "        chunks.append(json.loads(line)) #convert json to stionf dict\n",
    "         \n",
    "    #every chuck line, process data to write csv\n",
    "        if (i + 1) % chunk_size == 0:\n",
    "            df_chunk = pd.DataFrame(chunks)\n",
    "            df_chunk.to_csv(\"goodreads_books\", mode=\"a\", index= False, header = (i < chunk_size))\n",
    "            chunks = []\n",
    "        \n",
    "if chunks:\n",
    "    df_chunk = pd.DataFrame(chunks)\n",
    "    df_chunk.to_csv(\"goodreads_books\", mode =\"a\", index=False, header=False) "
   ]
  },
  {
   "cell_type": "code",
   "execution_count": null,
   "id": "e6d4f507",
   "metadata": {},
   "outputs": [],
   "source": [
    "df_books = pd.read_csv(\"goodreads_books\")"
   ]
  },
  {
   "cell_type": "code",
   "execution_count": null,
   "id": "1729f784",
   "metadata": {},
   "outputs": [],
   "source": [
    "df_books.head(10)"
   ]
  },
  {
   "cell_type": "code",
   "execution_count": null,
   "id": "04077ec0",
   "metadata": {},
   "outputs": [],
   "source": [
    "df_books.info()"
   ]
  },
  {
   "cell_type": "code",
   "execution_count": null,
   "id": "5c0f02a6",
   "metadata": {},
   "outputs": [],
   "source": [
    "print(df_books.columns)"
   ]
  },
  {
   "cell_type": "code",
   "execution_count": null,
   "id": "c95c2522",
   "metadata": {},
   "outputs": [],
   "source": [
    "df_merged = df_reviews.merge(df_books, on=\"book_id\", how=\"inner\")"
   ]
  },
  {
   "cell_type": "code",
   "execution_count": null,
   "id": "d836652b",
   "metadata": {},
   "outputs": [],
   "source": [
    "pd.set_option('display.max_columns', None)"
   ]
  },
  {
   "cell_type": "code",
   "execution_count": null,
   "id": "b7d71781",
   "metadata": {},
   "outputs": [],
   "source": [
    "df_merged.head(10)"
   ]
  },
  {
   "cell_type": "code",
   "execution_count": null,
   "id": "5ababa35",
   "metadata": {},
   "outputs": [],
   "source": [
    "print(df_merged.columns)"
   ]
  },
  {
   "cell_type": "code",
   "execution_count": null,
   "id": "973d251c",
   "metadata": {},
   "outputs": [],
   "source": [
    "df_merged=df_merged.drop(columns=['user_id','date_added','read_at','started_at','date_updated','read_at','kindle_asin','work_id','n_comments','asin','similar_books','series','similar_books','publication_month','publication_day','edition_information','is_ebook'])\n"
   ]
  },
  {
   "cell_type": "code",
   "execution_count": null,
   "id": "77c4f2ed",
   "metadata": {},
   "outputs": [],
   "source": [
    "df_merged.info()"
   ]
  },
  {
   "cell_type": "code",
   "execution_count": null,
   "id": "f32876e4",
   "metadata": {},
   "outputs": [],
   "source": [
    "df_merged=df_merged.drop(columns=['format', 'num_pages', 'isbn13', 'link', 'title_without_series'])"
   ]
  },
  {
   "cell_type": "code",
   "execution_count": null,
   "id": "0c14ec67",
   "metadata": {},
   "outputs": [],
   "source": [
    "df_merged['review_id'].duplicated().any()"
   ]
  },
  {
   "cell_type": "code",
   "execution_count": null,
   "id": "be0573a4",
   "metadata": {},
   "outputs": [],
   "source": [
    "(df_merged['text_reviews_count']== 0).any()"
   ]
  },
  {
   "cell_type": "code",
   "execution_count": null,
   "id": "754b4e32",
   "metadata": {},
   "outputs": [],
   "source": [
    "df_merged[df_merged['text_reviews_count'] == 0]\n",
    "#?? maybe outdated text review count"
   ]
  },
  {
   "cell_type": "code",
   "execution_count": null,
   "id": "24afe9e4",
   "metadata": {},
   "outputs": [],
   "source": [
    "df_merged[df_merged['rating'] == 0]\n",
    "#reviews that have text but no star rating was left? I am choosing to leave these out of analysis"
   ]
  },
  {
   "cell_type": "code",
   "execution_count": null,
   "id": "42f9c63b",
   "metadata": {},
   "outputs": [],
   "source": [
    "df_merged= df_merged[df_merged['rating'].notna() & (df_merged['rating'] !=0)]"
   ]
  },
  {
   "cell_type": "code",
   "execution_count": null,
   "id": "7915d6f1",
   "metadata": {},
   "outputs": [],
   "source": [
    "#for this analysis I will only be focusing on english reviews\n",
    "#removing nonenglish rows and rows with no text in review_text or description. I dont think this will hurt bc the df is so large\n",
    "df_merged= df_merged.dropna(subset=['review_text','description'])"
   ]
  },
  {
   "cell_type": "code",
   "execution_count": null,
   "id": "5f95cd53",
   "metadata": {},
   "outputs": [],
   "source": [
    "df_merged.head()"
   ]
  },
  {
   "cell_type": "code",
   "execution_count": null,
   "id": "ec38045f",
   "metadata": {},
   "outputs": [],
   "source": [
    "#cleaning popular shelves column\n",
    "print(df_merged['popular_shelves'].iloc[0])"
   ]
  },
  {
   "cell_type": "code",
   "execution_count": null,
   "id": "be2854c3",
   "metadata": {},
   "outputs": [],
   "source": [
    "#seeing which shelves have the highest counts\n",
    "import ast\n",
    "from collections import Counter\n",
    "\n",
    "#function that extracts shelf names from string lists of the shelf dictionaires\n",
    "def shelf_names(shelves_str):\n",
    "    shelves_list = ast.literal_eval(shelves_str) #convert the string to a list of dicts\n",
    "    if isinstance(shelves_list, list):\n",
    "        return [shelf['name'] for shelf in shelves_list if 'name' in shelf] #extract 'name' value from each dict if it exists\n",
    "    return []\n",
    "\n",
    "shelf_counter = Counter()"
   ]
  },
  {
   "cell_type": "code",
   "execution_count": null,
   "id": "46a68bd2",
   "metadata": {},
   "outputs": [],
   "source": [
    "#very large operation (takes about 100 minutes to run)\n",
    "for row in df_merged['popular_shelves'].dropna():\n",
    "    shelf_counter.update(shelf_names(row))\n",
    "\n",
    "print(shelf_counter.most_common(30))"
   ]
  },
  {
   "cell_type": "code",
   "execution_count": null,
   "id": "cc354730",
   "metadata": {},
   "outputs": [],
   "source": [
    "import random\n",
    "\n",
    "unique_shelves = list(shelf_counter.keys())\n",
    "print(f\"unique names: {len(unique_shelves)}\")"
   ]
  },
  {
   "cell_type": "code",
   "execution_count": null,
   "id": "63488b14",
   "metadata": {},
   "outputs": [],
   "source": [
    "print(shelf_counter.most_common(1000))"
   ]
  },
  {
   "cell_type": "code",
   "execution_count": null,
   "id": "979f1f87",
   "metadata": {},
   "outputs": [],
   "source": [
    "def normalize_shelf(name):\n",
    "    return name.strip().lower().replace(\" \", \"-\")"
   ]
  },
  {
   "cell_type": "code",
   "execution_count": null,
   "id": "dac2d4ce",
   "metadata": {},
   "outputs": [],
   "source": [
    "#Filtering shelf names"
   ]
  },
  {
   "cell_type": "code",
   "execution_count": null,
   "id": "d97f6fdf",
   "metadata": {},
   "outputs": [],
   "source": [
    "#cleaning the author column\n",
    "print(df_merged['authors'].iloc[0])"
   ]
  },
  {
   "cell_type": "code",
   "execution_count": null,
   "id": "963767a5",
   "metadata": {},
   "outputs": [],
   "source": [
    "#there is already a language code column but it's not through. Try lang detect to fill in missing\n",
    "from langdetect import detect\n",
    "df_merged['dec']"
   ]
  },
  {
   "cell_type": "code",
   "execution_count": null,
   "id": "7e17905f",
   "metadata": {},
   "outputs": [],
   "source": [
    "#checking for final cleaning steps to slim down dataset futher before splitting  then saving to a csv"
   ]
  },
  {
   "cell_type": "code",
   "execution_count": null,
   "id": "8b9805d0",
   "metadata": {},
   "outputs": [],
   "source": [
    "#split df into managable chunks for further analysis"
   ]
  },
  {
   "cell_type": "code",
   "execution_count": null,
   "id": "5821d7d0",
   "metadata": {},
   "outputs": [],
   "source": [
    "for star in range(0,6):\n",
    "    df_star = df_merged[df_merged['rating'] == star]\n",
    "    df_star.to_csv(f\"{star}star_reviews.csv\")"
   ]
  },
  {
   "cell_type": "code",
   "execution_count": null,
   "id": "7e7b92de",
   "metadata": {},
   "outputs": [],
   "source": [
    "import zipfile\n",
    "import os\n",
    "\n",
    "csv_files = [\"./Data/1star_reviews.csv\"]\n",
    "\n",
    "zip_path = \"./Data/1star_reviews.zip\"\n",
    "\n",
    "with zipfile.ZipFile(zip_path, 'w', zipfile.ZIP_DEFLATED) as zipf:\n",
    "    for file in csv_files:\n",
    "        arcname = os.path.basename(file)\n",
    "        zipf.write(file,arcname=arcname)\n",
    "\n",
    "zip_path"
   ]
  },
  {
   "cell_type": "code",
   "execution_count": null,
   "id": "5656e277",
   "metadata": {},
   "outputs": [],
   "source": [
    "#assigning them to variables then checking size\n",
    "\n",
    "df_5star = pd.read_csv(\"./Data/5star_reviews.csv\")\n",
    "df_5star.info()"
   ]
  },
  {
   "cell_type": "code",
   "execution_count": null,
   "id": "5d6858eb",
   "metadata": {},
   "outputs": [],
   "source": [
    "df_4star = pd.read_csv(\"./Data/4star_reviews.csv\")\n",
    "df_4star.info()"
   ]
  },
  {
   "cell_type": "code",
   "execution_count": null,
   "id": "83a0a4f9",
   "metadata": {},
   "outputs": [],
   "source": [
    "df_3star = pd.read_csv(\"./Data/3star_reviews.csv\")\n",
    "df_3star.info()"
   ]
  },
  {
   "cell_type": "code",
   "execution_count": null,
   "id": "febb84c1",
   "metadata": {},
   "outputs": [],
   "source": [
    "df_2star = pd.read_csv(\"./Data/2star_reviews.csv\")\n",
    "df_2star.info()"
   ]
  },
  {
   "cell_type": "code",
   "execution_count": 3,
   "id": "15225c65-a2b0-4325-8cc0-777fbf594670",
   "metadata": {},
   "outputs": [],
   "source": [
    "import pandas as pd\n",
    "import json\n",
    "import gzip\n",
    "import ast\n",
    "from collections import Counter"
   ]
  },
  {
   "cell_type": "code",
   "execution_count": 7,
   "id": "d5ba3d3b-a071-4b09-8c1a-28aceec7c30d",
   "metadata": {},
   "outputs": [
    {
     "name": "stdout",
     "output_type": "stream",
     "text": [
      "Collecting numpy<2\n",
      "  Downloading numpy-1.26.4-cp312-cp312-macosx_11_0_arm64.whl.metadata (61 kB)\n",
      "\u001b[2K     \u001b[90m━━━━━━━━━━━━━━━━━━━━━━━━━━━━━━━━━━━━━━━\u001b[0m \u001b[32m61.1/61.1 kB\u001b[0m \u001b[31m889.5 kB/s\u001b[0m eta \u001b[36m0:00:00\u001b[0ma \u001b[36m0:00:01\u001b[0m\n",
      "\u001b[?25hDownloading numpy-1.26.4-cp312-cp312-macosx_11_0_arm64.whl (13.7 MB)\n",
      "\u001b[2K   \u001b[90m━━━━━━━━━━━━━━━━━━━━━━━━━━━━━━━━━━━━━━━━\u001b[0m \u001b[32m13.7/13.7 MB\u001b[0m \u001b[31m7.7 MB/s\u001b[0m eta \u001b[36m0:00:00\u001b[0m00:01\u001b[0m00:01\u001b[0m\n",
      "\u001b[?25hInstalling collected packages: numpy\n",
      "  Attempting uninstall: numpy\n",
      "    Found existing installation: numpy 2.2.5\n",
      "    Uninstalling numpy-2.2.5:\n",
      "      Successfully uninstalled numpy-2.2.5\n",
      "\u001b[31mERROR: pip's dependency resolver does not currently take into account all the packages that are installed. This behaviour is the source of the following dependency conflicts.\n",
      "thinc 8.3.6 requires numpy<3.0.0,>=2.0.0, but you have numpy 1.26.4 which is incompatible.\u001b[0m\u001b[31m\n",
      "\u001b[0mSuccessfully installed numpy-1.26.4\n",
      "Note: you may need to restart the kernel to use updated packages.\n"
     ]
    }
   ],
   "source": [
    "pip install \"numpy<2\""
   ]
  },
  {
   "cell_type": "code",
   "execution_count": 5,
   "id": "da14e218",
   "metadata": {},
   "outputs": [
    {
     "name": "stdout",
     "output_type": "stream",
     "text": [
      "<class 'pandas.core.frame.DataFrame'>\n",
      "RangeIndex: 419874 entries, 0 to 419873\n",
      "Data columns (total 20 columns):\n",
      " #   Column              Non-Null Count   Dtype  \n",
      "---  ------              --------------   -----  \n",
      " 0   Unnamed: 0          419874 non-null  int64  \n",
      " 1   book_id             419874 non-null  int64  \n",
      " 2   review_id           419874 non-null  object \n",
      " 3   rating              419874 non-null  int64  \n",
      " 4   review_text         419874 non-null  object \n",
      " 5   n_votes             419874 non-null  int64  \n",
      " 6   isbn                328665 non-null  object \n",
      " 7   text_reviews_count  419874 non-null  float64\n",
      " 8   country_code        419874 non-null  object \n",
      " 9   language_code       340979 non-null  object \n",
      " 10  popular_shelves     419874 non-null  object \n",
      " 11  average_rating      419874 non-null  float64\n",
      " 12  description         419874 non-null  object \n",
      " 13  authors             419874 non-null  object \n",
      " 14  publisher           347484 non-null  object \n",
      " 15  publication_year    358879 non-null  float64\n",
      " 16  url                 419874 non-null  object \n",
      " 17  image_url           419874 non-null  object \n",
      " 18  ratings_count       419874 non-null  float64\n",
      " 19  title               419874 non-null  object \n",
      "dtypes: float64(4), int64(4), object(12)\n",
      "memory usage: 64.1+ MB\n"
     ]
    }
   ],
   "source": [
    "df_1star = pd.read_csv(\"./1star_reviews.csv\")\n",
    "df_1star.info()"
   ]
  },
  {
   "cell_type": "code",
   "execution_count": 7,
   "id": "20429fcf",
   "metadata": {},
   "outputs": [],
   "source": [
    "# taking a sample of the smallest rating dataset to test for cleaning\n",
    "sample_1star= df_1star.sample(10000, random_state=42)"
   ]
  },
  {
   "cell_type": "code",
   "execution_count": 9,
   "id": "6f37216f",
   "metadata": {},
   "outputs": [
    {
     "name": "stdout",
     "output_type": "stream",
     "text": [
      "[{'count': '587', 'name': 'to-read'}, {'count': '76', 'name': 'romance'}, {'count': '75', 'name': 'diana-palmer'}, {'count': '26', 'name': 'contemporary-romance'}, {'count': '20', 'name': 'currently-reading'}, {'count': '17', 'name': 'harlequin'}, {'count': '14', 'name': 'western'}, {'count': '13', 'name': 'contemporary'}, {'count': '10', 'name': 'long-tall-texans'}, {'count': '10', 'name': 'books-i-own'}, {'count': '9', 'name': 'fiction'}, {'count': '9', 'name': 'cowboy'}, {'count': '8', 'name': 'palmer-diana'}, {'count': '8', 'name': 'series'}, {'count': '7', 'name': 'palmer'}, {'count': '7', 'name': 'harlequin-romance'}, {'count': '6', 'name': 'western-romance'}, {'count': '5', 'name': 'owned'}, {'count': '5', 'name': 'default'}, {'count': '5', 'name': 'my-library'}, {'count': '4', 'name': 'kindle'}, {'count': '4', 'name': 'read-in-2010'}, {'count': '3', 'name': 'audio-books'}, {'count': '3', 'name': '2010-11'}, {'count': '3', 'name': 'harlequin-wishlist'}, {'count': '3', 'name': 'books-i-have'}, {'count': '3', 'name': 'adult'}, {'count': '3', 'name': 'cowboys'}, {'count': '3', 'name': 'favorites'}, {'count': '3', 'name': 'virgin-heroine'}, {'count': '3', 'name': 'april'}, {'count': '2', 'name': 'harlequim'}, {'count': '2', 'name': 'storage1'}, {'count': '2', 'name': 'did-not-finish'}, {'count': '2', 'name': 'series-in-progress'}, {'count': '2', 'name': '150-250-pages'}, {'count': '2', 'name': 'chick-lit'}, {'count': '2', 'name': 'books'}, {'count': '2', 'name': 'on-my-shelf'}, {'count': '2', 'name': 'adult-fiction'}, {'count': '2', 'name': 'cowboy-western'}, {'count': '2', 'name': 'terjemahan'}, {'count': '2', 'name': 'genre-western'}, {'count': '2', 'name': 'undecided'}, {'count': '2', 'name': 'paper-back'}, {'count': '2', 'name': 'not-interested'}, {'count': '2', 'name': 'gramedia'}, {'count': '2', 'name': 'favourites'}, {'count': '2', 'name': 'bought'}, {'count': '2', 'name': 'romantic-suspense'}, {'count': '2', 'name': 'books-owned'}, {'count': '2', 'name': 'action'}, {'count': '2', 'name': 'library'}, {'count': '2', 'name': 'i-own'}, {'count': '2', 'name': 'small-town'}, {'count': '2', 'name': 'audiobook'}, {'count': '2', 'name': 'part-of-a-series'}, {'count': '2', 'name': 'series-romance'}, {'count': '2', 'name': 'library-books'}, {'count': '2', 'name': '2010-read'}, {'count': '2', 'name': 'harlequinromance'}, {'count': '1', 'name': '2017-read'}, {'count': '1', 'name': 'meaghan'}, {'count': '1', 'name': 'mills-and-boon'}, {'count': '1', 'name': 'my-owned-books'}, {'count': '1', 'name': 'elibrary'}, {'count': '1', 'name': '0-contemporary'}, {'count': '1', 'name': 'genre_romance'}, {'count': '1', 'name': 'seasonal-challenge'}, {'count': '1', 'name': 'best-covers'}, {'count': '1', 'name': 'read-in-2015'}, {'count': '1', 'name': 'meh'}, {'count': '1', 'name': 'all-time-favorites'}, {'count': '1', 'name': 'tbr-later'}, {'count': '1', 'name': 'harlequins'}, {'count': '1', 'name': 'books-i-own-paper'}, {'count': '1', 'name': 'angsty'}, {'count': '1', 'name': 'on-the-shelf'}, {'count': '1', 'name': '2017-challenge'}, {'count': '1', 'name': 'series-read'}, {'count': '1', 'name': 'free-borrowed'}, {'count': '1', 'name': 'paperback'}, {'count': '1', 'name': 'shelf-4-front'}, {'count': '1', 'name': '2017-bookriot-challenge'}, {'count': '1', 'name': 'vicky-to-read'}, {'count': '1', 'name': 'need-to-read-vet'}, {'count': '1', 'name': '1999-reads'}, {'count': '1', 'name': '2010-reads'}, {'count': '1', 'name': 'blom-check'}, {'count': '1', 'name': 'primary'}, {'count': '1', 'name': 'romance-modern'}, {'count': '1', 'name': 'own-to-read'}, {'count': '1', 'name': 'long-tall-texan'}, {'count': '1', 'name': 'location-nook'}, {'count': '1', 'name': 'hero-grovels'}, {'count': '1', 'name': 'brooding-hero'}, {'count': '1', 'name': 'long-tall-texans-series-bk-34'}, {'count': '1', 'name': 'harlequin-modern-romance'}, {'count': '1', 'name': 'e-books'}, {'count': '1', 'name': '3-stars'}]\n"
     ]
    }
   ],
   "source": [
    "#cleaning popular shelves column\n",
    "print(sample_1star['popular_shelves'].iloc[0])"
   ]
  },
  {
   "cell_type": "code",
   "execution_count": 11,
   "id": "80c2e5fd-ac8c-4af7-9114-6c37f5b4bb51",
   "metadata": {},
   "outputs": [],
   "source": [
    "#seeing which shelves have the highest counts\n",
    "#function that extracts shelf names from string lists of the shelf dictionaires\n",
    "def shelf_names(shelves_str):\n",
    "    shelves_list = ast.literal_eval(shelves_str) #convert the string to a list of dicts\n",
    "    if isinstance(shelves_list, list):\n",
    "        return [shelf['name'] for shelf in shelves_list if 'name' in shelf] #extract 'name' value from each dict if it exists\n",
    "    return []\n",
    "\n",
    "shelf_counter = Counter()"
   ]
  },
  {
   "cell_type": "code",
   "execution_count": 19,
   "id": "6c09e7d9-5d99-4472-a69b-f81dc13cd3f9",
   "metadata": {},
   "outputs": [
    {
     "name": "stdout",
     "output_type": "stream",
     "text": [
      "[('to-read', 29787), ('currently-reading', 27891), ('owned', 25371), ('fiction', 24933), ('favorites', 24789), ('books-i-own', 23883), ('kindle', 22146), ('ebook', 21639), ('library', 21255), ('owned-books', 20850), ('to-buy', 19779), ('ebooks', 18954), ('wish-list', 17823), ('default', 17178), ('contemporary', 16458), ('my-books', 16143), ('audiobook', 16104), ('adult', 15714), ('romance', 15672), ('audiobooks', 15231), ('i-own', 14709), ('my-library', 14559), ('did-not-finish', 14244), ('dnf', 14211), ('audio', 13941), ('abandoned', 13701), ('favourites', 13236), ('e-book', 13212), ('series', 12624), ('novels', 12618), ('read-in-2015', 12066), ('own-it', 11928), ('books', 11619), ('book-club', 11487), ('fantasy', 11481), ('e-books', 11337), ('read-in-2016', 11292), ('read-in-2014', 11220), ('adult-fiction', 11205), ('maybe', 11151), ('young-adult', 10677), ('read-in-2013', 10143), ('read-in-2017', 9447), ('mystery', 9339), ('have', 9012), ('novel', 8976), ('reviewed', 8898), ('borrowed', 8718), ('ya', 8652), ('audible', 8562), ('audio-books', 8442), ('drama', 8403), ('english', 7980), ('read-in-2012', 7929), ('didn-t-finish', 7866), ('favorite', 7659), ('tbr', 7644), ('unfinished', 7575), ('contemporary-fiction', 7485), ('audio-book', 7377)]\n"
     ]
    }
   ],
   "source": [
    "#very large operation (takes about 100 minutes to run)\n",
    "for row in sample_1star['popular_shelves'].dropna():\n",
    "    shelf_counter.update(shelf_names(row))\n",
    "\n",
    "print(shelf_counter.most_common(60))"
   ]
  },
  {
   "cell_type": "code",
   "execution_count": 17,
   "id": "1555e180-aa46-47bb-988e-f208abdee56d",
   "metadata": {},
   "outputs": [
    {
     "name": "stdout",
     "output_type": "stream",
     "text": [
      "unique names: 92620\n"
     ]
    }
   ],
   "source": [
    "import random\n",
    "\n",
    "unique_shelves = list(shelf_counter.keys())\n",
    "print(f\"unique names: {len(unique_shelves)}\")"
   ]
  },
  {
   "cell_type": "code",
   "execution_count": 31,
   "id": "558f5fcb-ad63-4b6b-8b93-af5fff6949f6",
   "metadata": {},
   "outputs": [],
   "source": [
    "def clean_name(name):\n",
    "    return name.lower().replace('-', ' ').replace('_', ' ').strip()\n",
    "\n",
    "def shelf_names(shelves_str):\n",
    "    shelves_list = ast.literal_eval(shelves_str)\n",
    "    if isinstance(shelves_list, list):\n",
    "        return [clean_name(shelf['name']) for shelf in shelves_list if 'name' in shelf]\n",
    "    return []"
   ]
  },
  {
   "cell_type": "code",
   "execution_count": 35,
   "id": "fbcabadf-5ea7-469c-9bdd-7a5e4ca2b342",
   "metadata": {},
   "outputs": [],
   "source": [
    "sample_1star['cleaned_shelves'] = sample_1star['popular_shelves'].apply(shelf_names)"
   ]
  },
  {
   "cell_type": "code",
   "execution_count": 51,
   "id": "0fe424f0-e93d-460a-973f-8c44a4d1ea98",
   "metadata": {},
   "outputs": [
    {
     "name": "stdout",
     "output_type": "stream",
     "text": [
      "False\n"
     ]
    }
   ],
   "source": [
    "print(sample_1star['cleaned_shelves'].iloc[0])"
   ]
  },
  {
   "cell_type": "code",
   "execution_count": 53,
   "id": "e450a1f3-f581-4c1b-a92d-2d67f58cc34b",
   "metadata": {},
   "outputs": [],
   "source": [
    "blacklist = ['read', 'currently reading', 'own', 'borrow', 'wishlist', 'favorite', 'review', 'rating', \n",
    "             'dnf', 'default', 'series', 'audio', 'paper', 'progress', 'bought', 'covers', 'finish','books', 'list', 'buy', 'reading', \n",
    "             'have','default','book','ebook', 'kindle', 'library', 'my books', 'finished', 'interested', 'kindle']\n",
    "\n",
    "synonym_mapping = {\n",
    "    'non fiction': 'nonfiction',\n",
    "    'non-fiction': 'nonfiction',\n",
    "    'memoirs': 'memoir',\n",
    "    'sci fi': 'science fiction',\n",
    "    'sci-fi': 'science fiction',\n",
    "    'ya': 'young adult',\n",
    "    'young adult fiction': 'young adult',\n",
    "    'literature': 'literary fiction',\n",
    "    'classic': 'classics',\n",
    "    'fairy tale': 'fairy tales',\n",
    "    'fairytales': 'fairy tales',\n",
    "    'folktales': 'folklore',\n",
    "    'graphic novels': 'graphic novel',\n",
    "    'graphic novel': 'graphic novel'\n",
    "}"
   ]
  },
  {
   "cell_type": "code",
   "execution_count": null,
   "id": "0e7e0483-4779-4dc5-9386-ab5f499c7a71",
   "metadata": {},
   "outputs": [],
   "source": [
    "import ast\n",
    "\n",
    "def clean_name(name):\n",
    "    \"\"\"Lowercase and normalize shelf names (replace hyphens/underscores, strip spaces).\"\"\"\n",
    "    return name.lower().replace('-', ' ').replace('_', ' ').strip()\n",
    "\n",
    "def is_blacklisted(name, blacklist):\n",
    "    \"\"\"Check if any blacklist word is inside the shelf name.\"\"\"\n",
    "    return any(bad_word in name for bad_word in blacklist)\n",
    "\n",
    "def process_shelves_top3(shelves_str):\n",
    "    try:\n",
    "        shelves_list = ast.literal_eval(shelves_str)\n",
    "    except:\n",
    "        return None  # If parsing fails, return None\n",
    "    \n",
    "    if not isinstance(shelves_list, list):\n",
    "        return None\n",
    "\n",
    "    cleaned = []\n",
    "    \n",
    "    for shelf in shelves_list:\n",
    "        name = shelf.get('name')\n",
    "        count = int(shelf.get('count', 0))\n",
    "        \n",
    "        if name:\n",
    "            clean = clean_name(name)\n",
    "            \n",
    "            # If shelf name contains any blacklisted word, skip\n",
    "            if not is_blacklisted(clean, blacklist):\n",
    "                cleaned.append((clean, count))\n",
    "    \n",
    "    if not cleaned:\n",
    "        return None\n",
    "\n",
    "    # Sort shelves by count descending and pick top 3\n",
    "    top_shelves = sorted(cleaned, key=lambda x: x[1], reverse=True)[:3]\n",
    "    \n",
    "    # Return only the shelf names\n",
    "    return [name for name, count in top_shelves]"
   ]
  },
  {
   "cell_type": "code",
   "execution_count": 55,
   "id": "9b0cb41d-787f-459a-b044-c2e3a7178e1a",
   "metadata": {},
   "outputs": [],
   "source": [
    "def clean_name(name):\n",
    "    # Lowercase, remove hyphens/underscores, strip spaces\n",
    "    return name.lower().replace('-', ' ').replace('_', ' ').strip()\n",
    "\n",
    "def shelves_top3(shelves_str):\n",
    "    try:\n",
    "        shelves_list = ast.literal_eval(shelves_str)\n",
    "    except:\n",
    "        return None  # If parsing fails\n",
    "    \n",
    "    if not isinstance(shelves_list, list):\n",
    "        return None\n",
    "\n",
    "    cleaned = []\n",
    "    \n",
    "    for shelf in shelves_list:\n",
    "        name = shelf.get('name')\n",
    "        count = int(shelf.get('count', 0))\n",
    "        \n",
    "        if name:\n",
    "            clean = clean_name(name)\n",
    "            \n",
    "            # Apply synonyms\n",
    "            if clean in synonym_mapping:\n",
    "                clean = synonym_mapping[clean]\n",
    "            \n",
    "            # Skip blacklisted shelves\n",
    "            if clean not in blacklist:\n",
    "                cleaned.append((clean, count))\n",
    "    \n",
    "    if not cleaned:\n",
    "        return None\n",
    "\n",
    "    # Sort shelves by count descending and pick top 3\n",
    "    top_shelves = sorted(cleaned, key=lambda x: x[1], reverse=True)[:3]\n",
    "    \n",
    "    # Only return the shelf names, not counts\n",
    "    return [name for name, count in top_shelves]"
   ]
  },
  {
   "cell_type": "code",
   "execution_count": 57,
   "id": "3704cc08-d64a-490a-a3ff-f4b858570395",
   "metadata": {},
   "outputs": [],
   "source": [
    "sample_1star['top_3_shelves'] = sample_1star['popular_shelves'].apply(shelves_top3)"
   ]
  },
  {
   "cell_type": "code",
   "execution_count": 59,
   "id": "9e1a6554-d185-4aec-b1d6-c0b33bad0d16",
   "metadata": {},
   "outputs": [
    {
     "data": {
      "text/html": [
       "<div>\n",
       "<style scoped>\n",
       "    .dataframe tbody tr th:only-of-type {\n",
       "        vertical-align: middle;\n",
       "    }\n",
       "\n",
       "    .dataframe tbody tr th {\n",
       "        vertical-align: top;\n",
       "    }\n",
       "\n",
       "    .dataframe thead th {\n",
       "        text-align: right;\n",
       "    }\n",
       "</style>\n",
       "<table border=\"1\" class=\"dataframe\">\n",
       "  <thead>\n",
       "    <tr style=\"text-align: right;\">\n",
       "      <th></th>\n",
       "      <th>Unnamed: 0</th>\n",
       "      <th>book_id</th>\n",
       "      <th>review_id</th>\n",
       "      <th>rating</th>\n",
       "      <th>review_text</th>\n",
       "      <th>n_votes</th>\n",
       "      <th>isbn</th>\n",
       "      <th>text_reviews_count</th>\n",
       "      <th>country_code</th>\n",
       "      <th>language_code</th>\n",
       "      <th>...</th>\n",
       "      <th>description</th>\n",
       "      <th>authors</th>\n",
       "      <th>publisher</th>\n",
       "      <th>publication_year</th>\n",
       "      <th>url</th>\n",
       "      <th>image_url</th>\n",
       "      <th>ratings_count</th>\n",
       "      <th>title</th>\n",
       "      <th>cleaned_shelves</th>\n",
       "      <th>top_3_shelves</th>\n",
       "    </tr>\n",
       "  </thead>\n",
       "  <tbody>\n",
       "    <tr>\n",
       "      <th>41230</th>\n",
       "      <td>1546952</td>\n",
       "      <td>7193907</td>\n",
       "      <td>3e2be6da1816bb630e23acd3f28c56d6</td>\n",
       "      <td>1</td>\n",
       "      <td>I usually like Diana Palmer but this one was a...</td>\n",
       "      <td>0</td>\n",
       "      <td>037317649X</td>\n",
       "      <td>58.0</td>\n",
       "      <td>US</td>\n",
       "      <td>eng</td>\n",
       "      <td>...</td>\n",
       "      <td>A spellbinding new installment in the Long, Ta...</td>\n",
       "      <td>[{'author_id': '12692', 'role': ''}]</td>\n",
       "      <td>Harlequin Books</td>\n",
       "      <td>2010.0</td>\n",
       "      <td>https://www.goodreads.com/book/show/7193907-to...</td>\n",
       "      <td>https://s.gr-assets.com/assets/nophoto/book/11...</td>\n",
       "      <td>1358.0</td>\n",
       "      <td>Tough To Tame (Long, Tall Texans, #38)</td>\n",
       "      <td>False</td>\n",
       "      <td>[to read, romance, diana palmer]</td>\n",
       "    </tr>\n",
       "    <tr>\n",
       "      <th>95710</th>\n",
       "      <td>3605557</td>\n",
       "      <td>22816087</td>\n",
       "      <td>f48e8acd876b66649b097305c7de0d22</td>\n",
       "      <td>1</td>\n",
       "      <td>Torture. Pure torture. That is how I describe ...</td>\n",
       "      <td>0</td>\n",
       "      <td>NaN</td>\n",
       "      <td>5741.0</td>\n",
       "      <td>US</td>\n",
       "      <td>eng</td>\n",
       "      <td>...</td>\n",
       "      <td>What would happen if the world were ending?\\nA...</td>\n",
       "      <td>[{'author_id': '545', 'role': ''}]</td>\n",
       "      <td>NaN</td>\n",
       "      <td>2015.0</td>\n",
       "      <td>https://www.goodreads.com/book/show/22816087-s...</td>\n",
       "      <td>https://images.gr-assets.com/books/1449142000m...</td>\n",
       "      <td>47286.0</td>\n",
       "      <td>Seveneves</td>\n",
       "      <td>False</td>\n",
       "      <td>[to read, science fiction, science fiction]</td>\n",
       "    </tr>\n",
       "    <tr>\n",
       "      <th>142885</th>\n",
       "      <td>5308778</td>\n",
       "      <td>14398781</td>\n",
       "      <td>f733fa2faccdd4908ee90437554ded42</td>\n",
       "      <td>1</td>\n",
       "      <td>Utterly stupid, glad I didn't pay for it. I sk...</td>\n",
       "      <td>0</td>\n",
       "      <td>NaN</td>\n",
       "      <td>407.0</td>\n",
       "      <td>US</td>\n",
       "      <td>eng</td>\n",
       "      <td>...</td>\n",
       "      <td>Identity theft regency style.\\nFunny. Sexy. Cr...</td>\n",
       "      <td>[{'author_id': '9811019', 'role': ''}]</td>\n",
       "      <td>Corvallis Press</td>\n",
       "      <td>2012.0</td>\n",
       "      <td>https://www.goodreads.com/book/show/14398781-r...</td>\n",
       "      <td>https://images.gr-assets.com/books/1448305898m...</td>\n",
       "      <td>2810.0</td>\n",
       "      <td>Ridiculous</td>\n",
       "      <td>False</td>\n",
       "      <td>[romance, to read, historical romance]</td>\n",
       "    </tr>\n",
       "    <tr>\n",
       "      <th>238919</th>\n",
       "      <td>8889556</td>\n",
       "      <td>12753231</td>\n",
       "      <td>3ecba459e73706bb0cdfbdfe6fc64452</td>\n",
       "      <td>1</td>\n",
       "      <td>I listened to this on audiobook. First of all ...</td>\n",
       "      <td>0</td>\n",
       "      <td>0312569033</td>\n",
       "      <td>2405.0</td>\n",
       "      <td>US</td>\n",
       "      <td>eng</td>\n",
       "      <td>...</td>\n",
       "      <td>Your mother hollers that you're going to miss ...</td>\n",
       "      <td>[{'author_id': '5241601', 'role': ''}]</td>\n",
       "      <td>Feiwel &amp; Friends</td>\n",
       "      <td>2012.0</td>\n",
       "      <td>https://www.goodreads.com/book/show/12753231-m...</td>\n",
       "      <td>https://images.gr-assets.com/books/1337779838m...</td>\n",
       "      <td>17718.0</td>\n",
       "      <td>Monument 14 (Monument 14, #1)</td>\n",
       "      <td>False</td>\n",
       "      <td>[to read, young adult, dystopian]</td>\n",
       "    </tr>\n",
       "    <tr>\n",
       "      <th>172222</th>\n",
       "      <td>6428688</td>\n",
       "      <td>16007164</td>\n",
       "      <td>af80f8a4a1ac0fb2f0dd0a628345dfba</td>\n",
       "      <td>1</td>\n",
       "      <td>Could not get through this book.</td>\n",
       "      <td>0</td>\n",
       "      <td>NaN</td>\n",
       "      <td>8.0</td>\n",
       "      <td>US</td>\n",
       "      <td>en-US</td>\n",
       "      <td>...</td>\n",
       "      <td>London 1872 -\\nA bloody escape, a deadly threa...</td>\n",
       "      <td>[{'author_id': '3023434', 'role': ''}]</td>\n",
       "      <td>Fair Wind Publishing</td>\n",
       "      <td>2012.0</td>\n",
       "      <td>https://www.goodreads.com/book/show/16007164-t...</td>\n",
       "      <td>https://images.gr-assets.com/books/1347594718m...</td>\n",
       "      <td>45.0</td>\n",
       "      <td>The Torn Wing (The Faerie Ring, #2)</td>\n",
       "      <td>False</td>\n",
       "      <td>[to read, fantasy, young adult]</td>\n",
       "    </tr>\n",
       "  </tbody>\n",
       "</table>\n",
       "<p>5 rows × 22 columns</p>\n",
       "</div>"
      ],
      "text/plain": [
       "        Unnamed: 0   book_id                         review_id  rating  \\\n",
       "41230      1546952   7193907  3e2be6da1816bb630e23acd3f28c56d6       1   \n",
       "95710      3605557  22816087  f48e8acd876b66649b097305c7de0d22       1   \n",
       "142885     5308778  14398781  f733fa2faccdd4908ee90437554ded42       1   \n",
       "238919     8889556  12753231  3ecba459e73706bb0cdfbdfe6fc64452       1   \n",
       "172222     6428688  16007164  af80f8a4a1ac0fb2f0dd0a628345dfba       1   \n",
       "\n",
       "                                              review_text  n_votes  \\\n",
       "41230   I usually like Diana Palmer but this one was a...        0   \n",
       "95710   Torture. Pure torture. That is how I describe ...        0   \n",
       "142885  Utterly stupid, glad I didn't pay for it. I sk...        0   \n",
       "238919  I listened to this on audiobook. First of all ...        0   \n",
       "172222                   Could not get through this book.        0   \n",
       "\n",
       "              isbn  text_reviews_count country_code language_code  ...  \\\n",
       "41230   037317649X                58.0           US           eng  ...   \n",
       "95710          NaN              5741.0           US           eng  ...   \n",
       "142885         NaN               407.0           US           eng  ...   \n",
       "238919  0312569033              2405.0           US           eng  ...   \n",
       "172222         NaN                 8.0           US         en-US  ...   \n",
       "\n",
       "                                              description  \\\n",
       "41230   A spellbinding new installment in the Long, Ta...   \n",
       "95710   What would happen if the world were ending?\\nA...   \n",
       "142885  Identity theft regency style.\\nFunny. Sexy. Cr...   \n",
       "238919  Your mother hollers that you're going to miss ...   \n",
       "172222  London 1872 -\\nA bloody escape, a deadly threa...   \n",
       "\n",
       "                                       authors             publisher  \\\n",
       "41230     [{'author_id': '12692', 'role': ''}]       Harlequin Books   \n",
       "95710       [{'author_id': '545', 'role': ''}]                   NaN   \n",
       "142885  [{'author_id': '9811019', 'role': ''}]       Corvallis Press   \n",
       "238919  [{'author_id': '5241601', 'role': ''}]      Feiwel & Friends   \n",
       "172222  [{'author_id': '3023434', 'role': ''}]  Fair Wind Publishing   \n",
       "\n",
       "       publication_year                                                url  \\\n",
       "41230            2010.0  https://www.goodreads.com/book/show/7193907-to...   \n",
       "95710            2015.0  https://www.goodreads.com/book/show/22816087-s...   \n",
       "142885           2012.0  https://www.goodreads.com/book/show/14398781-r...   \n",
       "238919           2012.0  https://www.goodreads.com/book/show/12753231-m...   \n",
       "172222           2012.0  https://www.goodreads.com/book/show/16007164-t...   \n",
       "\n",
       "                                                image_url ratings_count  \\\n",
       "41230   https://s.gr-assets.com/assets/nophoto/book/11...        1358.0   \n",
       "95710   https://images.gr-assets.com/books/1449142000m...       47286.0   \n",
       "142885  https://images.gr-assets.com/books/1448305898m...        2810.0   \n",
       "238919  https://images.gr-assets.com/books/1337779838m...       17718.0   \n",
       "172222  https://images.gr-assets.com/books/1347594718m...          45.0   \n",
       "\n",
       "                                         title  cleaned_shelves  \\\n",
       "41230   Tough To Tame (Long, Tall Texans, #38)            False   \n",
       "95710                                Seveneves            False   \n",
       "142885                              Ridiculous            False   \n",
       "238919           Monument 14 (Monument 14, #1)            False   \n",
       "172222     The Torn Wing (The Faerie Ring, #2)            False   \n",
       "\n",
       "                                      top_3_shelves  \n",
       "41230              [to read, romance, diana palmer]  \n",
       "95710   [to read, science fiction, science fiction]  \n",
       "142885       [romance, to read, historical romance]  \n",
       "238919            [to read, young adult, dystopian]  \n",
       "172222              [to read, fantasy, young adult]  \n",
       "\n",
       "[5 rows x 22 columns]"
      ]
     },
     "execution_count": 59,
     "metadata": {},
     "output_type": "execute_result"
    }
   ],
   "source": [
    "sample_1star.head()"
   ]
  },
  {
   "cell_type": "code",
   "execution_count": null,
   "id": "5eb8ae17",
   "metadata": {},
   "outputs": [],
   "source": [
    "pd.set_option('display.max_colwidth', None)\n",
    "sample_1star[['review_text','description']].sample(5, random_state=1)\n"
   ]
  },
  {
   "cell_type": "code",
   "execution_count": null,
   "id": "09fb4d31",
   "metadata": {},
   "outputs": [],
   "source": [
    "import numpy as np\n",
    "import html\n",
    "import re"
   ]
  },
  {
   "cell_type": "code",
   "execution_count": null,
   "id": "3e579ecb",
   "metadata": {},
   "outputs": [],
   "source": [
    "#attempting to clean the html first\n"
   ]
  }
 ],
 "metadata": {
  "kernelspec": {
   "display_name": "Python 3 (ipykernel)",
   "language": "python",
   "name": "python3"
  },
  "language_info": {
   "codemirror_mode": {
    "name": "ipython",
    "version": 3
   },
   "file_extension": ".py",
   "mimetype": "text/x-python",
   "name": "python",
   "nbconvert_exporter": "python",
   "pygments_lexer": "ipython3",
   "version": "3.12.4"
  }
 },
 "nbformat": 4,
 "nbformat_minor": 5
}
