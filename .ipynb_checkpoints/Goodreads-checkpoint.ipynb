{
 "cells": [
  {
   "cell_type": "markdown",
   "id": "89f223c3-125a-4da4-accb-d22d980ffe1f",
   "metadata": {},
   "source": [
    "# Goodreads Book Reviews Analysis - Numerical Data Exploration\n",
    "\n",
    "## Project Overview\n",
    "This project aims to analyze **Goodreads book reviews**, focusing on **1-star ratings** to understand patterns in harsh reviews. The analysis is divided into two parts:\n",
    "1. **Numerical Data Analysis** (Current Stage) - Examining numerical factors such as star ratings, review counts, and genre distributions.\n",
    "2. **Natural Language Processing (NLP) Analysis** (Next Stage) - Exploring book descriptions and text reviews to identify sentiment patterns."
   ]
  },
  {
   "cell_type": "markdown",
   "id": "9a057dee-934a-49ef-813a-0f63b2e77875",
   "metadata": {},
   "source": [
    "## Adding dataset with text reviews"
   ]
  },
  {
   "cell_type": "code",
   "execution_count": null,
   "id": "6eefa3ac-fb9e-4c05-9fff-cf7cd8d38fbe",
   "metadata": {},
   "outputs": [],
   "source": [
    "import pandas as pd\n",
    "import json\n",
    "import gzip\n",
    "\n",
    "chunk_size= 10000\n",
    "chunks= []\n",
    "\n",
    "with gzip.open (\"./Data/goodreads_reviews_dedup.json.gz\", \"rt\", encoding=\"utf-8\") as f:\n",
    "    for i, line in enumerate(f): #read line by line\n",
    "        chunks.append(json.loads(line)) #convert json to stionf dict\n",
    "\n",
    "    #every chuck line, process data to write csv\n",
    "        if (i + 1) % chunk_size == 0:\n",
    "            df_chunk = pd.DataFrame(chunks)\n",
    "            df_chunk.to_csv(\"goodreads_reviews\", mode=\"a\", index= False, header = (i < chunk_size))\n",
    "            chunks = []\n",
    "        \n",
    "if chunks:\n",
    "    df_chunk = pd.DataFrame(chunks)\n",
    "    df_chunk.to_csv(\"goodreads_reviews\", mode =\"a\", index=False, header=False) \n"
   ]
  },
  {
   "cell_type": "code",
   "execution_count": null,
   "id": "81556b3f-fcb7-4c51-804a-6a5d7125a603",
   "metadata": {},
   "outputs": [],
   "source": [
    "df_reviews = pd.read_csv(\"goodreads_reviews\")"
   ]
  },
  {
   "cell_type": "code",
   "execution_count": null,
   "id": "2dbc136d",
   "metadata": {},
   "outputs": [],
   "source": [
    "df_reviews.head()"
   ]
  },
  {
   "cell_type": "code",
   "execution_count": null,
   "id": "5ea58185",
   "metadata": {},
   "outputs": [],
   "source": [
    "df_reviews.info()"
   ]
  },
  {
   "cell_type": "code",
   "execution_count": null,
   "id": "c7684f2c",
   "metadata": {},
   "outputs": [],
   "source": [
    "df_reviews['book_id'].duplicated().any()"
   ]
  },
  {
   "cell_type": "code",
   "execution_count": null,
   "id": "86cdc1f7",
   "metadata": {},
   "outputs": [],
   "source": [
    "import pandas as pd\n",
    "import json\n",
    "import gzip\n",
    "\n",
    "chunk_size= 10000\n",
    "chunks= []\n",
    "\n",
    "with gzip.open (\"./Data/goodreads_books.json.gz\", \"rt\", encoding=\"utf-8\") as f:\n",
    "    for i, line in enumerate(f): #read line by line\n",
    "        chunks.append(json.loads(line)) #convert json to stionf dict\n",
    "         \n",
    "    #every chuck line, process data to write csv\n",
    "        if (i + 1) % chunk_size == 0:\n",
    "            df_chunk = pd.DataFrame(chunks)\n",
    "            df_chunk.to_csv(\"goodreads_books\", mode=\"a\", index= False, header = (i < chunk_size))\n",
    "            chunks = []\n",
    "        \n",
    "if chunks:\n",
    "    df_chunk = pd.DataFrame(chunks)\n",
    "    df_chunk.to_csv(\"goodreads_books\", mode =\"a\", index=False, header=False) "
   ]
  },
  {
   "cell_type": "code",
   "execution_count": null,
   "id": "e6d4f507",
   "metadata": {},
   "outputs": [],
   "source": [
    "df_books = pd.read_csv(\"goodreads_books\")"
   ]
  },
  {
   "cell_type": "code",
   "execution_count": null,
   "id": "1729f784",
   "metadata": {},
   "outputs": [],
   "source": [
    "df_books.head(10)"
   ]
  },
  {
   "cell_type": "code",
   "execution_count": null,
   "id": "04077ec0",
   "metadata": {},
   "outputs": [],
   "source": [
    "df_books.info()"
   ]
  },
  {
   "cell_type": "code",
   "execution_count": null,
   "id": "5c0f02a6",
   "metadata": {},
   "outputs": [],
   "source": [
    "print(df_books.columns)"
   ]
  },
  {
   "cell_type": "code",
   "execution_count": null,
   "id": "c95c2522",
   "metadata": {},
   "outputs": [],
   "source": [
    "df_merged = df_reviews.merge(df_books, on=\"book_id\", how=\"inner\")"
   ]
  },
  {
   "cell_type": "code",
   "execution_count": null,
   "id": "d836652b",
   "metadata": {},
   "outputs": [],
   "source": [
    "pd.set_option('display.max_columns', None)"
   ]
  },
  {
   "cell_type": "code",
   "execution_count": null,
   "id": "b7d71781",
   "metadata": {},
   "outputs": [],
   "source": [
    "df_merged.head(10)"
   ]
  },
  {
   "cell_type": "code",
   "execution_count": null,
   "id": "5ababa35",
   "metadata": {},
   "outputs": [],
   "source": [
    "print(df_merged.columns)"
   ]
  },
  {
   "cell_type": "code",
   "execution_count": null,
   "id": "973d251c",
   "metadata": {},
   "outputs": [],
   "source": [
    "df_merged=df_merged.drop(columns=['user_id','date_added','read_at','started_at','date_updated','read_at','kindle_asin','work_id','n_comments','asin','similar_books','series','similar_books','publication_month','publication_day','edition_information','is_ebook'])\n"
   ]
  },
  {
   "cell_type": "code",
   "execution_count": null,
   "id": "77c4f2ed",
   "metadata": {},
   "outputs": [],
   "source": [
    "df_merged.info()"
   ]
  },
  {
   "cell_type": "code",
   "execution_count": null,
   "id": "f32876e4",
   "metadata": {},
   "outputs": [],
   "source": [
    "df_merged=df_merged.drop(columns=['format', 'num_pages', 'isbn13', 'link', 'title_without_series'])"
   ]
  },
  {
   "cell_type": "code",
   "execution_count": null,
   "id": "0c14ec67",
   "metadata": {},
   "outputs": [],
   "source": [
    "df_merged['review_id'].duplicated().any()"
   ]
  },
  {
   "cell_type": "code",
   "execution_count": null,
   "id": "be0573a4",
   "metadata": {},
   "outputs": [],
   "source": [
    "(df_merged['text_reviews_count']== 0).any()"
   ]
  },
  {
   "cell_type": "code",
   "execution_count": null,
   "id": "754b4e32",
   "metadata": {},
   "outputs": [],
   "source": [
    "df_merged[df_merged['text_reviews_count'] == 0]\n",
    "#?? maybe outdated text review count"
   ]
  },
  {
   "cell_type": "code",
   "execution_count": null,
   "id": "24afe9e4",
   "metadata": {},
   "outputs": [],
   "source": [
    "df_merged[df_merged['rating'] == 0]\n",
    "#reviews that have text but no star rating was left? I am choosing to leave these out of analysis"
   ]
  },
  {
   "cell_type": "code",
   "execution_count": null,
   "id": "42f9c63b",
   "metadata": {},
   "outputs": [],
   "source": [
    "df_merged= df_merged[df_merged['rating'].notna() & (df_merged['rating'] !=0)]"
   ]
  },
  {
   "cell_type": "code",
   "execution_count": null,
   "id": "7915d6f1",
   "metadata": {},
   "outputs": [],
   "source": [
    "#for this analysis I will only be focusing on english reviews\n",
    "#removing nonenglish rows and rows with no text in review_text or description. I dont think this will hurt bc the df is so large\n",
    "df_merged= df_merged.dropna(subset=['review_text','description'])"
   ]
  },
  {
   "cell_type": "code",
   "execution_count": null,
   "id": "5f95cd53",
   "metadata": {},
   "outputs": [],
   "source": [
    "df_merged.head()"
   ]
  },
  {
   "cell_type": "code",
   "execution_count": null,
   "id": "ec38045f",
   "metadata": {},
   "outputs": [],
   "source": [
    "#cleaning popular shelves column\n",
    "print(df_merged['popular_shelves'].iloc[0])"
   ]
  },
  {
   "cell_type": "code",
   "execution_count": null,
   "id": "be2854c3",
   "metadata": {},
   "outputs": [],
   "source": [
    "#seeing which shelves have the highest counts\n",
    "import ast\n",
    "from collections import Counter\n",
    "\n",
    "#function that extracts shelf names from string lists of the shelf dictionaires\n",
    "def shelf_names(shelves_str):\n",
    "    shelves_list = ast.literal_eval(shelves_str) #convert the string to a list of dicts\n",
    "    if isinstance(shelves_list, list):\n",
    "        return [shelf['name'] for shelf in shelves_list if 'name' in shelf] #extract 'name' value from each dict if it exists\n",
    "    return []\n",
    "\n",
    "shelf_counter = Counter()"
   ]
  },
  {
   "cell_type": "code",
   "execution_count": null,
   "id": "46a68bd2",
   "metadata": {},
   "outputs": [],
   "source": [
    "#very large operation (takes about 100 minutes to run)\n",
    "for row in df_merged['popular_shelves'].dropna():\n",
    "    shelf_counter.update(shelf_names(row))\n",
    "\n",
    "print(shelf_counter.most_common(30))"
   ]
  },
  {
   "cell_type": "code",
   "execution_count": null,
   "id": "cc354730",
   "metadata": {},
   "outputs": [],
   "source": [
    "import random\n",
    "\n",
    "unique_shelves = list(shelf_counter.keys())\n",
    "print(f\"unique names: {len(unique_shelves)}\")"
   ]
  },
  {
   "cell_type": "code",
   "execution_count": null,
   "id": "63488b14",
   "metadata": {},
   "outputs": [],
   "source": [
    "print(shelf_counter.most_common(1000))"
   ]
  },
  {
   "cell_type": "code",
   "execution_count": null,
   "id": "979f1f87",
   "metadata": {},
   "outputs": [],
   "source": [
    "def normalize_shelf(name):\n",
    "    return name.strip().lower().replace(\" \", \"-\")"
   ]
  },
  {
   "cell_type": "code",
   "execution_count": null,
   "id": "dac2d4ce",
   "metadata": {},
   "outputs": [],
   "source": [
    "#Filtering shelf names"
   ]
  },
  {
   "cell_type": "code",
   "execution_count": null,
   "id": "d97f6fdf",
   "metadata": {},
   "outputs": [],
   "source": [
    "#cleaning the author column\n",
    "print(df_merged['authors'].iloc[0])"
   ]
  },
  {
   "cell_type": "code",
   "execution_count": null,
   "id": "963767a5",
   "metadata": {},
   "outputs": [],
   "source": [
    "#there is already a language code column but it's not through. Try lang detect to fill in missing\n",
    "from langdetect import detect\n",
    "df_merged['dec']"
   ]
  },
  {
   "cell_type": "code",
   "execution_count": null,
   "id": "7e17905f",
   "metadata": {},
   "outputs": [],
   "source": [
    "#checking for final cleaning steps to slim down dataset futher before splitting  then saving to a csv"
   ]
  },
  {
   "cell_type": "code",
   "execution_count": null,
   "id": "8b9805d0",
   "metadata": {},
   "outputs": [],
   "source": [
    "#split df into managable chunks for further analysis"
   ]
  },
  {
   "cell_type": "code",
   "execution_count": null,
   "id": "5821d7d0",
   "metadata": {},
   "outputs": [],
   "source": [
    "for star in range(0,6):\n",
    "    df_star = df_merged[df_merged['rating'] == star]\n",
    "    df_star.to_csv(f\"{star}star_reviews.csv\")"
   ]
  },
  {
   "cell_type": "code",
   "execution_count": null,
   "id": "7e7b92de",
   "metadata": {},
   "outputs": [],
   "source": [
    "import zipfile\n",
    "import os\n",
    "\n",
    "csv_files = [\"./Data/1star_reviews.csv\"]\n",
    "\n",
    "zip_path = \"./Data/1star_reviews.zip\"\n",
    "\n",
    "with zipfile.ZipFile(zip_path, 'w', zipfile.ZIP_DEFLATED) as zipf:\n",
    "    for file in csv_files:\n",
    "        arcname = os.path.basename(file)\n",
    "        zipf.write(file,arcname=arcname)\n",
    "\n",
    "zip_path"
   ]
  },
  {
   "cell_type": "code",
   "execution_count": null,
   "id": "5656e277",
   "metadata": {},
   "outputs": [],
   "source": [
    "#assigning them to variables then checking size\n",
    "\n",
    "df_5star = pd.read_csv(\"./Data/5star_reviews.csv\")\n",
    "df_5star.info()"
   ]
  },
  {
   "cell_type": "code",
   "execution_count": null,
   "id": "5d6858eb",
   "metadata": {},
   "outputs": [],
   "source": [
    "df_4star = pd.read_csv(\"./Data/4star_reviews.csv\")\n",
    "df_4star.info()"
   ]
  },
  {
   "cell_type": "code",
   "execution_count": null,
   "id": "83a0a4f9",
   "metadata": {},
   "outputs": [],
   "source": [
    "df_3star = pd.read_csv(\"./Data/3star_reviews.csv\")\n",
    "df_3star.info()"
   ]
  },
  {
   "cell_type": "code",
   "execution_count": null,
   "id": "febb84c1",
   "metadata": {},
   "outputs": [],
   "source": [
    "df_2star = pd.read_csv(\"./Data/2star_reviews.csv\")\n",
    "df_2star.info()"
   ]
  },
  {
   "cell_type": "code",
   "execution_count": 1,
   "id": "15225c65-a2b0-4325-8cc0-777fbf594670",
   "metadata": {},
   "outputs": [],
   "source": [
    "import pandas as pd\n",
    "import json\n",
    "import gzip\n",
    "import ast\n",
    "from collections import Counter"
   ]
  },
  {
   "cell_type": "code",
   "execution_count": null,
   "id": "d5ba3d3b-a071-4b09-8c1a-28aceec7c30d",
   "metadata": {},
   "outputs": [],
   "source": [
    "pip install \"numpy<2\""
   ]
  },
  {
   "cell_type": "code",
   "execution_count": 3,
   "id": "da14e218",
   "metadata": {},
   "outputs": [
    {
     "name": "stdout",
     "output_type": "stream",
     "text": [
      "<class 'pandas.core.frame.DataFrame'>\n",
      "RangeIndex: 419874 entries, 0 to 419873\n",
      "Data columns (total 20 columns):\n",
      " #   Column              Non-Null Count   Dtype  \n",
      "---  ------              --------------   -----  \n",
      " 0   Unnamed: 0          419874 non-null  int64  \n",
      " 1   book_id             419874 non-null  int64  \n",
      " 2   review_id           419874 non-null  object \n",
      " 3   rating              419874 non-null  int64  \n",
      " 4   review_text         419874 non-null  object \n",
      " 5   n_votes             419874 non-null  int64  \n",
      " 6   isbn                328665 non-null  object \n",
      " 7   text_reviews_count  419874 non-null  float64\n",
      " 8   country_code        419874 non-null  object \n",
      " 9   language_code       340979 non-null  object \n",
      " 10  popular_shelves     419874 non-null  object \n",
      " 11  average_rating      419874 non-null  float64\n",
      " 12  description         419874 non-null  object \n",
      " 13  authors             419874 non-null  object \n",
      " 14  publisher           347484 non-null  object \n",
      " 15  publication_year    358879 non-null  float64\n",
      " 16  url                 419874 non-null  object \n",
      " 17  image_url           419874 non-null  object \n",
      " 18  ratings_count       419874 non-null  float64\n",
      " 19  title               419874 non-null  object \n",
      "dtypes: float64(4), int64(4), object(12)\n",
      "memory usage: 64.1+ MB\n"
     ]
    }
   ],
   "source": [
    "df_1star = pd.read_csv(\"./1star_reviews.csv\")\n",
    "df_1star.info()"
   ]
  },
  {
   "cell_type": "code",
   "execution_count": 5,
   "id": "20429fcf",
   "metadata": {},
   "outputs": [],
   "source": [
    "# taking a sample of the smallest rating dataset to test for cleaning\n",
    "sample_1star= df_1star.sample(10000, random_state=42)"
   ]
  },
  {
   "cell_type": "code",
   "execution_count": 7,
   "id": "6f37216f",
   "metadata": {},
   "outputs": [
    {
     "name": "stdout",
     "output_type": "stream",
     "text": [
      "[{'count': '587', 'name': 'to-read'}, {'count': '76', 'name': 'romance'}, {'count': '75', 'name': 'diana-palmer'}, {'count': '26', 'name': 'contemporary-romance'}, {'count': '20', 'name': 'currently-reading'}, {'count': '17', 'name': 'harlequin'}, {'count': '14', 'name': 'western'}, {'count': '13', 'name': 'contemporary'}, {'count': '10', 'name': 'long-tall-texans'}, {'count': '10', 'name': 'books-i-own'}, {'count': '9', 'name': 'fiction'}, {'count': '9', 'name': 'cowboy'}, {'count': '8', 'name': 'palmer-diana'}, {'count': '8', 'name': 'series'}, {'count': '7', 'name': 'palmer'}, {'count': '7', 'name': 'harlequin-romance'}, {'count': '6', 'name': 'western-romance'}, {'count': '5', 'name': 'owned'}, {'count': '5', 'name': 'default'}, {'count': '5', 'name': 'my-library'}, {'count': '4', 'name': 'kindle'}, {'count': '4', 'name': 'read-in-2010'}, {'count': '3', 'name': 'audio-books'}, {'count': '3', 'name': '2010-11'}, {'count': '3', 'name': 'harlequin-wishlist'}, {'count': '3', 'name': 'books-i-have'}, {'count': '3', 'name': 'adult'}, {'count': '3', 'name': 'cowboys'}, {'count': '3', 'name': 'favorites'}, {'count': '3', 'name': 'virgin-heroine'}, {'count': '3', 'name': 'april'}, {'count': '2', 'name': 'harlequim'}, {'count': '2', 'name': 'storage1'}, {'count': '2', 'name': 'did-not-finish'}, {'count': '2', 'name': 'series-in-progress'}, {'count': '2', 'name': '150-250-pages'}, {'count': '2', 'name': 'chick-lit'}, {'count': '2', 'name': 'books'}, {'count': '2', 'name': 'on-my-shelf'}, {'count': '2', 'name': 'adult-fiction'}, {'count': '2', 'name': 'cowboy-western'}, {'count': '2', 'name': 'terjemahan'}, {'count': '2', 'name': 'genre-western'}, {'count': '2', 'name': 'undecided'}, {'count': '2', 'name': 'paper-back'}, {'count': '2', 'name': 'not-interested'}, {'count': '2', 'name': 'gramedia'}, {'count': '2', 'name': 'favourites'}, {'count': '2', 'name': 'bought'}, {'count': '2', 'name': 'romantic-suspense'}, {'count': '2', 'name': 'books-owned'}, {'count': '2', 'name': 'action'}, {'count': '2', 'name': 'library'}, {'count': '2', 'name': 'i-own'}, {'count': '2', 'name': 'small-town'}, {'count': '2', 'name': 'audiobook'}, {'count': '2', 'name': 'part-of-a-series'}, {'count': '2', 'name': 'series-romance'}, {'count': '2', 'name': 'library-books'}, {'count': '2', 'name': '2010-read'}, {'count': '2', 'name': 'harlequinromance'}, {'count': '1', 'name': '2017-read'}, {'count': '1', 'name': 'meaghan'}, {'count': '1', 'name': 'mills-and-boon'}, {'count': '1', 'name': 'my-owned-books'}, {'count': '1', 'name': 'elibrary'}, {'count': '1', 'name': '0-contemporary'}, {'count': '1', 'name': 'genre_romance'}, {'count': '1', 'name': 'seasonal-challenge'}, {'count': '1', 'name': 'best-covers'}, {'count': '1', 'name': 'read-in-2015'}, {'count': '1', 'name': 'meh'}, {'count': '1', 'name': 'all-time-favorites'}, {'count': '1', 'name': 'tbr-later'}, {'count': '1', 'name': 'harlequins'}, {'count': '1', 'name': 'books-i-own-paper'}, {'count': '1', 'name': 'angsty'}, {'count': '1', 'name': 'on-the-shelf'}, {'count': '1', 'name': '2017-challenge'}, {'count': '1', 'name': 'series-read'}, {'count': '1', 'name': 'free-borrowed'}, {'count': '1', 'name': 'paperback'}, {'count': '1', 'name': 'shelf-4-front'}, {'count': '1', 'name': '2017-bookriot-challenge'}, {'count': '1', 'name': 'vicky-to-read'}, {'count': '1', 'name': 'need-to-read-vet'}, {'count': '1', 'name': '1999-reads'}, {'count': '1', 'name': '2010-reads'}, {'count': '1', 'name': 'blom-check'}, {'count': '1', 'name': 'primary'}, {'count': '1', 'name': 'romance-modern'}, {'count': '1', 'name': 'own-to-read'}, {'count': '1', 'name': 'long-tall-texan'}, {'count': '1', 'name': 'location-nook'}, {'count': '1', 'name': 'hero-grovels'}, {'count': '1', 'name': 'brooding-hero'}, {'count': '1', 'name': 'long-tall-texans-series-bk-34'}, {'count': '1', 'name': 'harlequin-modern-romance'}, {'count': '1', 'name': 'e-books'}, {'count': '1', 'name': '3-stars'}]\n"
     ]
    }
   ],
   "source": [
    "#cleaning popular shelves column\n",
    "print(sample_1star['popular_shelves'].iloc[0])"
   ]
  },
  {
   "cell_type": "code",
   "execution_count": 9,
   "id": "80c2e5fd-ac8c-4af7-9114-6c37f5b4bb51",
   "metadata": {},
   "outputs": [],
   "source": [
    "#seeing which shelves have the highest counts\n",
    "#function that extracts shelf names from string lists of the shelf dictionaires\n",
    "def shelf_names(shelves_str):\n",
    "    shelves_list = ast.literal_eval(shelves_str) #convert the string to a list of dicts\n",
    "    if isinstance(shelves_list, list):\n",
    "        return [shelf['name'] for shelf in shelves_list if 'name' in shelf] #extract 'name' value from each dict if it exists\n",
    "    return []\n",
    "\n",
    "shelf_counter = Counter()"
   ]
  },
  {
   "cell_type": "code",
   "execution_count": 11,
   "id": "6c09e7d9-5d99-4472-a69b-f81dc13cd3f9",
   "metadata": {},
   "outputs": [
    {
     "name": "stdout",
     "output_type": "stream",
     "text": [
      "[('to-read', 9929), ('currently-reading', 9297), ('owned', 8457), ('fiction', 8311), ('favorites', 8263), ('books-i-own', 7961), ('kindle', 7382), ('ebook', 7213), ('library', 7085), ('owned-books', 6950), ('to-buy', 6593), ('ebooks', 6318), ('wish-list', 5941), ('default', 5726), ('contemporary', 5486), ('my-books', 5381), ('audiobook', 5368), ('adult', 5238), ('romance', 5224), ('audiobooks', 5077), ('i-own', 4903), ('my-library', 4853), ('did-not-finish', 4748), ('dnf', 4737), ('audio', 4647), ('abandoned', 4567), ('favourites', 4412), ('e-book', 4404), ('series', 4208), ('novels', 4206), ('read-in-2015', 4022), ('own-it', 3976), ('books', 3873), ('book-club', 3829), ('fantasy', 3827), ('e-books', 3779), ('read-in-2016', 3764), ('read-in-2014', 3740), ('adult-fiction', 3735), ('maybe', 3717), ('young-adult', 3559), ('read-in-2013', 3381), ('read-in-2017', 3149), ('mystery', 3113), ('have', 3004), ('novel', 2992), ('reviewed', 2966), ('borrowed', 2906), ('ya', 2884), ('audible', 2854), ('audio-books', 2814), ('drama', 2801), ('english', 2660), ('read-in-2012', 2643), ('didn-t-finish', 2622), ('favorite', 2553), ('tbr', 2548), ('unfinished', 2525), ('contemporary-fiction', 2495), ('audio-book', 2459)]\n"
     ]
    }
   ],
   "source": [
    "#very large operation (takes about 100 minutes to run)\n",
    "for row in sample_1star['popular_shelves'].dropna():\n",
    "    shelf_counter.update(shelf_names(row))\n",
    "\n",
    "print(shelf_counter.most_common(60))"
   ]
  },
  {
   "cell_type": "code",
   "execution_count": 13,
   "id": "1555e180-aa46-47bb-988e-f208abdee56d",
   "metadata": {},
   "outputs": [
    {
     "name": "stdout",
     "output_type": "stream",
     "text": [
      "unique names: 92620\n"
     ]
    }
   ],
   "source": [
    "import random\n",
    "\n",
    "unique_shelves = list(shelf_counter.keys())\n",
    "print(f\"unique names: {len(unique_shelves)}\")"
   ]
  },
  {
   "cell_type": "code",
   "execution_count": 37,
   "id": "e450a1f3-f581-4c1b-a92d-2d67f58cc34b",
   "metadata": {},
   "outputs": [],
   "source": [
    "import ast\n",
    "\n",
    "blacklist = {\n",
    "    'reading_status': [\n",
    "        'read', 'currently reading', 'dnf', 'unread', 'tbr', 'reread', 'finished'\n",
    "    ],\n",
    "    'ownership': [\n",
    "        'owned', 'own', 'buy', 'bought', 'borrow', 'library', 'kindle', 'ebook', 'epub', \n",
    "        'paperback', 'nook', 'hardcover', 'download', 'ibooks', 'kobo', 'scribd'\n",
    "    ],\n",
    "    'rating_review': [\n",
    "        'star', 'favorite', 'favourite', 'review', 'recommend', 'amazing', 'must', \n",
    "        'best', 'loved'\n",
    "    ],\n",
    "    'promotion': [\n",
    "        'audiobook', 'audio', 'netgalley', 'gift', 'challenge', 'award', 'edition', \n",
    "        'collection', 'release', 'published', 'sequel', 'shelve', 'scan', 'pdf'\n",
    "    ],\n",
    "    'proper_nouns': [\n",
    "        'neal', 'stephenson', 'amy', 'kate', 'robert', 'emily', 'veronica', 'june', 'sophia', 'palmer'\n",
    "    ],\n",
    "    'misc': [\n",
    "        'storage', 'location', 'page', 'purchase', 'bore', 'new', 'hold', 'mine', \n",
    "        'drop', 'theme', 'funny', 'didnt', 'purchased', 'print'\n",
    "    ]\n",
    "}\n",
    "\n",
    "\n",
    "# Flatten into a set of lowercase blacklist words\n",
    "blacklist_set = set()\n",
    "for group in blacklist.values():\n",
    "    blacklist_set.update(word.lower() for word in group)"
   ]
  },
  {
   "cell_type": "code",
   "execution_count": 17,
   "id": "df654cbe-e6d5-473d-aa7c-10dc5a9bbbe0",
   "metadata": {},
   "outputs": [],
   "source": [
    "import ast\n",
    "\n",
    "def clean_name(name):\n",
    "    return name.lower().replace('-', ' ').replace('_', ' ').strip()\n",
    "\n",
    "def extract_shelves(shelves_str):\n",
    "    try:\n",
    "        shelves_list = ast.literal_eval(shelves_str)\n",
    "    except:\n",
    "        return []\n",
    "\n",
    "    if isinstance(shelves_list, list):\n",
    "        return [(clean_name(shelf['name']), int(shelf.get('count', 0)))\n",
    "                for shelf in shelves_list if 'name' in shelf]\n",
    "    return []"
   ]
  },
  {
   "cell_type": "code",
   "execution_count": 19,
   "id": "ec1b622a-9cb4-461a-979a-d26e75455205",
   "metadata": {},
   "outputs": [],
   "source": [
    "sample_1star['cleaned_shelves'] = sample_1star['popular_shelves'].apply(extract_shelves)"
   ]
  },
  {
   "cell_type": "code",
   "execution_count": 23,
   "id": "5eb8ae17",
   "metadata": {},
   "outputs": [
    {
     "data": {
      "text/html": [
       "<div>\n",
       "<style scoped>\n",
       "    .dataframe tbody tr th:only-of-type {\n",
       "        vertical-align: middle;\n",
       "    }\n",
       "\n",
       "    .dataframe tbody tr th {\n",
       "        vertical-align: top;\n",
       "    }\n",
       "\n",
       "    .dataframe thead th {\n",
       "        text-align: right;\n",
       "    }\n",
       "</style>\n",
       "<table border=\"1\" class=\"dataframe\">\n",
       "  <thead>\n",
       "    <tr style=\"text-align: right;\">\n",
       "      <th></th>\n",
       "      <th>cleaned_shelves</th>\n",
       "    </tr>\n",
       "  </thead>\n",
       "  <tbody>\n",
       "    <tr>\n",
       "      <th>41230</th>\n",
       "      <td>[(to read, 587), (romance, 76), (diana palmer, 75), (contemporary romance, 26), (currently reading, 20), (harlequin, 17), (western, 14), (contemporary, 13), (long tall texans, 10), (books i own, 10), (fiction, 9), (cowboy, 9), (palmer diana, 8), (series, 8), (palmer, 7), (harlequin romance, 7), (western romance, 6), (owned, 5), (default, 5), (my library, 5), (kindle, 4), (read in 2010, 4), (audio books, 3), (2010 11, 3), (harlequin wishlist, 3), (books i have, 3), (adult, 3), (cowboys, 3), (favorites, 3), (virgin heroine, 3), (april, 3), (harlequim, 2), (storage1, 2), (did not finish, 2), (series in progress, 2), (150 250 pages, 2), (chick lit, 2), (books, 2), (on my shelf, 2), (adult fiction, 2), (cowboy western, 2), (terjemahan, 2), (genre western, 2), (undecided, 2), (paper back, 2), (not interested, 2), (gramedia, 2), (favourites, 2), (bought, 2), (romantic suspense, 2), (books owned, 2), (action, 2), (library, 2), (i own, 2), (small town, 2), (audiobook, 2), (part of a series, 2), (series romance, 2), (library books, 2), (2010 read, 2), (harlequinromance, 2), (2017 read, 1), (meaghan, 1), (mills and boon, 1), (my owned books, 1), (elibrary, 1), (0 contemporary, 1), (genre romance, 1), (seasonal challenge, 1), (best covers, 1), (read in 2015, 1), (meh, 1), (all time favorites, 1), (tbr later, 1), (harlequins, 1), (books i own paper, 1), (angsty, 1), (on the shelf, 1), (2017 challenge, 1), (series read, 1), (free borrowed, 1), (paperback, 1), (shelf 4 front, 1), (2017 bookriot challenge, 1), (vicky to read, 1), (need to read vet, 1), (1999 reads, 1), (2010 reads, 1), (blom check, 1), (primary, 1), (romance modern, 1), (own to read, 1), (long tall texan, 1), (location nook, 1), (hero grovels, 1), (brooding hero, 1), (long tall texans series bk 34, 1), (harlequin modern romance, 1), (e books, 1), (3 stars, 1)]</td>\n",
       "    </tr>\n",
       "    <tr>\n",
       "      <th>95710</th>\n",
       "      <td>[(to read, 25568), (science fiction, 1975), (sci fi, 1674), (currently reading, 1113), (fiction, 1014), (scifi, 453), (favorites, 344), (post apocalyptic, 211), (sf, 179), (kindle, 175), (audiobook, 170), (owned, 159), (sci fi fantasy, 138), (abandoned, 128), (ebook, 125), (audiobooks, 122), (dystopian, 114), (audible, 111), (library, 111), (audio, 106), (space, 105), (to buy, 101), (fantasy, 100), (dystopia, 95), (apocalyptic, 93), (read in 2015, 81), (read in 2016, 79), (science, 73), (speculative fiction, 70), (scifi fantasy, 68), (dnf, 66), (novels, 63), (did not finish, 63), (fantasy sci fi, 58), (ebooks, 57), (adult, 57), (to read fiction, 57), (apocalypse, 57), (books i own, 54), (space opera, 51), (read 2015, 49), (wish list, 48), (unfinished, 47), (read 2016, 46), (book club, 46), (bill gates, 44), (didn t finish, 43), (science fiction fantasy, 42), (hard sci fi, 38), (audio book, 37), (audio books, 36), (maybe, 36), (sff, 34), (adventure, 32), (gave up on, 31), (on hold, 31), (novel, 31), (recommended, 31), (read 2017, 30), (read in 2017, 30), (owned books, 30), (e books, 29), (post apocalypse, 29), (sf fantasy, 28), (e book, 28), (survival, 28), (default, 27), (neal stephenson, 27), (to read sci fi, 27), (sci fi and fantasy, 26), (never finished, 24), (sci fi to read, 24), (hard scifi, 23), (couldn t finish, 23), (to read scifi, 23), (epic, 23), (stopped reading, 22), (hard science fiction, 22), (to get, 22), (literature, 21), (2015 reads, 21), (adult fiction, 21), (standalone, 20), (fiction to read, 20), (fantasy scifi, 20), (english, 20), (sciencefiction, 20), (speculative, 20), (thriller, 19), (borrowed, 18), (library books, 18), (gave up, 18), (signed, 18), (future, 18), (reviewed, 17), (favourites, 17), (2015 read, 17), (my library, 17), (21st century, 17), (near future, 17)]</td>\n",
       "    </tr>\n",
       "    <tr>\n",
       "      <th>142885</th>\n",
       "      <td>[(currently reading, 247), (romance, 150), (to read, 111), (kindle, 97), (historical romance, 80), (historical, 78), (historical fiction, 53), (regency, 53), (ebook, 38), (humor, 30), (fiction, 19), (ebooks, 18), (owned, 17), (kindle books, 17), (favorites, 15), (regency romance, 14), (e book, 13), (comedy, 11), (on kindle, 11), (romance historical, 10), (books i own, 9), (free, 9), (kindle library, 8), (funny, 8), (adult, 8), (freebie, 8), (kindle freebie, 8), (dnf, 7), (freebies, 7), (chick lit, 6), (read in 2012, 6), (e books, 6), (read in 2017, 5), (amazon, 5), (own it, 5), (read in 2013, 5), (kindle free, 5), (kindle unlimited, 4), (read in 2016, 4), (england, 4), (read 2015, 4), (owned books, 4), (wish list, 4), (to read owned, 4), (cross dressing, 4), (free ebook, 4), (guilty pleasures, 4), (my ebooks, 3), (read in 2015, 3), (favourites, 3), (loved it, 3), (kindle own, 3), (d l carter, 3), (humorous, 3), (own kindle, 3), (on my kindle, 3), (free books, 3), (maybe, 3), (gender bender, 3), (regency era, 3), (to be read, 3), (fantasy, 3), (free kindle, 3), (kindle to read, 3), (kindle freebies, 3), (i own, 3), (amazon freebies, 3), (kindle to lend, 3), (humour, 3), (historicals, 3), (friendship, 2), (top favorites, 2), (default, 2), (laugh out loud, 2), (shelfari humor, 2), (humour comedy, 2), (shelved, 2), (kindle reads, 2), (own as ebook, 2), (2015 challenge, 2), (humorous romance, 2), (period, 2), (m f, 2), (friends to lovers, 2), (bookbub, 2), (fun, 2), (misc, 2), (own to read, 2), (mf, 2), (reviewed, 2), (fiction humor, 2), (own on kindle, 2), (unfinished, 2), (kindled, 2), (historical romances, 2), (drama, 2), (family, 2), (love story, 2), (lendable kindle, 2), (first reads, 2)]</td>\n",
       "    </tr>\n",
       "    <tr>\n",
       "      <th>238919</th>\n",
       "      <td>[(to read, 1075), (young adult, 640), (currently reading, 468), (dystopian, 421), (dystopia, 345), (ya, 335), (favorites, 269), (science fiction, 222), (books i own, 202), (post apocalyptic, 186), (series, 182), (sci fi, 157), (survival, 120), (fiction, 109), (owned, 102), (apocalyptic, 101), (teen, 71), (adventure, 61), (library, 54), (to buy, 54), (wish list, 52), (apocalypse, 51), (fantasy, 48), (owned books, 45), (read in 2014, 42), (arc, 42), (maybe, 39), (ya fiction, 39), (read in 2013, 38), (ebook, 38), (monument 14, 36), (read in 2012, 36), (i own, 35), (signed, 33), (end of the world, 32), (first in series, 29), (kindle, 29), (ya dystopian, 27), (realistic fiction, 27), (my books, 25), (netgalley, 25), (scifi, 24), (ebooks, 24), (read 2014, 23), (romance, 23), (tbr, 23), (ya books, 23), (2012 release, 23), (dnf, 22), (young adult fiction, 21), (dystopian post apocalyptic, 21), (audiobook, 20), (favourites, 20), (teen fiction, 20), (suspense, 20), (did not finish, 19), (post apocalypse, 19), (male pov, 19), (read in 2016, 18), (read in 2015, 18), (library books, 18), (thriller, 18), (horror, 17), (action adventure, 17), (read 2013, 16), (reviewed, 16), (for review, 16), (high school, 15), (sci fi fantasy, 15), (disaster, 15), (speculative fiction, 14), (future, 14), (4 stars, 14), (ya lit, 14), (must read, 14), (want, 14), (want to read, 14), (2015 reads, 13), (audio, 13), (contemporary, 13), (have, 13), (action, 13), (meh, 12), (ya dystopia, 12), (distopian, 12), (audiobooks, 12), (book club, 12), (friendship, 12), (first in a series, 12), (colorado, 12), (3 stars, 12), (e books, 12), (ya to read, 12), (2012 releases, 12), (own it, 11), (english, 11), (arcs, 11), (2014 reads, 10), (2013 reads, 10), (2013 books, 10)]</td>\n",
       "    </tr>\n",
       "    <tr>\n",
       "      <th>172222</th>\n",
       "      <td>[(to read, 5446), (fantasy, 84), (young adult, 65), (historical fiction, 29), (ya, 26), (fairies, 25), (series, 24), (favorites, 21), (faeries, 21), (romance, 20), (currently reading, 20), (fae, 18), (paranormal, 17), (books i own, 15), (magic, 13), (historical, 13), (kindle, 12), (to buy, 11), (urban fantasy, 8), (2012 releases, 8), (ebook, 7), (giveaways, 7), (the faerie ring, 7), (wish list, 7), (adventure, 6), (faerie, 6), (fey, 6), (ya fantasy, 6), (paranormal romance, 6), (e books, 5), (library, 5), (ebooks, 5), (arc, 5), (faerie ring, 5), (on kindle, 4), (have, 4), (for review, 4), (fairy, 4), (fiction, 4), (historical fantasy, 4), (need to buy, 4), (october 2012, 4), (ya to read, 4), (kiki hamilton, 4), (to read series, 3), (historical romance, 3), (freebies, 3), (kindle books, 3), (royalty, 3), (historical fic, 3), (young adult fiction, 3), (owned, 3), (e book, 3), (need to download, 3), (need to get, 3), (giveaway, 3), (want, 3), (unfinished series, 3), (giveaway entry, 3), (fey books, 3), (the faerie ring series, 3), (book series, 3), (ya paranormal, 3), (must read, 3), (maybe read, 3), (2012 src, 3), (2012 release, 3), (might read, 3), (sequels, 3), (unread, 2), (meh, 2), (2015 read, 2), (love triangle, 2), (books i want to own, 2), (regency, 2), (h, 2), (owned kindle, 2), (books, 2), (published 2012, 2), (august 2012, 2), (need to finish series, 2), (read in 2013, 2), (ebooks i own, 2), (to read kindle, 2), (review, 2), (free, 2), (5 stars, 2), (maybe to read, 2), (next in series, 2), (kindle freebie, 2), (supernatural, 2), (faries, 2), (2013 to read, 2), (need, 2), (the fey, 2), (own it, 2), (own to read, 2), (nook, 2), (series to finish, 2), (books that i own, 2)]</td>\n",
       "    </tr>\n",
       "    <tr>\n",
       "      <th>303205</th>\n",
       "      <td>[(to read, 15998), (fiction, 972), (currently reading, 595), (young adult, 380), (favorites, 370), (chick lit, 235), (ya, 216), (books i own, 157), (contemporary, 145), (coming of age, 129), (boarding school, 102), (owned, 92), (contemporary fiction, 76), (adult fiction, 73), (adult, 68), (book club, 60), (realistic fiction, 59), (2006, 55), (high school, 47), (novels, 47), (general fiction, 43), (owned books, 35), (literary fiction, 35), (library, 35), (chicklit, 33), (favourites, 32), (bookclub, 30), (novel, 27), (my library, 26), (school, 26), (abandoned, 25), (dnf, 24), (my books, 24), (2005, 24), (to buy, 23), (audiobook, 22), (kindle, 22), (ya fiction, 22), (american, 22), (adolescence, 21), (beach reads, 21), (teen, 21), (i own, 20), (read in 2016, 19), (did not finish, 19), (audio, 19), (romance, 19), (own it, 19), (to read fiction, 17), (family, 17), (read in 2010, 17), (new england, 17), (friendship, 17), (audiobooks, 17), (wish list, 17), (read in 2008, 16), (shelfari favorites, 15), (re read, 15), (all time favorites, 15), (curtis sittenfeld, 15), (ya contemporary, 14), (default, 14), (read in 2011, 14), (ya books, 14), (borrowed, 14), (read in 2009, 14), (chic lit, 14), (didn t finish, 14), (2000s, 13), (literature, 13), (literary, 13), (book club books, 13), (usa, 13), (read in 2014, 12), (read in 2012, 12), (gave up on, 12), (ya lit, 12), (recommended, 12), (read in 2006, 12), (modern fiction, 12), (prep school, 12), (read in 2017, 11), (first reads, 11), (read in 2013, 11), (relationships, 11), (bildungsroman, 11), (drama, 11), (fluff, 11), (lit, 11), (female author, 10), (realistic, 10), (21st century, 10), (reviewed, 10), (favorite books, 10), (couldn t finish, 10), (could not finish, 10), (female authors, 10), (unfinished, 9), (finished, 9), (coming, 9)]</td>\n",
       "    </tr>\n",
       "    <tr>\n",
       "      <th>191077</th>\n",
       "      <td>[(to read, 41), (read in 2015, 2), (dystopian and post apocalyptic, 2), (hardly known books, 1), (reviewed on blog, 1), (books, 1), (review copy, 1), (owned books, 1), (arcreviewcopies, 1), (read 2015, 1), (sci fi, 1), (review copies, 1), (fiction, 1), (series started not pubbed, 1), (future, 1), (dystopian, 1), (arc physical, 1), (2015 release, 1), (series started, 1), (catalog, 1), (science fiction, 1), (r2r, 1), (tbr science fiction, 1), (tbr futuristic, 1), (wish list, 1), (young adult, 1)]</td>\n",
       "    </tr>\n",
       "    <tr>\n",
       "      <th>226358</th>\n",
       "      <td>[(to read, 468), (science fiction, 51), (currently reading, 41), (fiction, 20), (default, 16), (sci fi, 14), (military, 14), (military fiction, 11), (owned, 10), (military science fiction, 7), (sf, 6), (military sci fi, 6), (favorites, 6), (alternate history, 6), (ringo, 5), (scifi, 5), (audiobook, 5), (ebooks, 4), (need, 3), (ebook, 3), (thriller, 3), (calibre, 3), (fantasy, 3), (john ringo, 3), (sci fi fantasy, 3), (science fiction and fantasy, 3), (baen, 3), (war, 3), (gave up, 2), (audio, 2), (library, 2), (audible, 2), (not interested, 2), (teotwawki, 2), (owned books, 2), (abandoned, 2), (novels, 2), (my library, 2), (apocalypse, 2), (warriors, 2), (shame on you, 2), (2006 2010, 2), (did not finish, 2), (to buy, 2), (apocalyptic, 2), (action adventure, 2), (military sf, 2), (easton press, 2), (listened to, 2), (post apocalypse, 2), (quit despite a valiant try, 1), (physical, 1), (appeal intellect, 1), (to sort, 1), (alan 2, 1), (inventory digital, 1), (inventory, 1), (digital drm free, 1), (conservative, 1), (somewhere out there, 1), (best i ever read, 1), (science, 1), (bookbub, 1), (may read, 1), (randisi library, 1), (2010 read, 1), (read 2009, 1), (physical books, 1), (owned physical, 1), (chads books, 1), (tbr, 1), (martial, 1), (tbr library, 1), (0 janesville, 1), (library book, 1), (hardback, 1), (other, 1), (audiobooks, 1), (pa, 1), (ku, 1), (shelfari favorites, 1), (to read jd, 1), (sfi, 1), (general fiction, 1), (audio shelf, 1), (book box 2, 1), (fiction drama, 1), (2000s, 1), (recommended reading, 1), (featured, 1), (scif fi, 1), (for sale, 1), (autobooks, 1), (aanwezig, 1), (na w, 1), (lemmed, 1), (want to buy, 1), (survival, 1), (autographed, 1), (andy, 1)]</td>\n",
       "    </tr>\n",
       "    <tr>\n",
       "      <th>119477</th>\n",
       "      <td>[(to read, 3714), (currently reading, 157), (mafia, 130), (romance, 57), (new adult, 53), (series, 40), (favorites, 33), (dark, 31), (cliffhanger, 29), (abuse, 29), (high school, 27), (contemporary, 26), (alpha male, 18), (mob, 17), (contemporary romance, 17), (young adult, 17), (mafia romance, 16), (love triangle, 15), (ya, 13), (read in 2016, 12), (dark romance, 10), (april 2016, 9), (made men, 9), (mafia mob, 9), (mob mafia, 9), (bad boys, 9), (read 2016, 8), (dnf, 8), (sarah brianne, 8), (ebook, 7), (bad boy, 7), (part of a series, 7), (favourites, 7), (crime, 7), (bully, 6), (angst, 6), (abused, 6), (ebooks, 6), (to be released, 6), (read 2017, 5), (finished, 5), (boring, 5), (meh, 5), (mystery, 5), (na, 5), (suspense, 5), (kindle, 5), (drama, 5), (bullying, 5), (mob romance, 5), (to buy, 5), (must read, 5), (coming soon, 5), (read in 2017, 4), (2016 read, 4), (3 stars, 4), (tear jerker, 4), (anti hero, 4), (abused heroine, 4), (college, 4), (cliffy, 4), (audio, 4), (not interested, 4), (part of series, 4), (realistic fiction, 4), (waiting for release, 4), (2017 reads, 3), (highschool, 3), (unfinished series, 3), (alpha males, 3), (favorite, 3), (love, 3), (multiple pov, 3), (disappointing, 3), (intense, 3), (2016 challenge, 3), (owned, 3), (2016 reads, 3), (heartbreaking, 3), (betrayal, 3), (na ya, 3), (maybe, 3), (scarred, 3), (2016 books, 3), (2016 release, 3), (need to buy, 3), (doormat heroine, 3), (mafioso, 3), (favorite series, 3), (not yet released, 3), (series family n friends, 2), (english, 2), (série, 2), (lost interest, 2), (loss, 2), (family, 2), (meeeh, 2), (rom, 2), (2017 read, 2), (books i own, 2)]</td>\n",
       "    </tr>\n",
       "    <tr>\n",
       "      <th>175002</th>\n",
       "      <td>[(to read, 2497), (currently reading, 77), (fiction, 39), (feminism, 6), (netgalley, 6), (kindle, 6), (arc, 6), (read in 2016, 5), (ebook, 5), (womens fiction, 5), (library, 4), (did not finish, 4), (book club, 4), (abandoned, 4), (to buy, 4), (chick lit, 4), (owned books, 3), (literature, 3), (owned, 3), (novels, 3), (romance, 3), (read in 2015, 3), (bookshelf, 2), (2016 challenge, 2), (my library, 2), (audio, 2), (aging, 2), (dnf, 2), (books read in 2015, 2), (women, 2), (feminist, 2), (contemporary, 2), (humor, 2), (contemporary fiction, 2), (tbr, 2), (stopped reading, 2), (first reads, 2), (erotica, 2), (books i own, 2), (usa and canada, 1), (to read longlist, 1), (online, 1), (adult fiction, 1), (what i ve read, 1), (wishlist 2017, 1), (drama, 1), (psychology, 1), (set aside, 1), (sports zip, 1), (continuing series, 1), (abandonados, 1), (read in english, 1), (removed from to read, 1), (june 2016 kathy, 1), (female main character, 1), (borrowed from library, 1), (asian, 1), (300 or less pages, 1), (mom, 1), (audiobooks i listened to, 1), (books to read, 1), (couldn t finish, 1), (my ebooks, 1), (first edition, 1), (recommended by ken follett, 1), (in google drive to read, 1), (reading challenge 2017, 1), (personal, 1), (megafavorits, 1), (feminis me, 1), (duelo, 1), (jenners pick, 1), (bad girls book club, 1), (fav books to read, 1), (to read next, 1), (research, 1), (elle magazine books, 1), (october, 1), (ebook to read, 1), (acls, 1), (woman, 1), (bib ce, 1), (new, 1), (not digitally available, 1), (romaani ulkomainen, 1), (litfic, 1), (public library, 1), (calibre, 1), (reviewed books, 1), (mad money books, 1), (partially read, 1), (giveaways, 1), (couldn t get through it, 1), (north america, 1), (book club books, 1), (book lovers never go to bed alone, 1), (arc received free, 1), (owned to read, 1), (adult, 1), (matriarchy, 1)]</td>\n",
       "    </tr>\n",
       "    <tr>\n",
       "      <th>397069</th>\n",
       "      <td>[(to read, 724), (currently reading, 33), (nonfiction, 17), (non fiction, 11), (humor, 10), (language, 4), (to read nonfiction, 2), (wish list, 2), (nonfic, 2), (tbr nonfiction, 1), (language and linguistics, 1), (ha ha ho ho, 1), (review someday, 1), (psn, 1), (linguistics, 1), (hilarity, 1), (in read queue, 1), (geekery, 1), (read in 2017, 1), (word nerd, 1), (2017 books read, 1), (reread me, 1), (i own this, 1), (best ever, 1), (digital, 1), (words, 1), (essays, 1), (upcoming, 1), (economist reviews, 1), (quirky ref, 1), (english language, 1), (apl books, 1), (via economist, 1), (books on my shelf to be read, 1), (you read what, 1), (london, 1), (caught my eye at work, 1), (books to read that i own, 1), (to read unowned, 1), (fun reads, 1), (n5 culture, 1), (n nonfiction, 1), (ebook wishlist, 1), (interlibrary, 1), (comedy, 1), (review by sarah, 1), (nonf to get, 1), (movie and tv related, 1), (literary criticism biography, 1), (my book box, 1), (new york, 1), (kindle books, 1), (biography memoir, 1), (memoir non fiction, 1), (to read fiction on dropbox, 1), (edelweiss to read, 1), (read in 17, 1), (edelweiss, 1), (ebooks suck, 1), (to read library, 1), (professional development, 1), (givaway entry, 1), (book threat rec, 1), (single, 1), (giveaways, 1), (arcs, 1), (colonial way, 1), (general nonfiction, 1), (language linguistics, 1), (bio, 1), (advance reader, 1)]</td>\n",
       "    </tr>\n",
       "    <tr>\n",
       "      <th>56647</th>\n",
       "      <td>[(to read, 474), (currently reading, 156), (erotica, 77), (taboo, 47), (kindle unlimited, 32), (novella, 32), (alexa riley, 31), (contemporary, 30), (smut, 26), (romance, 24), (adult, 19), (read in 2016, 18), (ménage, 18), (virgin, 18), (favorites, 17), (kindle, 16), (erotic romance, 15), (erotic, 15), (alpha male, 14), (pregnancy, 14), (forbidden love, 14), (virgin heroine, 14), (2016 reads, 13), (short story, 12), (short stories, 12), (short, 11), (ebook, 11), (contemporary romance, 11), (read 2016, 10), (age gap, 10), (stepbrother, 10), (2016 read, 10), (step siblings, 10), (ebooks, 9), (new adult, 8), (author alexa riley, 8), (read in 2017, 7), (dnf, 7), (hot hot hot, 7), (forbidden, 7), (insta love, 6), (dual pov, 6), (dirty talker, 6), (3 stars, 6), (standalone, 6), (love triangle, 6), (steamy, 6), (stand alone, 6), (smutty, 6), (hot, 6), (not interested, 6), (talk dirty to me, 6), (4 stars, 5), (2016 reading challenge, 5), (english, 5), (mfm, 5), (guilty pleasure, 5), (bad boys, 5), (short read, 5), (virgin hero, 5), (kinky, 5), (daddy kink, 5), (kink, 4), (heroine virgin, 4), (ku, 4), (stepbrother romance, 4), (daddy, 4), (wtf, 4), (short story novella, 4), (no cheating, 4), (reviewed, 4), (finished, 4), (2016 release, 4), (not for me, 4), (dd lg, 3), (ibook, 3), (hot and steamy, 3), (epub, 3), (e book, 3), (panty dropping hot, 3), (2016 books read, 3), (happily ever after, 3), (short reads, 3), (wish list, 3), (breeding, 3), (teen, 3), (novellas, 3), (m f m, 3), (v card, 3), (5 stars, 3), (adult fiction, 3), (mmf, 3), (quick read, 3), (forbidden romance, 3), (virgin h, 3), (family, 3), (owned, 3), (pseudo incest, 3), (celibate hero, 3), (kinky fuckery, 3)]</td>\n",
       "    </tr>\n",
       "    <tr>\n",
       "      <th>229180</th>\n",
       "      <td>[(to read, 9745), (currently reading, 430), (essays, 373), (non fiction, 280), (nonfiction, 146), (favorites, 35), (owned, 33), (writing, 30), (essay, 25), (fiction, 23), (library, 22), (contemporary, 21), (short stories, 21), (criticism, 20), (literary criticism, 19), (to buy, 18), (books i own, 15), (literature, 15), (literary, 14), (memoir, 14), (ebook, 13), (abandoned, 13), (english, 12), (books about books, 12), (kindle, 12), (owned books, 11), (wish list, 11), (british, 10), (unfinished, 10), (women, 10), (book club, 10), (zadie smith, 10), (essay collections, 9), (female author, 9), (ebooks, 9), (on hold, 9), (read in 2010, 9), (lit crit, 9), (read in 2016, 8), (collections, 8), (to read non fiction, 8), (to read nonfiction, 8), (non fic, 8), (read in 2017, 7), (feminism, 7), (european, 7), (audiobook, 7), (dnf, 6), (female authors, 6), (poc, 6), (short stories essays, 6), (welsh, 6), (scottish, 6), (irish, 6), (didn t finish, 6), (adult, 6), (britain, 5), (maybe, 5), (general, 5), (21st century, 5), (biography, 5), (did not finish, 5), (culture, 5), (audio book, 5), (read in 2015, 4), (brainpickings, 4), (e books, 4), (2000s, 4), (essays short stories, 4), (contemporary fiction, 4), (own to read, 4), (default, 4), (read 2013, 4), (by women, 4), (women authors, 4), (audiobooks, 4), (never finished, 4), (journalism, 4), (on writing, 4), (audio, 4), (to finish, 4), (couldn t finish, 4), (cultural studies, 4), (favourites, 4), (to find, 4), (library book, 3), (female writers, 3), (feminist, 3), (authors of color, 3), (nonfiction essays, 3), (black, 3), (read 2015, 3), (to read 2015, 3), (essays criticism, 3), (to borrow, 3), (university, 3), (put down for now, 3), (read in english, 3), (owned unread, 3), (writers, 3)]</td>\n",
       "    </tr>\n",
       "    <tr>\n",
       "      <th>281447</th>\n",
       "      <td>[(to read, 872), (fiction, 220), (chick lit, 116), (currently reading, 112), (audio, 84), (book club, 83), (knitting, 73), (owned, 52), (series, 49), (books i own, 49), (book club books, 49), (contemporary fiction, 45), (novels, 44), (friendship, 43), (audiobook, 41), (default, 39), (favorites, 37), (audiobooks, 31), (owned books, 27), (mothers and daughters, 27), (family, 26), (relationships, 25), (contemporary, 25), (read in 2011, 22), (kate jacobs, 21), (adult, 20), (library, 20), (couldn t finish, 20), (abandoned, 19), (romance, 18), (audio book, 18), (audio books, 18), (read in 2012, 16), (new york city, 16), (shelfari favorites, 14), (my books, 14), (women, 13), (did not finish, 13), (read in 2015, 12), (my library, 12), (adult fiction, 12), (audible, 12), (dnf, 12), (ebook, 12), (read in 2017, 11), (women s fiction, 11), (realistic fiction, 11), (novel, 11), (read 2014, 11), (jacobs kate, 11), (crafty, 11), (adult books, 11), (cancer, 10), (books i have, 10), (book club read, 10), (paperback, 10), (fiction general, 10), (read fiction, 10), (owned to read, 10), (library books, 10), (2009 books, 10), (general fiction, 9), (read in 2014, 9), (bookclub, 9), (drama, 9), (womens fiction, 9), (own it, 9), (first in series, 9), (read 2013, 9), (death, 9), (library book, 9), (nyc, 9), (literature, 9), (2017 reading challenge, 8), (own to read, 8), (gave up on, 8), (i own, 8), (crafts, 8), (female authors, 8), (all time favorites, 8), (tbr, 8), (could not finish, 8), (ebooks, 8), (book club selections, 8), (to buy, 8), (tear jerker, 8), (light reading, 8), (women friends, 7), (shelfari wishlist, 7), (didn t finish, 7), (unfinished, 7), (gave up, 7), (book club reads, 7), (scotland, 7), (craft fiction, 7), (women writers, 7), (book clubs, 7), (bookshelf, 7), (fun, 7), (read 2017, 6)]</td>\n",
       "    </tr>\n",
       "    <tr>\n",
       "      <th>276960</th>\n",
       "      <td>[(to read, 9898), (currently reading, 330), (angels, 108), (favorites, 95), (paranormal, 91), (young adult, 59), (series, 56), (romance, 55), (fantasy, 51), (paranormal romance, 36), (kindle unlimited, 25), (coming soon, 24), (ya, 22), (new adult, 21), (not out yet, 19), (kindle, 18), (supernatural, 17), (magic, 16), (urban fantasy, 16), (waiting, 16), (demons, 15), (waiting for release, 15), (to be released, 14), (not yet released, 12), (angel, 11), (amy bartol, 11), (the premonition, 11), (awaiting release, 11), (dnf, 10), (fae, 10), (ebooks, 10), (fiction, 10), (favorite series, 10), (favourites, 9), (love triangle, 9), (vampires, 9), (wish list, 9), (angels and demons, 8), (to buy, 8), (unfinished series, 8), (fantasy romance, 8), (premonition, 8), (amy a bartol, 8), (need to buy, 8), (the premonition series, 8), (not released, 8), (book boyfriend, 8), (angels demons, 8), (owned, 7), (read in 2016, 7), (all time favorites, 7), (favs, 7), (want to read, 7), (not released yet, 7), (audiobook, 6), (lost interest, 6), (next in series, 6), (can t wait, 6), (series to finish, 6), (waiting for, 6), (college, 6), (fantasy paranormal, 6), (audible, 5), (multiple pov, 5), (faeries, 5), (have, 5), (action, 5), (2015 reads, 5), (december 2015, 5), (december, 5), (favorite, 5), (paranormal fantasy, 5), (pnr, 5), (sequels, 5), (must read, 5), (read 2016, 4), (5 stars, 4), (books i own, 4), (magical, 4), (5 star, 4), (kick ass heroine, 4), (emotional, 4), (2015 releases, 4), (2015 release, 4), (4 star, 4), (soul mates, 4), (books, 4), (kindle books, 4), (immortals, 4), (contemporary romance, 4), (best books ever, 4), (need, 4), (book series, 4), (ya paranormal, 4), (need to read, 4), (waiting to come out, 4), (premonition series, 4), (favorite authors, 4), (sequels to read, 4), (read 2017, 3)]</td>\n",
       "    </tr>\n",
       "    <tr>\n",
       "      <th>99202</th>\n",
       "      <td>[(to read, 139), (picture books, 13), (children s, 6), (childrens books, 5), (children s books, 5), (children, 5), (default, 4), (childrens, 4), (picture book, 3), (kids books, 3), (robert munsch, 3), (currently reading, 3), (munsch, 3), (to read children, 2), (home, 2), (humor, 2), (school books, 2), (fiction, 2), (read aloud, 2), (children s books in uae, 1), (lib ella, 1), (fairy tales b4, 1), (full day library, 1), (read kids picture books, 1), (ar level 2, 1), (i own, 1), (read kids books, 1), (want to own, 1), (t s bookshelf, 1), (e s bookshelf, 1), (a s bookshelf, 1), (kids books tracking, 1), (b2016 17k 1st, 1), (my library, 1), (book level 2, 1), (kids, 1), (northern america, 1), (childhood, 1), (valentine s day books, 1), (for the classroom, 1), (kindergarten, 1), (sophia, 1), (grayson s books, 1), (books we own, 1), (boys to read, 1), (children entertainment, 1), (kid books, 1), (reading with layla, 1), (lily s library, 1), (for kids, 1), (picture spanish, 1), (melissa s classroom books, 1), (feelings social emotional, 1), (family, 1), (old kid books, 1), (kids read, 1), (2 stars, 1), (need hardcover, 1), (own read, 1), (aubrey, 1), (emma s books, 1), (owned, 1), (to buy emma, 1), (childrens illustrated, 1), (kayden read, 1), (read in library, 1), (veronica, 1), (grade school, 1), (work kids books, 1), (february, 1), (read alouds, 1), (second shelf, 1), (gracie s read books, 1), (544, 1), (books i need, 1), (read 2013, 1), (books i own, 1), (推薦繪本區, 1), (orange books, 1), (classroom books, 1), (classroom, 1), (bella books, 1), (owned books, 1), (may have read, 1), (2, 1), (robert munch, 1), (realistic fiction, 1), (fun, 1), (canadian authors, 1), (childhood reads, 1), (w read, 1), (4 stars, 1), (picture, 1), (moose, 1), (humour and comedy, 1), (dogs, 1), (cats, 1), (birds, 1), (animals, 1), (order for avon out of print, 1)]</td>\n",
       "    </tr>\n",
       "    <tr>\n",
       "      <th>4183</th>\n",
       "      <td>[(classics, 24811), (favorites, 10171), (to read, 4291), (romance, 3738), (books i own, 3014), (owned, 2486), (literature, 1482), (gothic, 1426), (favourites, 1306), (historical fiction, 1214), (owned books, 939), (19th century, 785), (classic literature, 730), (historical, 689), (novels, 682), (kindle, 655), (school, 623), (british, 622), (1001 books, 523), (british literature, 511), (adult, 479), (classics to read, 444), (victorian, 430), (book club, 426), (english, 421), (my books, 414), (my library, 404), (default, 403), (my ebooks, 398), (re read, 380), (i own, 361), (england, 358), (novel, 353), (adult fiction, 351), (english literature, 329), (to buy, 328), (library, 327), (drama, 315), (1001, 303), (all time favorites, 280), (classic fiction, 280), (audiobook, 275), (read for school, 269), (ebooks, 267), (classic lit, 266), (historical romance, 263), (abandoned, 263), (high school, 260), (ebook, 248), (literary fiction, 240), (favorite, 229), (clàssics, 228), (to read classics, 226), (the classics, 224), (to re read, 221), (favorite books, 209), (for school, 209), (own it, 207), (rory gilmore reading challenge, 206), (1001 books to read before you die, 187), (audiobooks, 186), (dnf, 185), (school books, 184), (love, 184), (did not finish, 184), (audio, 182), (unfinished, 177), (brit lit, 176), (tbr, 173), (british lit, 172), (female authors, 166), (books, 163), (classici, 160), (literary, 157), (bronte, 155), (reread, 154), (currently reading, 153), (on my shelf, 151), (emily bronte, 150), (read in 2016, 144), (general fiction, 144), (bookshelf, 144), (to reread, 142), (female author, 140), (have, 140), (own to read, 139), (read in 2014, 136), (5 stars, 134), (uk, 132), (rory gilmore challenge, 131), (read in 2015, 130), (my bookshelf, 130), (on hold, 129), (tragedy, 127), (shelfari favorites, 125), (favourite, 124), (clásicos, 123), (wish list, 123), (e books, 123), (read in english, 122)]</td>\n",
       "    </tr>\n",
       "    <tr>\n",
       "      <th>238218</th>\n",
       "      <td>[(to read, 133), (currently reading, 11), (paranormal, 10), (kindle, 6), (kindle unlimited, 5), (paranormal romance, 4), (shapeshifters, 3), (novella, 3), (vivian wood, 2), (kindle freebie, 2), (shifters, 2), (shifter, 2), (freebie, 2), (ebooks, 2), (pages 0100 to 0199, 1), (fantasy paranormal, 1), (whole new series, 1), (first in series, 1), (adult paranormal shifter, 1), (wood vivian, 1), (redheaded sistas, 1), (funny romance, 1), (m, 1), (amazon, 1), (paranormal fantasy, 1), (tough guys, 1), (small town love, 1), (series, 1), (second chance, 1), (romance, 1), (real women have curves, 1), (police firefighters, 1), (novellas, 1), (military men, 1), (hot stuff, 1), (guilty pleasure, 1), (good girl bad boy, 1), (family, 1), (chick lit, 1), (book boyfriends, 1), (shifter theme, 1), (no cheating, 1), (elements i didnt like, 1), (paranormal bear, 1), (1 my kindle, 1), (1purchased, 1), (2016 reads, 1), (shapeshifter, 1), (purchased, 1), (second chance romance, 1), (read in 2016, 1), (kindle free read, 1), (kindle edition, 1), (free kindle read from amazon, 1), (free ebook, 1), (bear shifters, 1), (1st book in a series, 1), (got but not read yet, 1), (tbr low priority, 1), (in collection already, 1), (owned, 1), (wood, 1), (second chances, 1), (part of series, 1), (paranormal vampire shifter immortal, 1), (own to read, 1), (bbw, 1), (m f, 1), (erotica content, 1), (contemporary, 1), (2015 botb, 1), (15 sep, 1), (3 kindle unlimited, 1), (wolves, 1), (erotica adult, 1), (100 plus pages, 1), (bears, 1), (free, 1), (000 shelve, 1), (owned read later, 1), (1 kindle unlimited to read, 1), (shifter romance, 1), (owned ebooks, 1), (kindle 6, 1), (own kindle, 1), (kindle lending, 1), (amazon kindle book, 1), (paranormal rom series, 1), (erotic romance, 1), (heac blue, 1), (kindleu, 1), (bear shifter, 1), (fantasy, 1), (to read paranormal, 1)]</td>\n",
       "    </tr>\n",
       "    <tr>\n",
       "      <th>230374</th>\n",
       "      <td>[(to read, 3612), (non fiction, 727), (classics, 631), (fiction, 613), (favorites, 533), (memoir, 252), (biography, 241), (travel, 207), (nonfiction, 197), (owned, 167), (literature, 164), (currently reading, 155), (france, 138), (history, 130), (books i own, 115), (classic, 100), (british, 95), (politics, 94), (paris, 90), (autobiography, 87), (20th century, 80), (favourites, 79), (to buy, 79), (england, 72), (novels, 70), (george orwell, 70), (london, 67), (memoirs, 66), (english, 59), (orwell, 57), (british literature, 55), (owned books, 51), (poverty, 46), (default, 44), (library, 43), (biography memoir, 43), (europe, 42), (wish list, 42), (modern classics, 41), (food, 37), (sociology, 36), (uk, 34), (english literature, 34), (essays, 32), (audiobook, 31), (book club, 31), (1930s, 27), (memoir biography, 26), (روايات, 25), (kindle, 25), (ebook, 24), (journalism, 24), (historical, 22), (historical fiction, 22), (audio, 22), (autobiographical, 22), (political, 22), (society, 20), (social commentary, 20), (my library, 20), (british lit, 20), (audiobooks, 20), (britain, 20), (read in 2017, 18), (read in 2015, 18), (autobiography memoir, 18), (my books, 18), (novel, 18), (biographical, 18), (favorite books, 17), (biographies, 16), (recommended, 16), (classic literature, 16), (read in 2016, 15), (to read fiction, 15), (read in english, 14), (read in 2013, 14), (school, 14), (biography autobiography, 14), (books, 14), (biographies memoirs, 14), (literary, 14), (brit lit, 14), (read in 2014, 13), (literary fiction, 13), (ebooks, 13), (classic fiction, 13), (adult fiction, 13), (lit, 13), (modern classic, 12), (audio books, 12), (i own, 12), (class, 12), (cooking, 12), (e book, 11), (bookshelf, 11), (pdf, 11), (general fiction, 11), (want, 11), (unread, 11)]</td>\n",
       "    </tr>\n",
       "    <tr>\n",
       "      <th>137507</th>\n",
       "      <td>[(to read, 143029), (young adult, 2488), (favorites, 2140), (currently reading, 1839), (contemporary, 1568), (romance, 1480), (ya, 1273), (books i own, 670), (chick lit, 386), (fiction, 380), (read in 2015, 374), (realistic fiction, 293), (high school, 277), (owned, 259), (favourites, 220), (stand alone, 218), (ebook, 218), (to buy, 208), (kindle, 192), (read 2015, 175), (teen, 170), (ebooks, 161), (owned books, 154), (ya contemporary, 149), (read in english, 147), (contemporary romance, 147), (new adult, 145), (2015 reads, 143), (funny, 132), (read in 2014, 130), (library, 127), (ya romance, 110), (ya fiction, 106), (wish list, 101), (dnf, 99), (e book, 94), (standalone, 88), (reviewed, 88), (read in 2013, 86), (4 stars, 85), (i own, 84), (read in 2016, 82), (my books, 82), (friendship, 82), (love, 81), (e books, 81), (re read, 80), (humor, 80), (read in 2012, 79), (favorite, 78), (stand alones, 77), (realistic, 77), (coming of age, 77), (2015 reading challenge, 76), (drama, 76), (english, 73), (audiobooks, 71), (5 stars, 69), (audiobook, 67), (love triangle, 66), (book to movie, 65), (read in 2011, 65), (enemies to lovers, 64), (ya books, 61), (netgalley, 59), (2015 books, 58), (2014 reads, 58), (maybe, 56), (family, 55), (tbr, 52), (on my shelf, 51), (young adult fiction, 51), (meh, 50), (2015 read, 49), (favorite books, 49), (arc, 48), (books read in 2015, 47), (contemporary ya, 47), (all time favorites, 47), (cute, 46), (my library, 46), (library books, 46), (movie, 44), (read 2014, 44), (reread, 44), (bad boy, 44), (need to buy, 44), (contemporary fiction, 44), (teen fiction, 44), (want to read, 44), (book boyfriends, 43), (3 stars, 42), (summer reads, 42), (books, 41), (audio, 41), (book boyfriend, 40), (favs, 39), (ya lit, 39), (standalones, 38), (read in 2010, 38)]</td>\n",
       "    </tr>\n",
       "  </tbody>\n",
       "</table>\n",
       "</div>"
      ],
      "text/plain": [
       "                                                                                                                                                                                                                                                                                                                                                                                                                                                                                                                                                                                                                                                                                                                                                                                                                                                                                                                                                                                                                                                                                                                                                                                                                                                                                                                                                                                                                                                                                                                                                                                                                                                                                                                                                                                                                                                                                                                                                                                                    cleaned_shelves\n",
       "41230                                                                                            [(to read, 587), (romance, 76), (diana palmer, 75), (contemporary romance, 26), (currently reading, 20), (harlequin, 17), (western, 14), (contemporary, 13), (long tall texans, 10), (books i own, 10), (fiction, 9), (cowboy, 9), (palmer diana, 8), (series, 8), (palmer, 7), (harlequin romance, 7), (western romance, 6), (owned, 5), (default, 5), (my library, 5), (kindle, 4), (read in 2010, 4), (audio books, 3), (2010 11, 3), (harlequin wishlist, 3), (books i have, 3), (adult, 3), (cowboys, 3), (favorites, 3), (virgin heroine, 3), (april, 3), (harlequim, 2), (storage1, 2), (did not finish, 2), (series in progress, 2), (150 250 pages, 2), (chick lit, 2), (books, 2), (on my shelf, 2), (adult fiction, 2), (cowboy western, 2), (terjemahan, 2), (genre western, 2), (undecided, 2), (paper back, 2), (not interested, 2), (gramedia, 2), (favourites, 2), (bought, 2), (romantic suspense, 2), (books owned, 2), (action, 2), (library, 2), (i own, 2), (small town, 2), (audiobook, 2), (part of a series, 2), (series romance, 2), (library books, 2), (2010 read, 2), (harlequinromance, 2), (2017 read, 1), (meaghan, 1), (mills and boon, 1), (my owned books, 1), (elibrary, 1), (0 contemporary, 1), (genre romance, 1), (seasonal challenge, 1), (best covers, 1), (read in 2015, 1), (meh, 1), (all time favorites, 1), (tbr later, 1), (harlequins, 1), (books i own paper, 1), (angsty, 1), (on the shelf, 1), (2017 challenge, 1), (series read, 1), (free borrowed, 1), (paperback, 1), (shelf 4 front, 1), (2017 bookriot challenge, 1), (vicky to read, 1), (need to read vet, 1), (1999 reads, 1), (2010 reads, 1), (blom check, 1), (primary, 1), (romance modern, 1), (own to read, 1), (long tall texan, 1), (location nook, 1), (hero grovels, 1), (brooding hero, 1), (long tall texans series bk 34, 1), (harlequin modern romance, 1), (e books, 1), (3 stars, 1)]\n",
       "95710                                                                                                                [(to read, 25568), (science fiction, 1975), (sci fi, 1674), (currently reading, 1113), (fiction, 1014), (scifi, 453), (favorites, 344), (post apocalyptic, 211), (sf, 179), (kindle, 175), (audiobook, 170), (owned, 159), (sci fi fantasy, 138), (abandoned, 128), (ebook, 125), (audiobooks, 122), (dystopian, 114), (audible, 111), (library, 111), (audio, 106), (space, 105), (to buy, 101), (fantasy, 100), (dystopia, 95), (apocalyptic, 93), (read in 2015, 81), (read in 2016, 79), (science, 73), (speculative fiction, 70), (scifi fantasy, 68), (dnf, 66), (novels, 63), (did not finish, 63), (fantasy sci fi, 58), (ebooks, 57), (adult, 57), (to read fiction, 57), (apocalypse, 57), (books i own, 54), (space opera, 51), (read 2015, 49), (wish list, 48), (unfinished, 47), (read 2016, 46), (book club, 46), (bill gates, 44), (didn t finish, 43), (science fiction fantasy, 42), (hard sci fi, 38), (audio book, 37), (audio books, 36), (maybe, 36), (sff, 34), (adventure, 32), (gave up on, 31), (on hold, 31), (novel, 31), (recommended, 31), (read 2017, 30), (read in 2017, 30), (owned books, 30), (e books, 29), (post apocalypse, 29), (sf fantasy, 28), (e book, 28), (survival, 28), (default, 27), (neal stephenson, 27), (to read sci fi, 27), (sci fi and fantasy, 26), (never finished, 24), (sci fi to read, 24), (hard scifi, 23), (couldn t finish, 23), (to read scifi, 23), (epic, 23), (stopped reading, 22), (hard science fiction, 22), (to get, 22), (literature, 21), (2015 reads, 21), (adult fiction, 21), (standalone, 20), (fiction to read, 20), (fantasy scifi, 20), (english, 20), (sciencefiction, 20), (speculative, 20), (thriller, 19), (borrowed, 18), (library books, 18), (gave up, 18), (signed, 18), (future, 18), (reviewed, 17), (favourites, 17), (2015 read, 17), (my library, 17), (21st century, 17), (near future, 17)]\n",
       "142885                                                                                                                                                                                                                        [(currently reading, 247), (romance, 150), (to read, 111), (kindle, 97), (historical romance, 80), (historical, 78), (historical fiction, 53), (regency, 53), (ebook, 38), (humor, 30), (fiction, 19), (ebooks, 18), (owned, 17), (kindle books, 17), (favorites, 15), (regency romance, 14), (e book, 13), (comedy, 11), (on kindle, 11), (romance historical, 10), (books i own, 9), (free, 9), (kindle library, 8), (funny, 8), (adult, 8), (freebie, 8), (kindle freebie, 8), (dnf, 7), (freebies, 7), (chick lit, 6), (read in 2012, 6), (e books, 6), (read in 2017, 5), (amazon, 5), (own it, 5), (read in 2013, 5), (kindle free, 5), (kindle unlimited, 4), (read in 2016, 4), (england, 4), (read 2015, 4), (owned books, 4), (wish list, 4), (to read owned, 4), (cross dressing, 4), (free ebook, 4), (guilty pleasures, 4), (my ebooks, 3), (read in 2015, 3), (favourites, 3), (loved it, 3), (kindle own, 3), (d l carter, 3), (humorous, 3), (own kindle, 3), (on my kindle, 3), (free books, 3), (maybe, 3), (gender bender, 3), (regency era, 3), (to be read, 3), (fantasy, 3), (free kindle, 3), (kindle to read, 3), (kindle freebies, 3), (i own, 3), (amazon freebies, 3), (kindle to lend, 3), (humour, 3), (historicals, 3), (friendship, 2), (top favorites, 2), (default, 2), (laugh out loud, 2), (shelfari humor, 2), (humour comedy, 2), (shelved, 2), (kindle reads, 2), (own as ebook, 2), (2015 challenge, 2), (humorous romance, 2), (period, 2), (m f, 2), (friends to lovers, 2), (bookbub, 2), (fun, 2), (misc, 2), (own to read, 2), (mf, 2), (reviewed, 2), (fiction humor, 2), (own on kindle, 2), (unfinished, 2), (kindled, 2), (historical romances, 2), (drama, 2), (family, 2), (love story, 2), (lendable kindle, 2), (first reads, 2)]\n",
       "238919                                                                                                                                                                                   [(to read, 1075), (young adult, 640), (currently reading, 468), (dystopian, 421), (dystopia, 345), (ya, 335), (favorites, 269), (science fiction, 222), (books i own, 202), (post apocalyptic, 186), (series, 182), (sci fi, 157), (survival, 120), (fiction, 109), (owned, 102), (apocalyptic, 101), (teen, 71), (adventure, 61), (library, 54), (to buy, 54), (wish list, 52), (apocalypse, 51), (fantasy, 48), (owned books, 45), (read in 2014, 42), (arc, 42), (maybe, 39), (ya fiction, 39), (read in 2013, 38), (ebook, 38), (monument 14, 36), (read in 2012, 36), (i own, 35), (signed, 33), (end of the world, 32), (first in series, 29), (kindle, 29), (ya dystopian, 27), (realistic fiction, 27), (my books, 25), (netgalley, 25), (scifi, 24), (ebooks, 24), (read 2014, 23), (romance, 23), (tbr, 23), (ya books, 23), (2012 release, 23), (dnf, 22), (young adult fiction, 21), (dystopian post apocalyptic, 21), (audiobook, 20), (favourites, 20), (teen fiction, 20), (suspense, 20), (did not finish, 19), (post apocalypse, 19), (male pov, 19), (read in 2016, 18), (read in 2015, 18), (library books, 18), (thriller, 18), (horror, 17), (action adventure, 17), (read 2013, 16), (reviewed, 16), (for review, 16), (high school, 15), (sci fi fantasy, 15), (disaster, 15), (speculative fiction, 14), (future, 14), (4 stars, 14), (ya lit, 14), (must read, 14), (want, 14), (want to read, 14), (2015 reads, 13), (audio, 13), (contemporary, 13), (have, 13), (action, 13), (meh, 12), (ya dystopia, 12), (distopian, 12), (audiobooks, 12), (book club, 12), (friendship, 12), (first in a series, 12), (colorado, 12), (3 stars, 12), (e books, 12), (ya to read, 12), (2012 releases, 12), (own it, 11), (english, 11), (arcs, 11), (2014 reads, 10), (2013 reads, 10), (2013 books, 10)]\n",
       "172222                                                                                                                                                                                                                                  [(to read, 5446), (fantasy, 84), (young adult, 65), (historical fiction, 29), (ya, 26), (fairies, 25), (series, 24), (favorites, 21), (faeries, 21), (romance, 20), (currently reading, 20), (fae, 18), (paranormal, 17), (books i own, 15), (magic, 13), (historical, 13), (kindle, 12), (to buy, 11), (urban fantasy, 8), (2012 releases, 8), (ebook, 7), (giveaways, 7), (the faerie ring, 7), (wish list, 7), (adventure, 6), (faerie, 6), (fey, 6), (ya fantasy, 6), (paranormal romance, 6), (e books, 5), (library, 5), (ebooks, 5), (arc, 5), (faerie ring, 5), (on kindle, 4), (have, 4), (for review, 4), (fairy, 4), (fiction, 4), (historical fantasy, 4), (need to buy, 4), (october 2012, 4), (ya to read, 4), (kiki hamilton, 4), (to read series, 3), (historical romance, 3), (freebies, 3), (kindle books, 3), (royalty, 3), (historical fic, 3), (young adult fiction, 3), (owned, 3), (e book, 3), (need to download, 3), (need to get, 3), (giveaway, 3), (want, 3), (unfinished series, 3), (giveaway entry, 3), (fey books, 3), (the faerie ring series, 3), (book series, 3), (ya paranormal, 3), (must read, 3), (maybe read, 3), (2012 src, 3), (2012 release, 3), (might read, 3), (sequels, 3), (unread, 2), (meh, 2), (2015 read, 2), (love triangle, 2), (books i want to own, 2), (regency, 2), (h, 2), (owned kindle, 2), (books, 2), (published 2012, 2), (august 2012, 2), (need to finish series, 2), (read in 2013, 2), (ebooks i own, 2), (to read kindle, 2), (review, 2), (free, 2), (5 stars, 2), (maybe to read, 2), (next in series, 2), (kindle freebie, 2), (supernatural, 2), (faries, 2), (2013 to read, 2), (need, 2), (the fey, 2), (own it, 2), (own to read, 2), (nook, 2), (series to finish, 2), (books that i own, 2)]\n",
       "303205                                                                                                                                  [(to read, 15998), (fiction, 972), (currently reading, 595), (young adult, 380), (favorites, 370), (chick lit, 235), (ya, 216), (books i own, 157), (contemporary, 145), (coming of age, 129), (boarding school, 102), (owned, 92), (contemporary fiction, 76), (adult fiction, 73), (adult, 68), (book club, 60), (realistic fiction, 59), (2006, 55), (high school, 47), (novels, 47), (general fiction, 43), (owned books, 35), (literary fiction, 35), (library, 35), (chicklit, 33), (favourites, 32), (bookclub, 30), (novel, 27), (my library, 26), (school, 26), (abandoned, 25), (dnf, 24), (my books, 24), (2005, 24), (to buy, 23), (audiobook, 22), (kindle, 22), (ya fiction, 22), (american, 22), (adolescence, 21), (beach reads, 21), (teen, 21), (i own, 20), (read in 2016, 19), (did not finish, 19), (audio, 19), (romance, 19), (own it, 19), (to read fiction, 17), (family, 17), (read in 2010, 17), (new england, 17), (friendship, 17), (audiobooks, 17), (wish list, 17), (read in 2008, 16), (shelfari favorites, 15), (re read, 15), (all time favorites, 15), (curtis sittenfeld, 15), (ya contemporary, 14), (default, 14), (read in 2011, 14), (ya books, 14), (borrowed, 14), (read in 2009, 14), (chic lit, 14), (didn t finish, 14), (2000s, 13), (literature, 13), (literary, 13), (book club books, 13), (usa, 13), (read in 2014, 12), (read in 2012, 12), (gave up on, 12), (ya lit, 12), (recommended, 12), (read in 2006, 12), (modern fiction, 12), (prep school, 12), (read in 2017, 11), (first reads, 11), (read in 2013, 11), (relationships, 11), (bildungsroman, 11), (drama, 11), (fluff, 11), (lit, 11), (female author, 10), (realistic, 10), (21st century, 10), (reviewed, 10), (favorite books, 10), (couldn t finish, 10), (could not finish, 10), (female authors, 10), (unfinished, 9), (finished, 9), (coming, 9)]\n",
       "191077                                                                                                                                                                                                                                                                                                                                                                                                                                                                                                                                                                                                                                                                                                                                                                                                                                                                                                                                                                                                                                                                                                                                                                                                                                                                                                                                                                                                                                                                                          [(to read, 41), (read in 2015, 2), (dystopian and post apocalyptic, 2), (hardly known books, 1), (reviewed on blog, 1), (books, 1), (review copy, 1), (owned books, 1), (arcreviewcopies, 1), (read 2015, 1), (sci fi, 1), (review copies, 1), (fiction, 1), (series started not pubbed, 1), (future, 1), (dystopian, 1), (arc physical, 1), (2015 release, 1), (series started, 1), (catalog, 1), (science fiction, 1), (r2r, 1), (tbr science fiction, 1), (tbr futuristic, 1), (wish list, 1), (young adult, 1)]\n",
       "226358                                                                                                                                                                                                                                    [(to read, 468), (science fiction, 51), (currently reading, 41), (fiction, 20), (default, 16), (sci fi, 14), (military, 14), (military fiction, 11), (owned, 10), (military science fiction, 7), (sf, 6), (military sci fi, 6), (favorites, 6), (alternate history, 6), (ringo, 5), (scifi, 5), (audiobook, 5), (ebooks, 4), (need, 3), (ebook, 3), (thriller, 3), (calibre, 3), (fantasy, 3), (john ringo, 3), (sci fi fantasy, 3), (science fiction and fantasy, 3), (baen, 3), (war, 3), (gave up, 2), (audio, 2), (library, 2), (audible, 2), (not interested, 2), (teotwawki, 2), (owned books, 2), (abandoned, 2), (novels, 2), (my library, 2), (apocalypse, 2), (warriors, 2), (shame on you, 2), (2006 2010, 2), (did not finish, 2), (to buy, 2), (apocalyptic, 2), (action adventure, 2), (military sf, 2), (easton press, 2), (listened to, 2), (post apocalypse, 2), (quit despite a valiant try, 1), (physical, 1), (appeal intellect, 1), (to sort, 1), (alan 2, 1), (inventory digital, 1), (inventory, 1), (digital drm free, 1), (conservative, 1), (somewhere out there, 1), (best i ever read, 1), (science, 1), (bookbub, 1), (may read, 1), (randisi library, 1), (2010 read, 1), (read 2009, 1), (physical books, 1), (owned physical, 1), (chads books, 1), (tbr, 1), (martial, 1), (tbr library, 1), (0 janesville, 1), (library book, 1), (hardback, 1), (other, 1), (audiobooks, 1), (pa, 1), (ku, 1), (shelfari favorites, 1), (to read jd, 1), (sfi, 1), (general fiction, 1), (audio shelf, 1), (book box 2, 1), (fiction drama, 1), (2000s, 1), (recommended reading, 1), (featured, 1), (scif fi, 1), (for sale, 1), (autobooks, 1), (aanwezig, 1), (na w, 1), (lemmed, 1), (want to buy, 1), (survival, 1), (autographed, 1), (andy, 1)]\n",
       "119477                                                                                                                                                                                                                                                                                               [(to read, 3714), (currently reading, 157), (mafia, 130), (romance, 57), (new adult, 53), (series, 40), (favorites, 33), (dark, 31), (cliffhanger, 29), (abuse, 29), (high school, 27), (contemporary, 26), (alpha male, 18), (mob, 17), (contemporary romance, 17), (young adult, 17), (mafia romance, 16), (love triangle, 15), (ya, 13), (read in 2016, 12), (dark romance, 10), (april 2016, 9), (made men, 9), (mafia mob, 9), (mob mafia, 9), (bad boys, 9), (read 2016, 8), (dnf, 8), (sarah brianne, 8), (ebook, 7), (bad boy, 7), (part of a series, 7), (favourites, 7), (crime, 7), (bully, 6), (angst, 6), (abused, 6), (ebooks, 6), (to be released, 6), (read 2017, 5), (finished, 5), (boring, 5), (meh, 5), (mystery, 5), (na, 5), (suspense, 5), (kindle, 5), (drama, 5), (bullying, 5), (mob romance, 5), (to buy, 5), (must read, 5), (coming soon, 5), (read in 2017, 4), (2016 read, 4), (3 stars, 4), (tear jerker, 4), (anti hero, 4), (abused heroine, 4), (college, 4), (cliffy, 4), (audio, 4), (not interested, 4), (part of series, 4), (realistic fiction, 4), (waiting for release, 4), (2017 reads, 3), (highschool, 3), (unfinished series, 3), (alpha males, 3), (favorite, 3), (love, 3), (multiple pov, 3), (disappointing, 3), (intense, 3), (2016 challenge, 3), (owned, 3), (2016 reads, 3), (heartbreaking, 3), (betrayal, 3), (na ya, 3), (maybe, 3), (scarred, 3), (2016 books, 3), (2016 release, 3), (need to buy, 3), (doormat heroine, 3), (mafioso, 3), (favorite series, 3), (not yet released, 3), (series family n friends, 2), (english, 2), (série, 2), (lost interest, 2), (loss, 2), (family, 2), (meeeh, 2), (rom, 2), (2017 read, 2), (books i own, 2)]\n",
       "175002                                                                 [(to read, 2497), (currently reading, 77), (fiction, 39), (feminism, 6), (netgalley, 6), (kindle, 6), (arc, 6), (read in 2016, 5), (ebook, 5), (womens fiction, 5), (library, 4), (did not finish, 4), (book club, 4), (abandoned, 4), (to buy, 4), (chick lit, 4), (owned books, 3), (literature, 3), (owned, 3), (novels, 3), (romance, 3), (read in 2015, 3), (bookshelf, 2), (2016 challenge, 2), (my library, 2), (audio, 2), (aging, 2), (dnf, 2), (books read in 2015, 2), (women, 2), (feminist, 2), (contemporary, 2), (humor, 2), (contemporary fiction, 2), (tbr, 2), (stopped reading, 2), (first reads, 2), (erotica, 2), (books i own, 2), (usa and canada, 1), (to read longlist, 1), (online, 1), (adult fiction, 1), (what i ve read, 1), (wishlist 2017, 1), (drama, 1), (psychology, 1), (set aside, 1), (sports zip, 1), (continuing series, 1), (abandonados, 1), (read in english, 1), (removed from to read, 1), (june 2016 kathy, 1), (female main character, 1), (borrowed from library, 1), (asian, 1), (300 or less pages, 1), (mom, 1), (audiobooks i listened to, 1), (books to read, 1), (couldn t finish, 1), (my ebooks, 1), (first edition, 1), (recommended by ken follett, 1), (in google drive to read, 1), (reading challenge 2017, 1), (personal, 1), (megafavorits, 1), (feminis me, 1), (duelo, 1), (jenners pick, 1), (bad girls book club, 1), (fav books to read, 1), (to read next, 1), (research, 1), (elle magazine books, 1), (october, 1), (ebook to read, 1), (acls, 1), (woman, 1), (bib ce, 1), (new, 1), (not digitally available, 1), (romaani ulkomainen, 1), (litfic, 1), (public library, 1), (calibre, 1), (reviewed books, 1), (mad money books, 1), (partially read, 1), (giveaways, 1), (couldn t get through it, 1), (north america, 1), (book club books, 1), (book lovers never go to bed alone, 1), (arc received free, 1), (owned to read, 1), (adult, 1), (matriarchy, 1)]\n",
       "397069                                                                                                                                                                                                                                                                                                                                                                                                                                                                                                                                                                [(to read, 724), (currently reading, 33), (nonfiction, 17), (non fiction, 11), (humor, 10), (language, 4), (to read nonfiction, 2), (wish list, 2), (nonfic, 2), (tbr nonfiction, 1), (language and linguistics, 1), (ha ha ho ho, 1), (review someday, 1), (psn, 1), (linguistics, 1), (hilarity, 1), (in read queue, 1), (geekery, 1), (read in 2017, 1), (word nerd, 1), (2017 books read, 1), (reread me, 1), (i own this, 1), (best ever, 1), (digital, 1), (words, 1), (essays, 1), (upcoming, 1), (economist reviews, 1), (quirky ref, 1), (english language, 1), (apl books, 1), (via economist, 1), (books on my shelf to be read, 1), (you read what, 1), (london, 1), (caught my eye at work, 1), (books to read that i own, 1), (to read unowned, 1), (fun reads, 1), (n5 culture, 1), (n nonfiction, 1), (ebook wishlist, 1), (interlibrary, 1), (comedy, 1), (review by sarah, 1), (nonf to get, 1), (movie and tv related, 1), (literary criticism biography, 1), (my book box, 1), (new york, 1), (kindle books, 1), (biography memoir, 1), (memoir non fiction, 1), (to read fiction on dropbox, 1), (edelweiss to read, 1), (read in 17, 1), (edelweiss, 1), (ebooks suck, 1), (to read library, 1), (professional development, 1), (givaway entry, 1), (book threat rec, 1), (single, 1), (giveaways, 1), (arcs, 1), (colonial way, 1), (general nonfiction, 1), (language linguistics, 1), (bio, 1), (advance reader, 1)]\n",
       "56647                                                                                                                                                                                                                                                 [(to read, 474), (currently reading, 156), (erotica, 77), (taboo, 47), (kindle unlimited, 32), (novella, 32), (alexa riley, 31), (contemporary, 30), (smut, 26), (romance, 24), (adult, 19), (read in 2016, 18), (ménage, 18), (virgin, 18), (favorites, 17), (kindle, 16), (erotic romance, 15), (erotic, 15), (alpha male, 14), (pregnancy, 14), (forbidden love, 14), (virgin heroine, 14), (2016 reads, 13), (short story, 12), (short stories, 12), (short, 11), (ebook, 11), (contemporary romance, 11), (read 2016, 10), (age gap, 10), (stepbrother, 10), (2016 read, 10), (step siblings, 10), (ebooks, 9), (new adult, 8), (author alexa riley, 8), (read in 2017, 7), (dnf, 7), (hot hot hot, 7), (forbidden, 7), (insta love, 6), (dual pov, 6), (dirty talker, 6), (3 stars, 6), (standalone, 6), (love triangle, 6), (steamy, 6), (stand alone, 6), (smutty, 6), (hot, 6), (not interested, 6), (talk dirty to me, 6), (4 stars, 5), (2016 reading challenge, 5), (english, 5), (mfm, 5), (guilty pleasure, 5), (bad boys, 5), (short read, 5), (virgin hero, 5), (kinky, 5), (daddy kink, 5), (kink, 4), (heroine virgin, 4), (ku, 4), (stepbrother romance, 4), (daddy, 4), (wtf, 4), (short story novella, 4), (no cheating, 4), (reviewed, 4), (finished, 4), (2016 release, 4), (not for me, 4), (dd lg, 3), (ibook, 3), (hot and steamy, 3), (epub, 3), (e book, 3), (panty dropping hot, 3), (2016 books read, 3), (happily ever after, 3), (short reads, 3), (wish list, 3), (breeding, 3), (teen, 3), (novellas, 3), (m f m, 3), (v card, 3), (5 stars, 3), (adult fiction, 3), (mmf, 3), (quick read, 3), (forbidden romance, 3), (virgin h, 3), (family, 3), (owned, 3), (pseudo incest, 3), (celibate hero, 3), (kinky fuckery, 3)]\n",
       "229180                                                                                                                                                                                      [(to read, 9745), (currently reading, 430), (essays, 373), (non fiction, 280), (nonfiction, 146), (favorites, 35), (owned, 33), (writing, 30), (essay, 25), (fiction, 23), (library, 22), (contemporary, 21), (short stories, 21), (criticism, 20), (literary criticism, 19), (to buy, 18), (books i own, 15), (literature, 15), (literary, 14), (memoir, 14), (ebook, 13), (abandoned, 13), (english, 12), (books about books, 12), (kindle, 12), (owned books, 11), (wish list, 11), (british, 10), (unfinished, 10), (women, 10), (book club, 10), (zadie smith, 10), (essay collections, 9), (female author, 9), (ebooks, 9), (on hold, 9), (read in 2010, 9), (lit crit, 9), (read in 2016, 8), (collections, 8), (to read non fiction, 8), (to read nonfiction, 8), (non fic, 8), (read in 2017, 7), (feminism, 7), (european, 7), (audiobook, 7), (dnf, 6), (female authors, 6), (poc, 6), (short stories essays, 6), (welsh, 6), (scottish, 6), (irish, 6), (didn t finish, 6), (adult, 6), (britain, 5), (maybe, 5), (general, 5), (21st century, 5), (biography, 5), (did not finish, 5), (culture, 5), (audio book, 5), (read in 2015, 4), (brainpickings, 4), (e books, 4), (2000s, 4), (essays short stories, 4), (contemporary fiction, 4), (own to read, 4), (default, 4), (read 2013, 4), (by women, 4), (women authors, 4), (audiobooks, 4), (never finished, 4), (journalism, 4), (on writing, 4), (audio, 4), (to finish, 4), (couldn t finish, 4), (cultural studies, 4), (favourites, 4), (to find, 4), (library book, 3), (female writers, 3), (feminist, 3), (authors of color, 3), (nonfiction essays, 3), (black, 3), (read 2015, 3), (to read 2015, 3), (essays criticism, 3), (to borrow, 3), (university, 3), (put down for now, 3), (read in english, 3), (owned unread, 3), (writers, 3)]\n",
       "281447                                                                                                                           [(to read, 872), (fiction, 220), (chick lit, 116), (currently reading, 112), (audio, 84), (book club, 83), (knitting, 73), (owned, 52), (series, 49), (books i own, 49), (book club books, 49), (contemporary fiction, 45), (novels, 44), (friendship, 43), (audiobook, 41), (default, 39), (favorites, 37), (audiobooks, 31), (owned books, 27), (mothers and daughters, 27), (family, 26), (relationships, 25), (contemporary, 25), (read in 2011, 22), (kate jacobs, 21), (adult, 20), (library, 20), (couldn t finish, 20), (abandoned, 19), (romance, 18), (audio book, 18), (audio books, 18), (read in 2012, 16), (new york city, 16), (shelfari favorites, 14), (my books, 14), (women, 13), (did not finish, 13), (read in 2015, 12), (my library, 12), (adult fiction, 12), (audible, 12), (dnf, 12), (ebook, 12), (read in 2017, 11), (women s fiction, 11), (realistic fiction, 11), (novel, 11), (read 2014, 11), (jacobs kate, 11), (crafty, 11), (adult books, 11), (cancer, 10), (books i have, 10), (book club read, 10), (paperback, 10), (fiction general, 10), (read fiction, 10), (owned to read, 10), (library books, 10), (2009 books, 10), (general fiction, 9), (read in 2014, 9), (bookclub, 9), (drama, 9), (womens fiction, 9), (own it, 9), (first in series, 9), (read 2013, 9), (death, 9), (library book, 9), (nyc, 9), (literature, 9), (2017 reading challenge, 8), (own to read, 8), (gave up on, 8), (i own, 8), (crafts, 8), (female authors, 8), (all time favorites, 8), (tbr, 8), (could not finish, 8), (ebooks, 8), (book club selections, 8), (to buy, 8), (tear jerker, 8), (light reading, 8), (women friends, 7), (shelfari wishlist, 7), (didn t finish, 7), (unfinished, 7), (gave up, 7), (book club reads, 7), (scotland, 7), (craft fiction, 7), (women writers, 7), (book clubs, 7), (bookshelf, 7), (fun, 7), (read 2017, 6)]\n",
       "276960                                                                                                                        [(to read, 9898), (currently reading, 330), (angels, 108), (favorites, 95), (paranormal, 91), (young adult, 59), (series, 56), (romance, 55), (fantasy, 51), (paranormal romance, 36), (kindle unlimited, 25), (coming soon, 24), (ya, 22), (new adult, 21), (not out yet, 19), (kindle, 18), (supernatural, 17), (magic, 16), (urban fantasy, 16), (waiting, 16), (demons, 15), (waiting for release, 15), (to be released, 14), (not yet released, 12), (angel, 11), (amy bartol, 11), (the premonition, 11), (awaiting release, 11), (dnf, 10), (fae, 10), (ebooks, 10), (fiction, 10), (favorite series, 10), (favourites, 9), (love triangle, 9), (vampires, 9), (wish list, 9), (angels and demons, 8), (to buy, 8), (unfinished series, 8), (fantasy romance, 8), (premonition, 8), (amy a bartol, 8), (need to buy, 8), (the premonition series, 8), (not released, 8), (book boyfriend, 8), (angels demons, 8), (owned, 7), (read in 2016, 7), (all time favorites, 7), (favs, 7), (want to read, 7), (not released yet, 7), (audiobook, 6), (lost interest, 6), (next in series, 6), (can t wait, 6), (series to finish, 6), (waiting for, 6), (college, 6), (fantasy paranormal, 6), (audible, 5), (multiple pov, 5), (faeries, 5), (have, 5), (action, 5), (2015 reads, 5), (december 2015, 5), (december, 5), (favorite, 5), (paranormal fantasy, 5), (pnr, 5), (sequels, 5), (must read, 5), (read 2016, 4), (5 stars, 4), (books i own, 4), (magical, 4), (5 star, 4), (kick ass heroine, 4), (emotional, 4), (2015 releases, 4), (2015 release, 4), (4 star, 4), (soul mates, 4), (books, 4), (kindle books, 4), (immortals, 4), (contemporary romance, 4), (best books ever, 4), (need, 4), (book series, 4), (ya paranormal, 4), (need to read, 4), (waiting to come out, 4), (premonition series, 4), (favorite authors, 4), (sequels to read, 4), (read 2017, 3)]\n",
       "99202                                                                     [(to read, 139), (picture books, 13), (children s, 6), (childrens books, 5), (children s books, 5), (children, 5), (default, 4), (childrens, 4), (picture book, 3), (kids books, 3), (robert munsch, 3), (currently reading, 3), (munsch, 3), (to read children, 2), (home, 2), (humor, 2), (school books, 2), (fiction, 2), (read aloud, 2), (children s books in uae, 1), (lib ella, 1), (fairy tales b4, 1), (full day library, 1), (read kids picture books, 1), (ar level 2, 1), (i own, 1), (read kids books, 1), (want to own, 1), (t s bookshelf, 1), (e s bookshelf, 1), (a s bookshelf, 1), (kids books tracking, 1), (b2016 17k 1st, 1), (my library, 1), (book level 2, 1), (kids, 1), (northern america, 1), (childhood, 1), (valentine s day books, 1), (for the classroom, 1), (kindergarten, 1), (sophia, 1), (grayson s books, 1), (books we own, 1), (boys to read, 1), (children entertainment, 1), (kid books, 1), (reading with layla, 1), (lily s library, 1), (for kids, 1), (picture spanish, 1), (melissa s classroom books, 1), (feelings social emotional, 1), (family, 1), (old kid books, 1), (kids read, 1), (2 stars, 1), (need hardcover, 1), (own read, 1), (aubrey, 1), (emma s books, 1), (owned, 1), (to buy emma, 1), (childrens illustrated, 1), (kayden read, 1), (read in library, 1), (veronica, 1), (grade school, 1), (work kids books, 1), (february, 1), (read alouds, 1), (second shelf, 1), (gracie s read books, 1), (544, 1), (books i need, 1), (read 2013, 1), (books i own, 1), (推薦繪本區, 1), (orange books, 1), (classroom books, 1), (classroom, 1), (bella books, 1), (owned books, 1), (may have read, 1), (2, 1), (robert munch, 1), (realistic fiction, 1), (fun, 1), (canadian authors, 1), (childhood reads, 1), (w read, 1), (4 stars, 1), (picture, 1), (moose, 1), (humour and comedy, 1), (dogs, 1), (cats, 1), (birds, 1), (animals, 1), (order for avon out of print, 1)]\n",
       "4183    [(classics, 24811), (favorites, 10171), (to read, 4291), (romance, 3738), (books i own, 3014), (owned, 2486), (literature, 1482), (gothic, 1426), (favourites, 1306), (historical fiction, 1214), (owned books, 939), (19th century, 785), (classic literature, 730), (historical, 689), (novels, 682), (kindle, 655), (school, 623), (british, 622), (1001 books, 523), (british literature, 511), (adult, 479), (classics to read, 444), (victorian, 430), (book club, 426), (english, 421), (my books, 414), (my library, 404), (default, 403), (my ebooks, 398), (re read, 380), (i own, 361), (england, 358), (novel, 353), (adult fiction, 351), (english literature, 329), (to buy, 328), (library, 327), (drama, 315), (1001, 303), (all time favorites, 280), (classic fiction, 280), (audiobook, 275), (read for school, 269), (ebooks, 267), (classic lit, 266), (historical romance, 263), (abandoned, 263), (high school, 260), (ebook, 248), (literary fiction, 240), (favorite, 229), (clàssics, 228), (to read classics, 226), (the classics, 224), (to re read, 221), (favorite books, 209), (for school, 209), (own it, 207), (rory gilmore reading challenge, 206), (1001 books to read before you die, 187), (audiobooks, 186), (dnf, 185), (school books, 184), (love, 184), (did not finish, 184), (audio, 182), (unfinished, 177), (brit lit, 176), (tbr, 173), (british lit, 172), (female authors, 166), (books, 163), (classici, 160), (literary, 157), (bronte, 155), (reread, 154), (currently reading, 153), (on my shelf, 151), (emily bronte, 150), (read in 2016, 144), (general fiction, 144), (bookshelf, 144), (to reread, 142), (female author, 140), (have, 140), (own to read, 139), (read in 2014, 136), (5 stars, 134), (uk, 132), (rory gilmore challenge, 131), (read in 2015, 130), (my bookshelf, 130), (on hold, 129), (tragedy, 127), (shelfari favorites, 125), (favourite, 124), (clásicos, 123), (wish list, 123), (e books, 123), (read in english, 122)]\n",
       "238218                                                                          [(to read, 133), (currently reading, 11), (paranormal, 10), (kindle, 6), (kindle unlimited, 5), (paranormal romance, 4), (shapeshifters, 3), (novella, 3), (vivian wood, 2), (kindle freebie, 2), (shifters, 2), (shifter, 2), (freebie, 2), (ebooks, 2), (pages 0100 to 0199, 1), (fantasy paranormal, 1), (whole new series, 1), (first in series, 1), (adult paranormal shifter, 1), (wood vivian, 1), (redheaded sistas, 1), (funny romance, 1), (m, 1), (amazon, 1), (paranormal fantasy, 1), (tough guys, 1), (small town love, 1), (series, 1), (second chance, 1), (romance, 1), (real women have curves, 1), (police firefighters, 1), (novellas, 1), (military men, 1), (hot stuff, 1), (guilty pleasure, 1), (good girl bad boy, 1), (family, 1), (chick lit, 1), (book boyfriends, 1), (shifter theme, 1), (no cheating, 1), (elements i didnt like, 1), (paranormal bear, 1), (1 my kindle, 1), (1purchased, 1), (2016 reads, 1), (shapeshifter, 1), (purchased, 1), (second chance romance, 1), (read in 2016, 1), (kindle free read, 1), (kindle edition, 1), (free kindle read from amazon, 1), (free ebook, 1), (bear shifters, 1), (1st book in a series, 1), (got but not read yet, 1), (tbr low priority, 1), (in collection already, 1), (owned, 1), (wood, 1), (second chances, 1), (part of series, 1), (paranormal vampire shifter immortal, 1), (own to read, 1), (bbw, 1), (m f, 1), (erotica content, 1), (contemporary, 1), (2015 botb, 1), (15 sep, 1), (3 kindle unlimited, 1), (wolves, 1), (erotica adult, 1), (100 plus pages, 1), (bears, 1), (free, 1), (000 shelve, 1), (owned read later, 1), (1 kindle unlimited to read, 1), (shifter romance, 1), (owned ebooks, 1), (kindle 6, 1), (own kindle, 1), (kindle lending, 1), (amazon kindle book, 1), (paranormal rom series, 1), (erotic romance, 1), (heac blue, 1), (kindleu, 1), (bear shifter, 1), (fantasy, 1), (to read paranormal, 1)]\n",
       "230374                                                                                                                                                      [(to read, 3612), (non fiction, 727), (classics, 631), (fiction, 613), (favorites, 533), (memoir, 252), (biography, 241), (travel, 207), (nonfiction, 197), (owned, 167), (literature, 164), (currently reading, 155), (france, 138), (history, 130), (books i own, 115), (classic, 100), (british, 95), (politics, 94), (paris, 90), (autobiography, 87), (20th century, 80), (favourites, 79), (to buy, 79), (england, 72), (novels, 70), (george orwell, 70), (london, 67), (memoirs, 66), (english, 59), (orwell, 57), (british literature, 55), (owned books, 51), (poverty, 46), (default, 44), (library, 43), (biography memoir, 43), (europe, 42), (wish list, 42), (modern classics, 41), (food, 37), (sociology, 36), (uk, 34), (english literature, 34), (essays, 32), (audiobook, 31), (book club, 31), (1930s, 27), (memoir biography, 26), (روايات, 25), (kindle, 25), (ebook, 24), (journalism, 24), (historical, 22), (historical fiction, 22), (audio, 22), (autobiographical, 22), (political, 22), (society, 20), (social commentary, 20), (my library, 20), (british lit, 20), (audiobooks, 20), (britain, 20), (read in 2017, 18), (read in 2015, 18), (autobiography memoir, 18), (my books, 18), (novel, 18), (biographical, 18), (favorite books, 17), (biographies, 16), (recommended, 16), (classic literature, 16), (read in 2016, 15), (to read fiction, 15), (read in english, 14), (read in 2013, 14), (school, 14), (biography autobiography, 14), (books, 14), (biographies memoirs, 14), (literary, 14), (brit lit, 14), (read in 2014, 13), (literary fiction, 13), (ebooks, 13), (classic fiction, 13), (adult fiction, 13), (lit, 13), (modern classic, 12), (audio books, 12), (i own, 12), (class, 12), (cooking, 12), (e book, 11), (bookshelf, 11), (pdf, 11), (general fiction, 11), (want, 11), (unread, 11)]\n",
       "137507                                                                                                                                 [(to read, 143029), (young adult, 2488), (favorites, 2140), (currently reading, 1839), (contemporary, 1568), (romance, 1480), (ya, 1273), (books i own, 670), (chick lit, 386), (fiction, 380), (read in 2015, 374), (realistic fiction, 293), (high school, 277), (owned, 259), (favourites, 220), (stand alone, 218), (ebook, 218), (to buy, 208), (kindle, 192), (read 2015, 175), (teen, 170), (ebooks, 161), (owned books, 154), (ya contemporary, 149), (read in english, 147), (contemporary romance, 147), (new adult, 145), (2015 reads, 143), (funny, 132), (read in 2014, 130), (library, 127), (ya romance, 110), (ya fiction, 106), (wish list, 101), (dnf, 99), (e book, 94), (standalone, 88), (reviewed, 88), (read in 2013, 86), (4 stars, 85), (i own, 84), (read in 2016, 82), (my books, 82), (friendship, 82), (love, 81), (e books, 81), (re read, 80), (humor, 80), (read in 2012, 79), (favorite, 78), (stand alones, 77), (realistic, 77), (coming of age, 77), (2015 reading challenge, 76), (drama, 76), (english, 73), (audiobooks, 71), (5 stars, 69), (audiobook, 67), (love triangle, 66), (book to movie, 65), (read in 2011, 65), (enemies to lovers, 64), (ya books, 61), (netgalley, 59), (2015 books, 58), (2014 reads, 58), (maybe, 56), (family, 55), (tbr, 52), (on my shelf, 51), (young adult fiction, 51), (meh, 50), (2015 read, 49), (favorite books, 49), (arc, 48), (books read in 2015, 47), (contemporary ya, 47), (all time favorites, 47), (cute, 46), (my library, 46), (library books, 46), (movie, 44), (read 2014, 44), (reread, 44), (bad boy, 44), (need to buy, 44), (contemporary fiction, 44), (teen fiction, 44), (want to read, 44), (book boyfriends, 43), (3 stars, 42), (summer reads, 42), (books, 41), (audio, 41), (book boyfriend, 40), (favs, 39), (ya lit, 39), (standalones, 38), (read in 2010, 38)]"
      ]
     },
     "execution_count": 23,
     "metadata": {},
     "output_type": "execute_result"
    }
   ],
   "source": [
    "pd.set_option('display.max_colwidth', None)\n",
    "sample_1star[['cleaned_shelves']].head(20)"
   ]
  },
  {
   "cell_type": "code",
   "execution_count": 25,
   "id": "b9c7927f-c470-4bad-92f1-56c39ee095bd",
   "metadata": {},
   "outputs": [],
   "source": [
    "def remove_blacklisted_shelves(cleaned_shelves, blacklist_words):\n",
    "    \"\"\"\n",
    "    Removes shelves that match any blacklist word.\n",
    "    \n",
    "    cleaned_shelves: list of (name, count) tuples [(shelf1, count1), (shelf2, count2), ...]\n",
    "    blacklist_words: set of lowercase blacklist words\n",
    "    \"\"\"\n",
    "    result = []\n",
    "    for name, count in cleaned_shelves:\n",
    "        # If none of the blacklist words are contained in the name, keep it\n",
    "        if not any(bad_word in name for bad_word in blacklist_words):\n",
    "            result.append((name, count))\n",
    "    return result"
   ]
  },
  {
   "cell_type": "code",
   "execution_count": 33,
   "id": "128448b0-706d-4923-921d-7527ac8a73cb",
   "metadata": {},
   "outputs": [],
   "source": [
    "sample_1star['cleaned_shelves'] = sample_1star['cleaned_shelves'].apply(lambda shelves: remove_blacklisted_shelves(shelves, blacklist_words))"
   ]
  },
  {
   "cell_type": "code",
   "execution_count": 34,
   "id": "c57e5e84-3c73-4531-957a-7192a2512dc4",
   "metadata": {},
   "outputs": [
    {
     "data": {
      "text/html": [
       "<div>\n",
       "<style scoped>\n",
       "    .dataframe tbody tr th:only-of-type {\n",
       "        vertical-align: middle;\n",
       "    }\n",
       "\n",
       "    .dataframe tbody tr th {\n",
       "        vertical-align: top;\n",
       "    }\n",
       "\n",
       "    .dataframe thead th {\n",
       "        text-align: right;\n",
       "    }\n",
       "</style>\n",
       "<table border=\"1\" class=\"dataframe\">\n",
       "  <thead>\n",
       "    <tr style=\"text-align: right;\">\n",
       "      <th></th>\n",
       "      <th>cleaned_shelves</th>\n",
       "    </tr>\n",
       "  </thead>\n",
       "  <tbody>\n",
       "    <tr>\n",
       "      <th>41230</th>\n",
       "      <td>[(romance, 76), (contemporary romance, 26), (harlequin, 17), (western, 14), (contemporary, 13), (long tall texans, 10), (fiction, 9), (cowboy, 9), (series, 8), (harlequin romance, 7), (western romance, 6), (default, 5), (2010 11, 3), (harlequin wishlist, 3), (books i have, 3), (adult, 3), (cowboys, 3), (virgin heroine, 3), (april, 3), (harlequim, 2), (did not finish, 2), (series in progress, 2), (chick lit, 2), (books, 2), (on my shelf, 2), (adult fiction, 2), (cowboy western, 2), (terjemahan, 2), (genre western, 2), (undecided, 2), (paper back, 2), (not interested, 2), (gramedia, 2), (romantic suspense, 2), (action, 2), (part of a series, 2), (series romance, 2), (harlequinromance, 2), (meaghan, 1), (mills and boon, 1), (0 contemporary, 1), (genre romance, 1), (meh, 1), (harlequins, 1), (angsty, 1), (on the shelf, 1), (shelf 4 front, 1), (blom check, 1), (primary, 1), (romance modern, 1), (long tall texan, 1), (hero grovels, 1), (brooding hero, 1), (long tall texans series bk 34, 1), (harlequin modern romance, 1), (e books, 1)]</td>\n",
       "    </tr>\n",
       "    <tr>\n",
       "      <th>95710</th>\n",
       "      <td>[(science fiction, 1975), (sci fi, 1674), (fiction, 1014), (scifi, 453), (post apocalyptic, 211), (sf, 179), (sci fi fantasy, 138), (abandoned, 128), (dystopian, 114), (audible, 111), (space, 105), (fantasy, 100), (dystopia, 95), (apocalyptic, 93), (science, 73), (speculative fiction, 70), (scifi fantasy, 68), (novels, 63), (did not finish, 63), (fantasy sci fi, 58), (adult, 57), (apocalypse, 57), (space opera, 51), (wish list, 48), (book club, 46), (bill gates, 44), (didn t finish, 43), (science fiction fantasy, 42), (hard sci fi, 38), (maybe, 36), (sff, 34), (adventure, 32), (gave up on, 31), (novel, 31), (e books, 29), (post apocalypse, 29), (sf fantasy, 28), (e book, 28), (survival, 28), (default, 27), (sci fi and fantasy, 26), (hard scifi, 23), (couldn t finish, 23), (epic, 23), (hard science fiction, 22), (to get, 22), (literature, 21), (adult fiction, 21), (standalone, 20), (fantasy scifi, 20), (english, 20), (sciencefiction, 20), (speculative, 20), (thriller, 19), (gave up, 18), (signed, 18), (future, 18), (21st century, 17), (near future, 17)]</td>\n",
       "    </tr>\n",
       "    <tr>\n",
       "      <th>142885</th>\n",
       "      <td>[(romance, 150), (historical romance, 80), (historical, 78), (historical fiction, 53), (regency, 53), (humor, 30), (fiction, 19), (regency romance, 14), (e book, 13), (comedy, 11), (romance historical, 10), (free, 9), (adult, 8), (freebie, 8), (freebies, 7), (chick lit, 6), (e books, 6), (amazon, 5), (england, 4), (wish list, 4), (cross dressing, 4), (guilty pleasures, 4), (d l carter, 3), (humorous, 3), (free books, 3), (maybe, 3), (gender bender, 3), (regency era, 3), (fantasy, 3), (amazon freebies, 3), (humour, 3), (historicals, 3), (friendship, 2), (default, 2), (laugh out loud, 2), (shelfari humor, 2), (humour comedy, 2), (humorous romance, 2), (period, 2), (m f, 2), (friends to lovers, 2), (bookbub, 2), (fun, 2), (misc, 2), (mf, 2), (fiction humor, 2), (historical romances, 2), (drama, 2), (family, 2), (love story, 2)]</td>\n",
       "    </tr>\n",
       "    <tr>\n",
       "      <th>238919</th>\n",
       "      <td>[(young adult, 640), (dystopian, 421), (dystopia, 345), (ya, 335), (science fiction, 222), (post apocalyptic, 186), (series, 182), (sci fi, 157), (survival, 120), (fiction, 109), (apocalyptic, 101), (teen, 71), (adventure, 61), (wish list, 52), (apocalypse, 51), (fantasy, 48), (arc, 42), (maybe, 39), (ya fiction, 39), (monument 14, 36), (signed, 33), (end of the world, 32), (first in series, 29), (ya dystopian, 27), (realistic fiction, 27), (my books, 25), (scifi, 24), (romance, 23), (ya books, 23), (young adult fiction, 21), (dystopian post apocalyptic, 21), (teen fiction, 20), (suspense, 20), (did not finish, 19), (post apocalypse, 19), (male pov, 19), (thriller, 18), (horror, 17), (action adventure, 17), (high school, 15), (sci fi fantasy, 15), (disaster, 15), (speculative fiction, 14), (future, 14), (ya lit, 14), (want, 14), (contemporary, 13), (have, 13), (action, 13), (meh, 12), (ya dystopia, 12), (distopian, 12), (book club, 12), (friendship, 12), (first in a series, 12), (colorado, 12), (e books, 12), (english, 11), (arcs, 11), (2013 books, 10)]</td>\n",
       "    </tr>\n",
       "    <tr>\n",
       "      <th>172222</th>\n",
       "      <td>[(fantasy, 84), (young adult, 65), (historical fiction, 29), (ya, 26), (fairies, 25), (series, 24), (faeries, 21), (romance, 20), (fae, 18), (paranormal, 17), (magic, 13), (historical, 13), (urban fantasy, 8), (giveaways, 7), (the faerie ring, 7), (wish list, 7), (adventure, 6), (faerie, 6), (fey, 6), (ya fantasy, 6), (paranormal romance, 6), (e books, 5), (arc, 5), (faerie ring, 5), (have, 4), (fairy, 4), (fiction, 4), (historical fantasy, 4), (october 2012, 4), (kiki hamilton, 4), (historical romance, 3), (freebies, 3), (royalty, 3), (historical fic, 3), (young adult fiction, 3), (e book, 3), (need to get, 3), (giveaway, 3), (want, 3), (giveaway entry, 3), (fey books, 3), (the faerie ring series, 3), (book series, 3), (ya paranormal, 3), (2012 src, 3), (meh, 2), (love triangle, 2), (regency, 2), (h, 2), (books, 2), (august 2012, 2), (need to finish series, 2), (free, 2), (next in series, 2), (supernatural, 2), (faries, 2), (need, 2), (the fey, 2), (series to finish, 2)]</td>\n",
       "    </tr>\n",
       "    <tr>\n",
       "      <th>303205</th>\n",
       "      <td>[(fiction, 972), (young adult, 380), (chick lit, 235), (ya, 216), (contemporary, 145), (coming of age, 129), (boarding school, 102), (contemporary fiction, 76), (adult fiction, 73), (adult, 68), (book club, 60), (realistic fiction, 59), (2006, 55), (high school, 47), (novels, 47), (general fiction, 43), (literary fiction, 35), (chicklit, 33), (bookclub, 30), (novel, 27), (school, 26), (abandoned, 25), (my books, 24), (2005, 24), (ya fiction, 22), (american, 22), (adolescence, 21), (teen, 21), (did not finish, 19), (romance, 19), (family, 17), (friendship, 17), (wish list, 17), (curtis sittenfeld, 15), (ya contemporary, 14), (default, 14), (ya books, 14), (chic lit, 14), (didn t finish, 14), (2000s, 13), (literature, 13), (literary, 13), (book club books, 13), (usa, 13), (gave up on, 12), (ya lit, 12), (modern fiction, 12), (prep school, 12), (relationships, 11), (bildungsroman, 11), (drama, 11), (fluff, 11), (lit, 11), (female author, 10), (realistic, 10), (21st century, 10), (couldn t finish, 10), (could not finish, 10), (female authors, 10), (coming, 9)]</td>\n",
       "    </tr>\n",
       "    <tr>\n",
       "      <th>191077</th>\n",
       "      <td>[(dystopian and post apocalyptic, 2), (books, 1), (sci fi, 1), (fiction, 1), (future, 1), (dystopian, 1), (arc physical, 1), (catalog, 1), (science fiction, 1), (r2r, 1), (wish list, 1), (young adult, 1)]</td>\n",
       "    </tr>\n",
       "    <tr>\n",
       "      <th>226358</th>\n",
       "      <td>[(science fiction, 51), (fiction, 20), (default, 16), (sci fi, 14), (military, 14), (military fiction, 11), (military science fiction, 7), (sf, 6), (military sci fi, 6), (alternate history, 6), (ringo, 5), (scifi, 5), (need, 3), (thriller, 3), (calibre, 3), (fantasy, 3), (john ringo, 3), (sci fi fantasy, 3), (science fiction and fantasy, 3), (baen, 3), (war, 3), (gave up, 2), (audible, 2), (not interested, 2), (teotwawki, 2), (abandoned, 2), (novels, 2), (apocalypse, 2), (warriors, 2), (shame on you, 2), (2006 2010, 2), (did not finish, 2), (apocalyptic, 2), (action adventure, 2), (military sf, 2), (easton press, 2), (listened to, 2), (post apocalypse, 2), (quit despite a valiant try, 1), (physical, 1), (appeal intellect, 1), (to sort, 1), (alan 2, 1), (inventory digital, 1), (inventory, 1), (digital drm free, 1), (conservative, 1), (somewhere out there, 1), (science, 1), (bookbub, 1), (physical books, 1), (chads books, 1), (martial, 1), (0 janesville, 1), (hardback, 1), (other, 1), (pa, 1), (ku, 1), (sfi, 1), (general fiction, 1), (book box 2, 1), (fiction drama, 1), (2000s, 1), (featured, 1), (scif fi, 1), (for sale, 1), (autobooks, 1), (aanwezig, 1), (na w, 1), (lemmed, 1), (survival, 1), (autographed, 1), (andy, 1)]</td>\n",
       "    </tr>\n",
       "    <tr>\n",
       "      <th>119477</th>\n",
       "      <td>[(mafia, 130), (romance, 57), (series, 40), (dark, 31), (cliffhanger, 29), (abuse, 29), (high school, 27), (contemporary, 26), (alpha male, 18), (mob, 17), (contemporary romance, 17), (young adult, 17), (mafia romance, 16), (love triangle, 15), (ya, 13), (dark romance, 10), (april 2016, 9), (made men, 9), (mafia mob, 9), (mob mafia, 9), (bad boys, 9), (sarah brianne, 8), (bad boy, 7), (part of a series, 7), (crime, 7), (bully, 6), (angst, 6), (abused, 6), (boring, 5), (meh, 5), (mystery, 5), (na, 5), (suspense, 5), (drama, 5), (bullying, 5), (mob romance, 5), (coming soon, 5), (tear jerker, 4), (anti hero, 4), (abused heroine, 4), (college, 4), (cliffy, 4), (not interested, 4), (part of series, 4), (realistic fiction, 4), (highschool, 3), (alpha males, 3), (love, 3), (multiple pov, 3), (disappointing, 3), (intense, 3), (betrayal, 3), (na ya, 3), (maybe, 3), (scarred, 3), (2016 books, 3), (doormat heroine, 3), (mafioso, 3), (series family n friends, 2), (english, 2), (série, 2), (lost interest, 2), (loss, 2), (family, 2), (meeeh, 2), (rom, 2)]</td>\n",
       "    </tr>\n",
       "    <tr>\n",
       "      <th>175002</th>\n",
       "      <td>[(fiction, 39), (feminism, 6), (arc, 6), (womens fiction, 5), (did not finish, 4), (book club, 4), (abandoned, 4), (chick lit, 4), (literature, 3), (novels, 3), (romance, 3), (bookshelf, 2), (aging, 2), (women, 2), (feminist, 2), (contemporary, 2), (humor, 2), (contemporary fiction, 2), (erotica, 2), (usa and canada, 1), (online, 1), (adult fiction, 1), (wishlist 2017, 1), (drama, 1), (psychology, 1), (set aside, 1), (sports zip, 1), (continuing series, 1), (abandonados, 1), (female main character, 1), (asian, 1), (mom, 1), (couldn t finish, 1), (personal, 1), (megafavorits, 1), (feminis me, 1), (duelo, 1), (jenners pick, 1), (bad girls book club, 1), (research, 1), (elle magazine books, 1), (october, 1), (acls, 1), (woman, 1), (bib ce, 1), (not digitally available, 1), (romaani ulkomainen, 1), (litfic, 1), (calibre, 1), (mad money books, 1), (giveaways, 1), (couldn t get through it, 1), (north america, 1), (book club books, 1), (book lovers never go to bed alone, 1), (arc received free, 1), (adult, 1), (matriarchy, 1)]</td>\n",
       "    </tr>\n",
       "    <tr>\n",
       "      <th>397069</th>\n",
       "      <td>[(nonfiction, 17), (non fiction, 11), (humor, 10), (language, 4), (wish list, 2), (nonfic, 2), (language and linguistics, 1), (ha ha ho ho, 1), (psn, 1), (linguistics, 1), (hilarity, 1), (geekery, 1), (word nerd, 1), (digital, 1), (words, 1), (essays, 1), (upcoming, 1), (quirky ref, 1), (english language, 1), (apl books, 1), (via economist, 1), (london, 1), (caught my eye at work, 1), (n5 culture, 1), (n nonfiction, 1), (comedy, 1), (nonf to get, 1), (movie and tv related, 1), (literary criticism biography, 1), (my book box, 1), (biography memoir, 1), (memoir non fiction, 1), (edelweiss, 1), (professional development, 1), (givaway entry, 1), (book threat rec, 1), (single, 1), (giveaways, 1), (arcs, 1), (colonial way, 1), (general nonfiction, 1), (language linguistics, 1), (bio, 1)]</td>\n",
       "    </tr>\n",
       "    <tr>\n",
       "      <th>56647</th>\n",
       "      <td>[(erotica, 77), (taboo, 47), (novella, 32), (alexa riley, 31), (contemporary, 30), (smut, 26), (romance, 24), (adult, 19), (ménage, 18), (virgin, 18), (erotic romance, 15), (erotic, 15), (alpha male, 14), (pregnancy, 14), (forbidden love, 14), (virgin heroine, 14), (short story, 12), (short stories, 12), (short, 11), (contemporary romance, 11), (age gap, 10), (stepbrother, 10), (step siblings, 10), (author alexa riley, 8), (hot hot hot, 7), (forbidden, 7), (insta love, 6), (dual pov, 6), (dirty talker, 6), (standalone, 6), (love triangle, 6), (stand alone, 6), (smutty, 6), (hot, 6), (not interested, 6), (talk dirty to me, 6), (english, 5), (mfm, 5), (guilty pleasure, 5), (bad boys, 5), (virgin hero, 5), (kinky, 5), (daddy kink, 5), (kink, 4), (heroine virgin, 4), (ku, 4), (stepbrother romance, 4), (daddy, 4), (wtf, 4), (short story novella, 4), (no cheating, 4), (not for me, 4), (dd lg, 3), (ibook, 3), (e book, 3), (happily ever after, 3), (wish list, 3), (breeding, 3), (teen, 3), (novellas, 3), (m f m, 3), (v card, 3), (adult fiction, 3), (mmf, 3), (forbidden romance, 3), (virgin h, 3), (family, 3), (pseudo incest, 3), (celibate hero, 3), (kinky fuckery, 3)]</td>\n",
       "    </tr>\n",
       "    <tr>\n",
       "      <th>229180</th>\n",
       "      <td>[(essays, 373), (non fiction, 280), (nonfiction, 146), (writing, 30), (essay, 25), (fiction, 23), (contemporary, 21), (short stories, 21), (criticism, 20), (literary criticism, 19), (literature, 15), (literary, 14), (memoir, 14), (abandoned, 13), (english, 12), (books about books, 12), (wish list, 11), (british, 10), (women, 10), (book club, 10), (zadie smith, 10), (female author, 9), (lit crit, 9), (non fic, 8), (feminism, 7), (european, 7), (female authors, 6), (poc, 6), (short stories essays, 6), (welsh, 6), (scottish, 6), (irish, 6), (didn t finish, 6), (adult, 6), (britain, 5), (maybe, 5), (general, 5), (21st century, 5), (biography, 5), (did not finish, 5), (culture, 5), (brainpickings, 4), (e books, 4), (2000s, 4), (essays short stories, 4), (contemporary fiction, 4), (default, 4), (by women, 4), (women authors, 4), (journalism, 4), (on writing, 4), (to finish, 4), (couldn t finish, 4), (cultural studies, 4), (to find, 4), (female writers, 3), (feminist, 3), (authors of color, 3), (nonfiction essays, 3), (black, 3), (essays criticism, 3), (university, 3), (writers, 3)]</td>\n",
       "    </tr>\n",
       "    <tr>\n",
       "      <th>281447</th>\n",
       "      <td>[(fiction, 220), (chick lit, 116), (book club, 83), (knitting, 73), (series, 49), (book club books, 49), (contemporary fiction, 45), (novels, 44), (friendship, 43), (default, 39), (mothers and daughters, 27), (family, 26), (relationships, 25), (contemporary, 25), (adult, 20), (couldn t finish, 20), (abandoned, 19), (romance, 18), (my books, 14), (women, 13), (did not finish, 13), (adult fiction, 12), (audible, 12), (women s fiction, 11), (realistic fiction, 11), (novel, 11), (crafty, 11), (adult books, 11), (cancer, 10), (books i have, 10), (fiction general, 10), (2009 books, 10), (general fiction, 9), (bookclub, 9), (drama, 9), (womens fiction, 9), (first in series, 9), (death, 9), (nyc, 9), (literature, 9), (gave up on, 8), (crafts, 8), (female authors, 8), (could not finish, 8), (book club selections, 8), (tear jerker, 8), (women friends, 7), (shelfari wishlist, 7), (didn t finish, 7), (gave up, 7), (scotland, 7), (craft fiction, 7), (women writers, 7), (book clubs, 7), (bookshelf, 7), (fun, 7)]</td>\n",
       "    </tr>\n",
       "    <tr>\n",
       "      <th>276960</th>\n",
       "      <td>[(angels, 108), (paranormal, 91), (young adult, 59), (series, 56), (romance, 55), (fantasy, 51), (paranormal romance, 36), (coming soon, 24), (ya, 22), (not out yet, 19), (supernatural, 17), (magic, 16), (urban fantasy, 16), (waiting, 16), (demons, 15), (angel, 11), (the premonition, 11), (fae, 10), (fiction, 10), (love triangle, 9), (vampires, 9), (wish list, 9), (angels and demons, 8), (fantasy romance, 8), (premonition, 8), (the premonition series, 8), (book boyfriend, 8), (angels demons, 8), (favs, 7), (lost interest, 6), (next in series, 6), (can t wait, 6), (series to finish, 6), (waiting for, 6), (college, 6), (fantasy paranormal, 6), (audible, 5), (multiple pov, 5), (faeries, 5), (have, 5), (action, 5), (december 2015, 5), (december, 5), (paranormal fantasy, 5), (pnr, 5), (magical, 4), (kick ass heroine, 4), (emotional, 4), (soul mates, 4), (books, 4), (immortals, 4), (contemporary romance, 4), (need, 4), (book series, 4), (ya paranormal, 4), (waiting to come out, 4), (premonition series, 4)]</td>\n",
       "    </tr>\n",
       "    <tr>\n",
       "      <th>99202</th>\n",
       "      <td>[(picture books, 13), (children s, 6), (childrens books, 5), (children s books, 5), (children, 5), (default, 4), (childrens, 4), (picture book, 3), (kids books, 3), (munsch, 3), (home, 2), (humor, 2), (school books, 2), (fiction, 2), (children s books in uae, 1), (lib ella, 1), (fairy tales b4, 1), (ar level 2, 1), (t s bookshelf, 1), (e s bookshelf, 1), (a s bookshelf, 1), (kids books tracking, 1), (b2016 17k 1st, 1), (book level 2, 1), (kids, 1), (northern america, 1), (childhood, 1), (valentine s day books, 1), (for the classroom, 1), (kindergarten, 1), (grayson s books, 1), (children entertainment, 1), (kid books, 1), (for kids, 1), (picture spanish, 1), (melissa s classroom books, 1), (feelings social emotional, 1), (family, 1), (old kid books, 1), (aubrey, 1), (emma s books, 1), (childrens illustrated, 1), (grade school, 1), (work kids books, 1), (february, 1), (second shelf, 1), (544, 1), (books i need, 1), (推薦繪本區, 1), (orange books, 1), (classroom books, 1), (classroom, 1), (bella books, 1), (2, 1), (realistic fiction, 1), (fun, 1), (canadian authors, 1), (picture, 1), (moose, 1), (humour and comedy, 1), (dogs, 1), (cats, 1), (birds, 1), (animals, 1)]</td>\n",
       "    </tr>\n",
       "    <tr>\n",
       "      <th>4183</th>\n",
       "      <td>[(classics, 24811), (romance, 3738), (literature, 1482), (gothic, 1426), (historical fiction, 1214), (19th century, 785), (classic literature, 730), (historical, 689), (novels, 682), (school, 623), (british, 622), (1001 books, 523), (british literature, 511), (adult, 479), (victorian, 430), (book club, 426), (english, 421), (my books, 414), (default, 403), (england, 358), (novel, 353), (adult fiction, 351), (english literature, 329), (drama, 315), (1001, 303), (classic fiction, 280), (classic lit, 266), (historical romance, 263), (abandoned, 263), (high school, 260), (literary fiction, 240), (clàssics, 228), (the classics, 224), (for school, 209), (school books, 184), (love, 184), (did not finish, 184), (brit lit, 176), (british lit, 172), (female authors, 166), (books, 163), (classici, 160), (literary, 157), (bronte, 155), (on my shelf, 151), (general fiction, 144), (bookshelf, 144), (female author, 140), (have, 140), (uk, 132), (my bookshelf, 130), (tragedy, 127), (clásicos, 123), (wish list, 123), (e books, 123)]</td>\n",
       "    </tr>\n",
       "    <tr>\n",
       "      <th>238218</th>\n",
       "      <td>[(paranormal, 10), (paranormal romance, 4), (shapeshifters, 3), (novella, 3), (vivian wood, 2), (shifters, 2), (shifter, 2), (freebie, 2), (fantasy paranormal, 1), (first in series, 1), (adult paranormal shifter, 1), (wood vivian, 1), (redheaded sistas, 1), (m, 1), (amazon, 1), (paranormal fantasy, 1), (tough guys, 1), (series, 1), (second chance, 1), (romance, 1), (real women have curves, 1), (police firefighters, 1), (novellas, 1), (military men, 1), (hot stuff, 1), (guilty pleasure, 1), (good girl bad boy, 1), (family, 1), (chick lit, 1), (book boyfriends, 1), (no cheating, 1), (paranormal bear, 1), (shapeshifter, 1), (second chance romance, 1), (bear shifters, 1), (1st book in a series, 1), (wood, 1), (second chances, 1), (part of series, 1), (paranormal vampire shifter immortal, 1), (bbw, 1), (m f, 1), (erotica content, 1), (contemporary, 1), (2015 botb, 1), (15 sep, 1), (wolves, 1), (erotica adult, 1), (bears, 1), (free, 1), (shifter romance, 1), (paranormal rom series, 1), (erotic romance, 1), (heac blue, 1), (bear shifter, 1), (fantasy, 1)]</td>\n",
       "    </tr>\n",
       "    <tr>\n",
       "      <th>230374</th>\n",
       "      <td>[(non fiction, 727), (classics, 631), (fiction, 613), (memoir, 252), (biography, 241), (travel, 207), (nonfiction, 197), (literature, 164), (france, 138), (history, 130), (classic, 100), (british, 95), (politics, 94), (paris, 90), (autobiography, 87), (20th century, 80), (england, 72), (novels, 70), (george orwell, 70), (london, 67), (memoirs, 66), (english, 59), (orwell, 57), (british literature, 55), (poverty, 46), (default, 44), (biography memoir, 43), (europe, 42), (wish list, 42), (modern classics, 41), (food, 37), (sociology, 36), (uk, 34), (english literature, 34), (essays, 32), (book club, 31), (1930s, 27), (memoir biography, 26), (روايات, 25), (journalism, 24), (historical, 22), (historical fiction, 22), (autobiographical, 22), (political, 22), (society, 20), (social commentary, 20), (british lit, 20), (britain, 20), (autobiography memoir, 18), (my books, 18), (novel, 18), (biographical, 18), (biographies, 16), (classic literature, 16), (school, 14), (biography autobiography, 14), (books, 14), (biographies memoirs, 14), (literary, 14), (brit lit, 14), (literary fiction, 13), (classic fiction, 13), (adult fiction, 13), (lit, 13), (modern classic, 12), (class, 12), (cooking, 12), (e book, 11), (bookshelf, 11), (general fiction, 11), (want, 11)]</td>\n",
       "    </tr>\n",
       "    <tr>\n",
       "      <th>137507</th>\n",
       "      <td>[(young adult, 2488), (contemporary, 1568), (romance, 1480), (ya, 1273), (chick lit, 386), (fiction, 380), (realistic fiction, 293), (high school, 277), (stand alone, 218), (teen, 170), (ya contemporary, 149), (contemporary romance, 147), (ya romance, 110), (ya fiction, 106), (wish list, 101), (e book, 94), (standalone, 88), (my books, 82), (friendship, 82), (love, 81), (e books, 81), (humor, 80), (stand alones, 77), (realistic, 77), (coming of age, 77), (drama, 76), (english, 73), (love triangle, 66), (book to movie, 65), (enemies to lovers, 64), (ya books, 61), (2015 books, 58), (maybe, 56), (family, 55), (on my shelf, 51), (young adult fiction, 51), (meh, 50), (arc, 48), (contemporary ya, 47), (cute, 46), (movie, 44), (bad boy, 44), (contemporary fiction, 44), (teen fiction, 44), (book boyfriends, 43), (books, 41), (book boyfriend, 40), (favs, 39), (ya lit, 39), (standalones, 38)]</td>\n",
       "    </tr>\n",
       "  </tbody>\n",
       "</table>\n",
       "</div>"
      ],
      "text/plain": [
       "                                                                                                                                                                                                                                                                                                                                                                                                                                                                                                                                                                                                                                                                                                                                                                                                                                                                                                                                                                                                                                                                                                                                                                                                                                                                                                                cleaned_shelves\n",
       "41230                                                                                                                                                                                                                                      [(romance, 76), (contemporary romance, 26), (harlequin, 17), (western, 14), (contemporary, 13), (long tall texans, 10), (fiction, 9), (cowboy, 9), (series, 8), (harlequin romance, 7), (western romance, 6), (default, 5), (2010 11, 3), (harlequin wishlist, 3), (books i have, 3), (adult, 3), (cowboys, 3), (virgin heroine, 3), (april, 3), (harlequim, 2), (did not finish, 2), (series in progress, 2), (chick lit, 2), (books, 2), (on my shelf, 2), (adult fiction, 2), (cowboy western, 2), (terjemahan, 2), (genre western, 2), (undecided, 2), (paper back, 2), (not interested, 2), (gramedia, 2), (romantic suspense, 2), (action, 2), (part of a series, 2), (series romance, 2), (harlequinromance, 2), (meaghan, 1), (mills and boon, 1), (0 contemporary, 1), (genre romance, 1), (meh, 1), (harlequins, 1), (angsty, 1), (on the shelf, 1), (shelf 4 front, 1), (blom check, 1), (primary, 1), (romance modern, 1), (long tall texan, 1), (hero grovels, 1), (brooding hero, 1), (long tall texans series bk 34, 1), (harlequin modern romance, 1), (e books, 1)]\n",
       "95710                                                                                                                                                                                                              [(science fiction, 1975), (sci fi, 1674), (fiction, 1014), (scifi, 453), (post apocalyptic, 211), (sf, 179), (sci fi fantasy, 138), (abandoned, 128), (dystopian, 114), (audible, 111), (space, 105), (fantasy, 100), (dystopia, 95), (apocalyptic, 93), (science, 73), (speculative fiction, 70), (scifi fantasy, 68), (novels, 63), (did not finish, 63), (fantasy sci fi, 58), (adult, 57), (apocalypse, 57), (space opera, 51), (wish list, 48), (book club, 46), (bill gates, 44), (didn t finish, 43), (science fiction fantasy, 42), (hard sci fi, 38), (maybe, 36), (sff, 34), (adventure, 32), (gave up on, 31), (novel, 31), (e books, 29), (post apocalypse, 29), (sf fantasy, 28), (e book, 28), (survival, 28), (default, 27), (sci fi and fantasy, 26), (hard scifi, 23), (couldn t finish, 23), (epic, 23), (hard science fiction, 22), (to get, 22), (literature, 21), (adult fiction, 21), (standalone, 20), (fantasy scifi, 20), (english, 20), (sciencefiction, 20), (speculative, 20), (thriller, 19), (gave up, 18), (signed, 18), (future, 18), (21st century, 17), (near future, 17)]\n",
       "142885                                                                                                                                                                                                                                                                                                                                                                                                                                                     [(romance, 150), (historical romance, 80), (historical, 78), (historical fiction, 53), (regency, 53), (humor, 30), (fiction, 19), (regency romance, 14), (e book, 13), (comedy, 11), (romance historical, 10), (free, 9), (adult, 8), (freebie, 8), (freebies, 7), (chick lit, 6), (e books, 6), (amazon, 5), (england, 4), (wish list, 4), (cross dressing, 4), (guilty pleasures, 4), (d l carter, 3), (humorous, 3), (free books, 3), (maybe, 3), (gender bender, 3), (regency era, 3), (fantasy, 3), (amazon freebies, 3), (humour, 3), (historicals, 3), (friendship, 2), (default, 2), (laugh out loud, 2), (shelfari humor, 2), (humour comedy, 2), (humorous romance, 2), (period, 2), (m f, 2), (friends to lovers, 2), (bookbub, 2), (fun, 2), (misc, 2), (mf, 2), (fiction humor, 2), (historical romances, 2), (drama, 2), (family, 2), (love story, 2)]\n",
       "238919                                                                                                                                                                                                            [(young adult, 640), (dystopian, 421), (dystopia, 345), (ya, 335), (science fiction, 222), (post apocalyptic, 186), (series, 182), (sci fi, 157), (survival, 120), (fiction, 109), (apocalyptic, 101), (teen, 71), (adventure, 61), (wish list, 52), (apocalypse, 51), (fantasy, 48), (arc, 42), (maybe, 39), (ya fiction, 39), (monument 14, 36), (signed, 33), (end of the world, 32), (first in series, 29), (ya dystopian, 27), (realistic fiction, 27), (my books, 25), (scifi, 24), (romance, 23), (ya books, 23), (young adult fiction, 21), (dystopian post apocalyptic, 21), (teen fiction, 20), (suspense, 20), (did not finish, 19), (post apocalypse, 19), (male pov, 19), (thriller, 18), (horror, 17), (action adventure, 17), (high school, 15), (sci fi fantasy, 15), (disaster, 15), (speculative fiction, 14), (future, 14), (ya lit, 14), (want, 14), (contemporary, 13), (have, 13), (action, 13), (meh, 12), (ya dystopia, 12), (distopian, 12), (book club, 12), (friendship, 12), (first in a series, 12), (colorado, 12), (e books, 12), (english, 11), (arcs, 11), (2013 books, 10)]\n",
       "172222                                                                                                                                                                                                                                                                                               [(fantasy, 84), (young adult, 65), (historical fiction, 29), (ya, 26), (fairies, 25), (series, 24), (faeries, 21), (romance, 20), (fae, 18), (paranormal, 17), (magic, 13), (historical, 13), (urban fantasy, 8), (giveaways, 7), (the faerie ring, 7), (wish list, 7), (adventure, 6), (faerie, 6), (fey, 6), (ya fantasy, 6), (paranormal romance, 6), (e books, 5), (arc, 5), (faerie ring, 5), (have, 4), (fairy, 4), (fiction, 4), (historical fantasy, 4), (october 2012, 4), (kiki hamilton, 4), (historical romance, 3), (freebies, 3), (royalty, 3), (historical fic, 3), (young adult fiction, 3), (e book, 3), (need to get, 3), (giveaway, 3), (want, 3), (giveaway entry, 3), (fey books, 3), (the faerie ring series, 3), (book series, 3), (ya paranormal, 3), (2012 src, 3), (meh, 2), (love triangle, 2), (regency, 2), (h, 2), (books, 2), (august 2012, 2), (need to finish series, 2), (free, 2), (next in series, 2), (supernatural, 2), (faries, 2), (need, 2), (the fey, 2), (series to finish, 2)]\n",
       "303205                                                                                                                                                                                                         [(fiction, 972), (young adult, 380), (chick lit, 235), (ya, 216), (contemporary, 145), (coming of age, 129), (boarding school, 102), (contemporary fiction, 76), (adult fiction, 73), (adult, 68), (book club, 60), (realistic fiction, 59), (2006, 55), (high school, 47), (novels, 47), (general fiction, 43), (literary fiction, 35), (chicklit, 33), (bookclub, 30), (novel, 27), (school, 26), (abandoned, 25), (my books, 24), (2005, 24), (ya fiction, 22), (american, 22), (adolescence, 21), (teen, 21), (did not finish, 19), (romance, 19), (family, 17), (friendship, 17), (wish list, 17), (curtis sittenfeld, 15), (ya contemporary, 14), (default, 14), (ya books, 14), (chic lit, 14), (didn t finish, 14), (2000s, 13), (literature, 13), (literary, 13), (book club books, 13), (usa, 13), (gave up on, 12), (ya lit, 12), (modern fiction, 12), (prep school, 12), (relationships, 11), (bildungsroman, 11), (drama, 11), (fluff, 11), (lit, 11), (female author, 10), (realistic, 10), (21st century, 10), (couldn t finish, 10), (could not finish, 10), (female authors, 10), (coming, 9)]\n",
       "191077                                                                                                                                                                                                                                                                                                                                                                                                                                                                                                                                                                                                                                                                                                                                                                                                                                                                                                                                                                                                                                                                                                             [(dystopian and post apocalyptic, 2), (books, 1), (sci fi, 1), (fiction, 1), (future, 1), (dystopian, 1), (arc physical, 1), (catalog, 1), (science fiction, 1), (r2r, 1), (wish list, 1), (young adult, 1)]\n",
       "226358                                  [(science fiction, 51), (fiction, 20), (default, 16), (sci fi, 14), (military, 14), (military fiction, 11), (military science fiction, 7), (sf, 6), (military sci fi, 6), (alternate history, 6), (ringo, 5), (scifi, 5), (need, 3), (thriller, 3), (calibre, 3), (fantasy, 3), (john ringo, 3), (sci fi fantasy, 3), (science fiction and fantasy, 3), (baen, 3), (war, 3), (gave up, 2), (audible, 2), (not interested, 2), (teotwawki, 2), (abandoned, 2), (novels, 2), (apocalypse, 2), (warriors, 2), (shame on you, 2), (2006 2010, 2), (did not finish, 2), (apocalyptic, 2), (action adventure, 2), (military sf, 2), (easton press, 2), (listened to, 2), (post apocalypse, 2), (quit despite a valiant try, 1), (physical, 1), (appeal intellect, 1), (to sort, 1), (alan 2, 1), (inventory digital, 1), (inventory, 1), (digital drm free, 1), (conservative, 1), (somewhere out there, 1), (science, 1), (bookbub, 1), (physical books, 1), (chads books, 1), (martial, 1), (0 janesville, 1), (hardback, 1), (other, 1), (pa, 1), (ku, 1), (sfi, 1), (general fiction, 1), (book box 2, 1), (fiction drama, 1), (2000s, 1), (featured, 1), (scif fi, 1), (for sale, 1), (autobooks, 1), (aanwezig, 1), (na w, 1), (lemmed, 1), (survival, 1), (autographed, 1), (andy, 1)]\n",
       "119477                                                                                                                                                                                                                       [(mafia, 130), (romance, 57), (series, 40), (dark, 31), (cliffhanger, 29), (abuse, 29), (high school, 27), (contemporary, 26), (alpha male, 18), (mob, 17), (contemporary romance, 17), (young adult, 17), (mafia romance, 16), (love triangle, 15), (ya, 13), (dark romance, 10), (april 2016, 9), (made men, 9), (mafia mob, 9), (mob mafia, 9), (bad boys, 9), (sarah brianne, 8), (bad boy, 7), (part of a series, 7), (crime, 7), (bully, 6), (angst, 6), (abused, 6), (boring, 5), (meh, 5), (mystery, 5), (na, 5), (suspense, 5), (drama, 5), (bullying, 5), (mob romance, 5), (coming soon, 5), (tear jerker, 4), (anti hero, 4), (abused heroine, 4), (college, 4), (cliffy, 4), (not interested, 4), (part of series, 4), (realistic fiction, 4), (highschool, 3), (alpha males, 3), (love, 3), (multiple pov, 3), (disappointing, 3), (intense, 3), (betrayal, 3), (na ya, 3), (maybe, 3), (scarred, 3), (2016 books, 3), (doormat heroine, 3), (mafioso, 3), (series family n friends, 2), (english, 2), (série, 2), (lost interest, 2), (loss, 2), (family, 2), (meeeh, 2), (rom, 2)]\n",
       "175002                                                                                                                                                                                                                                              [(fiction, 39), (feminism, 6), (arc, 6), (womens fiction, 5), (did not finish, 4), (book club, 4), (abandoned, 4), (chick lit, 4), (literature, 3), (novels, 3), (romance, 3), (bookshelf, 2), (aging, 2), (women, 2), (feminist, 2), (contemporary, 2), (humor, 2), (contemporary fiction, 2), (erotica, 2), (usa and canada, 1), (online, 1), (adult fiction, 1), (wishlist 2017, 1), (drama, 1), (psychology, 1), (set aside, 1), (sports zip, 1), (continuing series, 1), (abandonados, 1), (female main character, 1), (asian, 1), (mom, 1), (couldn t finish, 1), (personal, 1), (megafavorits, 1), (feminis me, 1), (duelo, 1), (jenners pick, 1), (bad girls book club, 1), (research, 1), (elle magazine books, 1), (october, 1), (acls, 1), (woman, 1), (bib ce, 1), (not digitally available, 1), (romaani ulkomainen, 1), (litfic, 1), (calibre, 1), (mad money books, 1), (giveaways, 1), (couldn t get through it, 1), (north america, 1), (book club books, 1), (book lovers never go to bed alone, 1), (arc received free, 1), (adult, 1), (matriarchy, 1)]\n",
       "397069                                                                                                                                                                                                                                                                                                                                                                                                                                                                                                 [(nonfiction, 17), (non fiction, 11), (humor, 10), (language, 4), (wish list, 2), (nonfic, 2), (language and linguistics, 1), (ha ha ho ho, 1), (psn, 1), (linguistics, 1), (hilarity, 1), (geekery, 1), (word nerd, 1), (digital, 1), (words, 1), (essays, 1), (upcoming, 1), (quirky ref, 1), (english language, 1), (apl books, 1), (via economist, 1), (london, 1), (caught my eye at work, 1), (n5 culture, 1), (n nonfiction, 1), (comedy, 1), (nonf to get, 1), (movie and tv related, 1), (literary criticism biography, 1), (my book box, 1), (biography memoir, 1), (memoir non fiction, 1), (edelweiss, 1), (professional development, 1), (givaway entry, 1), (book threat rec, 1), (single, 1), (giveaways, 1), (arcs, 1), (colonial way, 1), (general nonfiction, 1), (language linguistics, 1), (bio, 1)]\n",
       "56647                                                                                                 [(erotica, 77), (taboo, 47), (novella, 32), (alexa riley, 31), (contemporary, 30), (smut, 26), (romance, 24), (adult, 19), (ménage, 18), (virgin, 18), (erotic romance, 15), (erotic, 15), (alpha male, 14), (pregnancy, 14), (forbidden love, 14), (virgin heroine, 14), (short story, 12), (short stories, 12), (short, 11), (contemporary romance, 11), (age gap, 10), (stepbrother, 10), (step siblings, 10), (author alexa riley, 8), (hot hot hot, 7), (forbidden, 7), (insta love, 6), (dual pov, 6), (dirty talker, 6), (standalone, 6), (love triangle, 6), (stand alone, 6), (smutty, 6), (hot, 6), (not interested, 6), (talk dirty to me, 6), (english, 5), (mfm, 5), (guilty pleasure, 5), (bad boys, 5), (virgin hero, 5), (kinky, 5), (daddy kink, 5), (kink, 4), (heroine virgin, 4), (ku, 4), (stepbrother romance, 4), (daddy, 4), (wtf, 4), (short story novella, 4), (no cheating, 4), (not for me, 4), (dd lg, 3), (ibook, 3), (e book, 3), (happily ever after, 3), (wish list, 3), (breeding, 3), (teen, 3), (novellas, 3), (m f m, 3), (v card, 3), (adult fiction, 3), (mmf, 3), (forbidden romance, 3), (virgin h, 3), (family, 3), (pseudo incest, 3), (celibate hero, 3), (kinky fuckery, 3)]\n",
       "229180                                                                                                                                                                                     [(essays, 373), (non fiction, 280), (nonfiction, 146), (writing, 30), (essay, 25), (fiction, 23), (contemporary, 21), (short stories, 21), (criticism, 20), (literary criticism, 19), (literature, 15), (literary, 14), (memoir, 14), (abandoned, 13), (english, 12), (books about books, 12), (wish list, 11), (british, 10), (women, 10), (book club, 10), (zadie smith, 10), (female author, 9), (lit crit, 9), (non fic, 8), (feminism, 7), (european, 7), (female authors, 6), (poc, 6), (short stories essays, 6), (welsh, 6), (scottish, 6), (irish, 6), (didn t finish, 6), (adult, 6), (britain, 5), (maybe, 5), (general, 5), (21st century, 5), (biography, 5), (did not finish, 5), (culture, 5), (brainpickings, 4), (e books, 4), (2000s, 4), (essays short stories, 4), (contemporary fiction, 4), (default, 4), (by women, 4), (women authors, 4), (journalism, 4), (on writing, 4), (to finish, 4), (couldn t finish, 4), (cultural studies, 4), (to find, 4), (female writers, 3), (feminist, 3), (authors of color, 3), (nonfiction essays, 3), (black, 3), (essays criticism, 3), (university, 3), (writers, 3)]\n",
       "281447                                                                                                                                                                                                                                                                    [(fiction, 220), (chick lit, 116), (book club, 83), (knitting, 73), (series, 49), (book club books, 49), (contemporary fiction, 45), (novels, 44), (friendship, 43), (default, 39), (mothers and daughters, 27), (family, 26), (relationships, 25), (contemporary, 25), (adult, 20), (couldn t finish, 20), (abandoned, 19), (romance, 18), (my books, 14), (women, 13), (did not finish, 13), (adult fiction, 12), (audible, 12), (women s fiction, 11), (realistic fiction, 11), (novel, 11), (crafty, 11), (adult books, 11), (cancer, 10), (books i have, 10), (fiction general, 10), (2009 books, 10), (general fiction, 9), (bookclub, 9), (drama, 9), (womens fiction, 9), (first in series, 9), (death, 9), (nyc, 9), (literature, 9), (gave up on, 8), (crafts, 8), (female authors, 8), (could not finish, 8), (book club selections, 8), (tear jerker, 8), (women friends, 7), (shelfari wishlist, 7), (didn t finish, 7), (gave up, 7), (scotland, 7), (craft fiction, 7), (women writers, 7), (book clubs, 7), (bookshelf, 7), (fun, 7)]\n",
       "276960                                                                                                                                                                                                                                                                  [(angels, 108), (paranormal, 91), (young adult, 59), (series, 56), (romance, 55), (fantasy, 51), (paranormal romance, 36), (coming soon, 24), (ya, 22), (not out yet, 19), (supernatural, 17), (magic, 16), (urban fantasy, 16), (waiting, 16), (demons, 15), (angel, 11), (the premonition, 11), (fae, 10), (fiction, 10), (love triangle, 9), (vampires, 9), (wish list, 9), (angels and demons, 8), (fantasy romance, 8), (premonition, 8), (the premonition series, 8), (book boyfriend, 8), (angels demons, 8), (favs, 7), (lost interest, 6), (next in series, 6), (can t wait, 6), (series to finish, 6), (waiting for, 6), (college, 6), (fantasy paranormal, 6), (audible, 5), (multiple pov, 5), (faeries, 5), (have, 5), (action, 5), (december 2015, 5), (december, 5), (paranormal fantasy, 5), (pnr, 5), (magical, 4), (kick ass heroine, 4), (emotional, 4), (soul mates, 4), (books, 4), (immortals, 4), (contemporary romance, 4), (need, 4), (book series, 4), (ya paranormal, 4), (waiting to come out, 4), (premonition series, 4)]\n",
       "99202                                                                                                 [(picture books, 13), (children s, 6), (childrens books, 5), (children s books, 5), (children, 5), (default, 4), (childrens, 4), (picture book, 3), (kids books, 3), (munsch, 3), (home, 2), (humor, 2), (school books, 2), (fiction, 2), (children s books in uae, 1), (lib ella, 1), (fairy tales b4, 1), (ar level 2, 1), (t s bookshelf, 1), (e s bookshelf, 1), (a s bookshelf, 1), (kids books tracking, 1), (b2016 17k 1st, 1), (book level 2, 1), (kids, 1), (northern america, 1), (childhood, 1), (valentine s day books, 1), (for the classroom, 1), (kindergarten, 1), (grayson s books, 1), (children entertainment, 1), (kid books, 1), (for kids, 1), (picture spanish, 1), (melissa s classroom books, 1), (feelings social emotional, 1), (family, 1), (old kid books, 1), (aubrey, 1), (emma s books, 1), (childrens illustrated, 1), (grade school, 1), (work kids books, 1), (february, 1), (second shelf, 1), (544, 1), (books i need, 1), (推薦繪本區, 1), (orange books, 1), (classroom books, 1), (classroom, 1), (bella books, 1), (2, 1), (realistic fiction, 1), (fun, 1), (canadian authors, 1), (picture, 1), (moose, 1), (humour and comedy, 1), (dogs, 1), (cats, 1), (birds, 1), (animals, 1)]\n",
       "4183                                                                                                                                                                                                                                                    [(classics, 24811), (romance, 3738), (literature, 1482), (gothic, 1426), (historical fiction, 1214), (19th century, 785), (classic literature, 730), (historical, 689), (novels, 682), (school, 623), (british, 622), (1001 books, 523), (british literature, 511), (adult, 479), (victorian, 430), (book club, 426), (english, 421), (my books, 414), (default, 403), (england, 358), (novel, 353), (adult fiction, 351), (english literature, 329), (drama, 315), (1001, 303), (classic fiction, 280), (classic lit, 266), (historical romance, 263), (abandoned, 263), (high school, 260), (literary fiction, 240), (clàssics, 228), (the classics, 224), (for school, 209), (school books, 184), (love, 184), (did not finish, 184), (brit lit, 176), (british lit, 172), (female authors, 166), (books, 163), (classici, 160), (literary, 157), (bronte, 155), (on my shelf, 151), (general fiction, 144), (bookshelf, 144), (female author, 140), (have, 140), (uk, 132), (my bookshelf, 130), (tragedy, 127), (clásicos, 123), (wish list, 123), (e books, 123)]\n",
       "238218                                                                                                                                                                                                                 [(paranormal, 10), (paranormal romance, 4), (shapeshifters, 3), (novella, 3), (vivian wood, 2), (shifters, 2), (shifter, 2), (freebie, 2), (fantasy paranormal, 1), (first in series, 1), (adult paranormal shifter, 1), (wood vivian, 1), (redheaded sistas, 1), (m, 1), (amazon, 1), (paranormal fantasy, 1), (tough guys, 1), (series, 1), (second chance, 1), (romance, 1), (real women have curves, 1), (police firefighters, 1), (novellas, 1), (military men, 1), (hot stuff, 1), (guilty pleasure, 1), (good girl bad boy, 1), (family, 1), (chick lit, 1), (book boyfriends, 1), (no cheating, 1), (paranormal bear, 1), (shapeshifter, 1), (second chance romance, 1), (bear shifters, 1), (1st book in a series, 1), (wood, 1), (second chances, 1), (part of series, 1), (paranormal vampire shifter immortal, 1), (bbw, 1), (m f, 1), (erotica content, 1), (contemporary, 1), (2015 botb, 1), (15 sep, 1), (wolves, 1), (erotica adult, 1), (bears, 1), (free, 1), (shifter romance, 1), (paranormal rom series, 1), (erotic romance, 1), (heac blue, 1), (bear shifter, 1), (fantasy, 1)]\n",
       "230374  [(non fiction, 727), (classics, 631), (fiction, 613), (memoir, 252), (biography, 241), (travel, 207), (nonfiction, 197), (literature, 164), (france, 138), (history, 130), (classic, 100), (british, 95), (politics, 94), (paris, 90), (autobiography, 87), (20th century, 80), (england, 72), (novels, 70), (george orwell, 70), (london, 67), (memoirs, 66), (english, 59), (orwell, 57), (british literature, 55), (poverty, 46), (default, 44), (biography memoir, 43), (europe, 42), (wish list, 42), (modern classics, 41), (food, 37), (sociology, 36), (uk, 34), (english literature, 34), (essays, 32), (book club, 31), (1930s, 27), (memoir biography, 26), (روايات, 25), (journalism, 24), (historical, 22), (historical fiction, 22), (autobiographical, 22), (political, 22), (society, 20), (social commentary, 20), (british lit, 20), (britain, 20), (autobiography memoir, 18), (my books, 18), (novel, 18), (biographical, 18), (biographies, 16), (classic literature, 16), (school, 14), (biography autobiography, 14), (books, 14), (biographies memoirs, 14), (literary, 14), (brit lit, 14), (literary fiction, 13), (classic fiction, 13), (adult fiction, 13), (lit, 13), (modern classic, 12), (class, 12), (cooking, 12), (e book, 11), (bookshelf, 11), (general fiction, 11), (want, 11)]\n",
       "137507                                                                                                                                                                                                                                                                                                                                                                                         [(young adult, 2488), (contemporary, 1568), (romance, 1480), (ya, 1273), (chick lit, 386), (fiction, 380), (realistic fiction, 293), (high school, 277), (stand alone, 218), (teen, 170), (ya contemporary, 149), (contemporary romance, 147), (ya romance, 110), (ya fiction, 106), (wish list, 101), (e book, 94), (standalone, 88), (my books, 82), (friendship, 82), (love, 81), (e books, 81), (humor, 80), (stand alones, 77), (realistic, 77), (coming of age, 77), (drama, 76), (english, 73), (love triangle, 66), (book to movie, 65), (enemies to lovers, 64), (ya books, 61), (2015 books, 58), (maybe, 56), (family, 55), (on my shelf, 51), (young adult fiction, 51), (meh, 50), (arc, 48), (contemporary ya, 47), (cute, 46), (movie, 44), (bad boy, 44), (contemporary fiction, 44), (teen fiction, 44), (book boyfriends, 43), (books, 41), (book boyfriend, 40), (favs, 39), (ya lit, 39), (standalones, 38)]"
      ]
     },
     "execution_count": 34,
     "metadata": {},
     "output_type": "execute_result"
    }
   ],
   "source": [
    "sample_1star[['cleaned_shelves']].head(20)"
   ]
  },
  {
   "cell_type": "code",
   "execution_count": null,
   "id": "09fb4d31",
   "metadata": {},
   "outputs": [],
   "source": [
    "import numpy as np\n",
    "import html\n",
    "import re"
   ]
  },
  {
   "cell_type": "code",
   "execution_count": null,
   "id": "3e579ecb",
   "metadata": {},
   "outputs": [],
   "source": [
    "#attempting to clean the html first\n"
   ]
  }
 ],
 "metadata": {
  "kernelspec": {
   "display_name": "Python 3 (ipykernel)",
   "language": "python",
   "name": "python3"
  },
  "language_info": {
   "codemirror_mode": {
    "name": "ipython",
    "version": 3
   },
   "file_extension": ".py",
   "mimetype": "text/x-python",
   "name": "python",
   "nbconvert_exporter": "python",
   "pygments_lexer": "ipython3",
   "version": "3.12.4"
  }
 },
 "nbformat": 4,
 "nbformat_minor": 5
}
