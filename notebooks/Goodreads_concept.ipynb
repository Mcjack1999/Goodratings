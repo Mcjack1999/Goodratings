{
 "cells": [
  {
   "cell_type": "markdown",
   "id": "46f90637-3981-4027-b877-81cc129987b0",
   "metadata": {},
   "source": [
    "Phase 1: Numerical Data Cleaning and Transformation\n",
    "1. Data Import and Initial Inspection\n",
    "The dataset was imported using Pandas and inspected for missing values, incorrect formats, and inconsistencies.\n",
    "Key columns:\n",
    "Star Ratings (star_rating)\n",
    "Number of Ratings (num_ratings)\n",
    "Number of Reviews (num_reviews)\n",
    "Genres (genres)\n",
    "Community Reviews (extracted into separate rating percentages)"
   ]
  },
  {
   "cell_type": "code",
   "execution_count": null,
   "id": "c07d22c8-3468-4868-aa43-89f0c5303cb5",
   "metadata": {},
   "outputs": [],
   "source": [
    "import pandas as pd\n",
    "\n",
    "df = pd.read_csv(\"./Data/Goodreads-Books.csv\")"
   ]
  },
  {
   "cell_type": "code",
   "execution_count": null,
   "id": "3d4c49df-9183-4817-89e3-805a1aeb43e7",
   "metadata": {},
   "outputs": [],
   "source": [
    "import ast # Convert JSON-like strings in 'community_reviews' to dictionary format\n",
    "df['community_reviews'] = df['community_reviews'].apply(lambda x: ast.literal_eval(x) if isinstance(x, str) else x)\n",
    "\n",
    "# Extract 1-star reviews count and percentage\n",
    "df['1_star_reviews_num'] = df['community_reviews'].apply(lambda x: x['1_stars']['reviews_num'] if isinstance(x, dict) else 0)\n",
    "df['1_star_reviews_percentage'] = df['community_reviews'].apply(lambda x: x['1_stars']['reviews_percentage'] if isinstance(x, dict) else 0)\n",
    "\n",
    "# Convert genres from string to list\n",
    "df['genres'] = df['genres'].apply(lambda x: ast.literal_eval(x) if isinstance(x, str) else [])\n",
    "\n",
    "# Explode so each genre is a separate row\n",
    "df_exploded = df.explode('genres')"
   ]
  },
  {
   "cell_type": "code",
   "execution_count": null,
   "id": "fd38e1b4-2b10-44e8-8518-ef6c1c8a1045",
   "metadata": {},
   "outputs": [],
   "source": [
    "#extract 5 star reviews\n",
    "df_exploded['5_star_reviews_num'] = df['community_reviews'].apply(\n",
    "    lambda x: x['5_stars']['reviews_num'] if isinstance(x, dict) else 0)\n",
    "df_exploded['5_star_reviews_percentage'] = df['community_reviews'].apply(\n",
    "    lambda x: x['5_stars']['reviews_percentage'] if isinstance(x, dict) else 0)"
   ]
  },
  {
   "cell_type": "code",
   "execution_count": null,
   "id": "7acb35f9-d769-4989-9b89-ae153df5b6c3",
   "metadata": {},
   "outputs": [],
   "source": [
    "import numpy as np"
   ]
  },
  {
   "cell_type": "code",
   "execution_count": null,
   "id": "afc590e4-578a-40b2-aa23-bf1def3e31c6",
   "metadata": {},
   "outputs": [],
   "source": [
    "df_exploded['first_published'] = pd.to_datetime(df_exploded['first_published'], errors='coerce')\n",
    "df_exploded['year_published'] = df_exploded['first_published'].dt.year  # Extract year only"
   ]
  },
  {
   "cell_type": "code",
   "execution_count": null,
   "id": "4e296b1a-4ed2-4e4d-8040-fc3a99daec52",
   "metadata": {},
   "outputs": [],
   "source": [
    "df_exploded['num_reviews'] = df_exploded['num_reviews'].fillna(0).astype(int)\n",
    "df_exploded['num_ratings'] = df_exploded['num_ratings'].fillna(0).astype(int)"
   ]
  },
  {
   "cell_type": "code",
   "execution_count": null,
   "id": "aa4a5fe8-ba30-47ad-ab2d-377024155652",
   "metadata": {},
   "outputs": [],
   "source": [
    "#exploding community review column\n",
    "df_exploded['2_star_reviews_num'] = df_exploded['community_reviews'].apply(\n",
    "    lambda x: x['2_stars']['reviews_num'] if isinstance(x, dict) and '2_stars' in x else 0)\n",
    "df_exploded['2_star_reviews_percentage'] = df_exploded['community_reviews'].apply(\n",
    "    lambda x: x['2_stars']['reviews_percentage'] if isinstance(x, dict) and '2_stars' in x else 0)\n",
    "\n",
    "df_exploded['3_star_reviews_num'] = df_exploded['community_reviews'].apply(\n",
    "    lambda x: x['3_stars']['reviews_num'] if isinstance(x, dict) and '3_stars' in x else 0)\n",
    "df_exploded['3_star_reviews_percentage'] = df_exploded['community_reviews'].apply(\n",
    "    lambda x: x['3_stars']['reviews_percentage'] if isinstance(x, dict) and '3_stars' in x else 0)\n",
    "\n",
    "df_exploded['4_star_reviews_num'] = df_exploded['community_reviews'].apply(\n",
    "    lambda x: x['4_stars']['reviews_num'] if isinstance(x, dict) and '4_stars' in x else 0)\n",
    "df_exploded['4_star_reviews_percentage'] = df_exploded['community_reviews'].apply(\n",
    "    lambda x: x['4_stars']['reviews_percentage'] if isinstance(x, dict) and '4_stars' in x else 0)"
   ]
  },
  {
   "cell_type": "code",
   "execution_count": null,
   "id": "832669a9-a71d-4c7e-b577-9072d41acbd5",
   "metadata": {},
   "outputs": [],
   "source": [
    "# Drop columns\n",
    "df_exploded = df_exploded.drop(columns=['community_reviews'])\n",
    "\n",
    "df_exploded = df_exploded.drop(columns=['url'])\n",
    "\n",
    "df_exploded = df_exploded.drop(columns=['id'])\n",
    "\n",
    "df_exploded = df_exploded.drop(columns=['first_published'])"
   ]
  },
  {
   "cell_type": "code",
   "execution_count": null,
   "id": "a2f71c12-5a17-4348-b541-10d0a737ae9e",
   "metadata": {},
   "outputs": [],
   "source": [
    "#cleaning author column just in case I want to use it later\n",
    "df_exploded['author'] = df_exploded['author'].apply(lambda x: x.replace('[', '').replace(']', '').replace('\"', '').replace(\"'\", \"\").strip())"
   ]
  },
  {
   "cell_type": "code",
   "execution_count": null,
   "id": "2a416a5c-965a-49e0-8a18-54a1b1fde7d4",
   "metadata": {},
   "outputs": [],
   "source": [
    "# Remove rows where star_rating, num_ratings, and num_reviews are 0 and genres is NaN\n",
    "df_exploded = df_exploded[~((df_exploded['star_rating'] == 0) & \n",
    "          (df_exploded['num_ratings'] == 0) & \n",
    "          (df_exploded['num_reviews'] == 0) & \n",
    "          (df_exploded['genres'].isna()))]"
   ]
  },
  {
   "cell_type": "code",
   "execution_count": null,
   "id": "1382dada-ef3e-462d-bd95-d481e53f86fe",
   "metadata": {},
   "outputs": [],
   "source": [
    "df_exploded['genres'].nunique()"
   ]
  },
  {
   "cell_type": "code",
   "execution_count": null,
   "id": "10cc6322-b639-4726-96ec-5947e4581ef0",
   "metadata": {},
   "outputs": [],
   "source": [
    "mask = (\n",
    "    (df_exploded['star_rating'].fillna(0) == 0) &\n",
    "    (df_exploded['num_ratings'].fillna(0) == 0) &\n",
    "    (df_exploded['num_reviews'].fillna(0) == 0) &\n",
    "    (\n",
    "        df_exploded['genres'].isna() | \n",
    "        (df_exploded['genres'].str.lower() == 'nan') | \n",
    "        (df_exploded['genres'].str.strip() == '') ))"
   ]
  },
  {
   "cell_type": "code",
   "execution_count": null,
   "id": "544b30f8-0218-4e39-92de-67ac30d1b50d",
   "metadata": {},
   "outputs": [],
   "source": [
    "df_masked = df_exploded[mask]\n",
    "print(df_masked)"
   ]
  },
  {
   "cell_type": "code",
   "execution_count": null,
   "id": "32b79572-99d2-4fac-8689-ba3e05a63b10",
   "metadata": {},
   "outputs": [],
   "source": [
    "# View unique values in specific columns\n",
    "unique_genres = df_masked['genres'].unique()\n",
    "unique_star_rating = df_masked['star_rating'].unique()\n",
    "unique_num_ratings = df_masked['num_ratings'].unique()\n",
    "unique_num_reviews = df_masked['num_reviews'].unique()\n",
    "\n",
    "print(\"Unique values in genres:\", unique_genres)\n",
    "print(\"Unique values in star_rating:\", unique_star_rating)\n",
    "print(\"Unique values in num_ratings:\", unique_num_ratings)\n",
    "print(\"Unique values in num_reviews:\", unique_num_reviews)"
   ]
  },
  {
   "cell_type": "code",
   "execution_count": null,
   "id": "a71aca71-ff91-4fef-98ec-ddbad56228cc",
   "metadata": {},
   "outputs": [],
   "source": [
    "df_exploded = df_exploded[~mask]"
   ]
  },
  {
   "cell_type": "code",
   "execution_count": null,
   "id": "22389bdf-2c51-424e-bcae-c7a22bfa0b14",
   "metadata": {},
   "outputs": [],
   "source": [
    "#before\n",
    "print(\"before shape:\", df.shape)\n",
    "\n",
    "#after\n",
    "print(\"after shape:\", df_exploded.shape)"
   ]
  },
  {
   "cell_type": "code",
   "execution_count": null,
   "id": "75256585-f9b1-4c50-9ea4-ffaf15f67a1f",
   "metadata": {},
   "outputs": [],
   "source": [
    "df_exploded = df_exploded.drop(columns=['kindle_price'])"
   ]
  },
  {
   "cell_type": "code",
   "execution_count": null,
   "id": "155a1c80-92e5-4535-ac2b-d283afe1e50a",
   "metadata": {},
   "outputs": [],
   "source": [
    "df_exploded.sample(30)"
   ]
  },
  {
   "cell_type": "code",
   "execution_count": null,
   "id": "26a24e3b-540d-4289-b0b6-0758d1b9cf20",
   "metadata": {},
   "outputs": [],
   "source": [
    "print(df_exploded['star_rating'].value_counts())"
   ]
  },
  {
   "cell_type": "code",
   "execution_count": null,
   "id": "5dfac04e-3e29-43b5-aaaa-7419854eb521",
   "metadata": {},
   "outputs": [],
   "source": [
    "df_exploded.to_csv(\"cleaned_numerical_data_only.csv\", index=True)"
   ]
  },
  {
   "cell_type": "markdown",
   "id": "9a54e1ac-311a-48cb-afea-4f80a747765d",
   "metadata": {},
   "source": [
    "Phase 2: Numerical Data Exploration and Visualization\n",
    "1. Top 20 Most Common Genres\n",
    "Objective: Identify the most frequent book genres."
   ]
  },
  {
   "cell_type": "code",
   "execution_count": null,
   "id": "9f92be95-75a7-489d-9625-efcdf89c3f3e",
   "metadata": {},
   "outputs": [],
   "source": [
    "# visualizations\n",
    "\n",
    "import matplotlib.pyplot as plt\n",
    "import seaborn as sns"
   ]
  },
  {
   "cell_type": "code",
   "execution_count": null,
   "id": "bb9eecc7-c15b-44b0-836a-0db4d5460abc",
   "metadata": {},
   "outputs": [],
   "source": [
    "# Exclude rows where 'genres' is 'nan'\n",
    "filtered_genres = df_exploded.loc[df_exploded['genres'].str.lower() != 'nan', 'genres']\n",
    "\n",
    "# Now get the top 20 genres\n",
    "genre_counts = filtered_genres.value_counts().head(20)\n",
    "\n",
    "plt.figure(figsize=(12, 6))\n",
    "sns.barplot(x=genre_counts.values, y=genre_counts.index, palette=\"viridis\")\n",
    "plt.xlabel(\"Number of Books\")\n",
    "plt.ylabel(\"Genre\")\n",
    "plt.title(\"Top 20 Most Common Genres in the Dataset (excluding 'nan')\")\n",
    "plt.show()"
   ]
  },
  {
   "cell_type": "markdown",
   "id": "7ca5887d-520b-4fe1-9133-24bfe98f7678",
   "metadata": {},
   "source": [
    "### 2. **Genres with the Highest Percentage of 1-Star Reviews**\n",
    "**Objective**: Identify which genres tend to receive the most negative ratings."
   ]
  },
  {
   "cell_type": "code",
   "execution_count": null,
   "id": "53b945f4-1425-4ee3-ad9e-644992d21b95",
   "metadata": {},
   "outputs": [],
   "source": [
    "# Filter out rows where 'genres' is NaN or 'nan'\n",
    "genre_1star_reviews = filtered_genres.groupby('genres')['1_star_reviews_percentage'].mean() \\\n",
    "                                     .sort_values(ascending=False).head(20)\n",
    "\n",
    "plt.figure(figsize=(12, 6))\n",
    "sns.barplot(x=genre_1star_reviews.values, y=genre_1star_reviews.index, palette=\"magma\")\n",
    "plt.xlabel(\"Average Percentage of 1-Star Reviews\")\n",
    "plt.ylabel(\"Genre\")\n",
    "plt.title(\"Top 20 Genres with Highest Proportion of 1-Star Reviews (excluding NaN)\")\n",
    "plt.show()"
   ]
  },
  {
   "cell_type": "markdown",
   "id": "bb699cf8-8f38-4291-91d7-b0a96f250265",
   "metadata": {},
   "source": [
    "### 3. **Relationship Between Number of Ratings and Star Rating**\n",
    "**Objective**: Understand if books with more ratings tend to have higher or lower average ratings."
   ]
  },
  {
   "cell_type": "code",
   "execution_count": null,
   "id": "9c0f751e-45b1-49dd-aa98-0e57340b2341",
   "metadata": {},
   "outputs": [],
   "source": [
    "# Drop rows with NaN in 'star_rating' or 'num_ratings'\n",
    "ratings_df = df_exploded.dropna(subset=['star_rating', 'num_ratings'])\n",
    "\n",
    "plt.figure(figsize=(10, 6))\n",
    "sns.scatterplot(x=ratings_df['num_ratings'], y=ratings_df['star_rating'], alpha=0.5)\n",
    "plt.xscale(\"log\")  # Log scale to handle large numbers\n",
    "plt.xlabel(\"Number of Ratings (log scale)\")\n",
    "plt.ylabel(\"Average Star Rating\")\n",
    "plt.title(\"Relationship Between Number of Ratings and Star Rating\")\n",
    "plt.show()"
   ]
  },
  {
   "cell_type": "markdown",
   "id": "3350d120-5983-4bd0-8d19-1c26f735a6b7",
   "metadata": {},
   "source": [
    "### 4. **Distribution of Star Ratings**\n",
    "**Objective**: Visualize how ratings are spread across all books."
   ]
  },
  {
   "cell_type": "code",
   "execution_count": null,
   "id": "8b18d27c-ec7a-45c8-a256-e9e30a54dd0b",
   "metadata": {},
   "outputs": [],
   "source": [
    "# Drop NaN values in 'star_rating'\n",
    "star_rating_series = df_exploded['star_rating'].dropna()\n",
    "\n",
    "plt.figure(figsize=(8, 5))\n",
    "sns.histplot(star_rating_series, bins=20, kde=True, color=\"blue\")\n",
    "plt.xlabel(\"Star Rating\")\n",
    "plt.ylabel(\"Number of Books\")\n",
    "plt.title(\"Distribution of Star Ratings (excluding NaN)\")\n",
    "plt.show()"
   ]
  },
  {
   "cell_type": "markdown",
   "id": "05382b03-c3be-47ee-afaa-08d809ab1858",
   "metadata": {},
   "source": [
    "### 5. **Correlation Matrix**\n",
    "**Objective**: Identify numerical relationships between rating factors."
   ]
  },
  {
   "cell_type": "code",
   "execution_count": null,
   "id": "429d8705-396f-4369-8573-9b0930aef00b",
   "metadata": {},
   "outputs": [],
   "source": [
    "# Select only the numerical columns\n",
    "num_cols = ['star_rating', 'num_ratings', 'num_reviews',\n",
    "            '1_star_reviews_percentage', '5_star_reviews_percentage',\n",
    "            '2_star_reviews_percentage', '3_star_reviews_percentage',\n",
    "            '4_star_reviews_percentage', \n",
    "            '1_star_reviews_num', '5_star_reviews_num', \n",
    "            '2_star_reviews_num', '3_star_reviews_num', '4_star_reviews_num', \n",
    "            'year_published']\n",
    "\n",
    "# Calculate correlation matrix\n",
    "corr_matrix = df_exploded[num_cols].corr()\n",
    "\n",
    "# Plot the heatmap\n",
    "plt.figure(figsize=(12, 10))\n",
    "sns.heatmap(corr_matrix, annot=True, cmap=\"coolwarm\", fmt=\".2f\")\n",
    "plt.title(\"Correlation Matrix of Numerical Variables\")\n",
    "plt.show()"
   ]
  }
 ],
 "metadata": {
  "kernelspec": {
   "display_name": "Python 3 (ipykernel)",
   "language": "python",
   "name": "python3"
  },
  "language_info": {
   "codemirror_mode": {
    "name": "ipython",
    "version": 3
   },
   "file_extension": ".py",
   "mimetype": "text/x-python",
   "name": "python",
   "nbconvert_exporter": "python",
   "pygments_lexer": "ipython3",
   "version": "3.12.4"
  }
 },
 "nbformat": 4,
 "nbformat_minor": 5
}
